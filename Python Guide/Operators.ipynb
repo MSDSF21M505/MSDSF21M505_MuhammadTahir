{
 "cells": [
  {
   "cell_type": "markdown",
   "id": "9a16d4ab-8194-4962-aaaa-60f1dac42fce",
   "metadata": {},
   "source": [
    "## Operators\n",
    "*Operator is special symbols that used to perform arithmetic or logical computation. The value on which the operator operates called operand*"
   ]
  },
  {
   "cell_type": "markdown",
   "id": "66ba26b3-bca3-4a15-b207-80775c74bbcc",
   "metadata": {},
   "source": [
    "### Types of Operators\n",
    "* Arithmetic Operator\n",
    "* Comparison Operator\n",
    "* Assignment Operator\n",
    "* Logical Operator\n",
    "* Bitwise Operator\n",
    "* Identitiy Operator\n",
    "* Membership Operator"
   ]
  },
  {
   "cell_type": "markdown",
   "id": "1ffcdd9d-cd5e-4682-987c-11440f8a8448",
   "metadata": {},
   "source": [
    "### Arithmetic Operator\n",
    "Arithmetic Operator used to perform following mathatica operation like\n",
    "* `+` Addition\n",
    "* `-` Subtraction\n",
    "* `*` Multiplication\n",
    "* `/` Division\n",
    "* `//` Floor Division\n",
    "* `**` Exponential\n",
    "\n",
    "##### Note: All Arithmetic Operator return int only division return float. Precedence of All operator is from Left to Right except exponential operator (Right to Left)"
   ]
  },
  {
   "cell_type": "code",
   "execution_count": 1,
   "id": "7588d72c-382b-4f89-baa3-6e59f2f28c96",
   "metadata": {},
   "outputs": [
    {
     "data": {
      "text/plain": [
       "(int, 20)"
      ]
     },
     "execution_count": 1,
     "metadata": {},
     "output_type": "execute_result"
    }
   ],
   "source": [
    "a=10+10\n",
    "type(a),a"
   ]
  },
  {
   "cell_type": "code",
   "execution_count": 2,
   "id": "10246def-9dd3-443c-afc0-2c704f425443",
   "metadata": {},
   "outputs": [
    {
     "data": {
      "text/plain": [
       "(int, -10)"
      ]
     },
     "execution_count": 2,
     "metadata": {},
     "output_type": "execute_result"
    }
   ],
   "source": [
    "a=10-20\n",
    "type(a),a"
   ]
  },
  {
   "cell_type": "code",
   "execution_count": 6,
   "id": "76a56d48-ca94-4f9a-a5a5-fda88ce4aee7",
   "metadata": {},
   "outputs": [
    {
     "data": {
      "text/plain": [
       "(int, 4)"
      ]
     },
     "execution_count": 6,
     "metadata": {},
     "output_type": "execute_result"
    }
   ],
   "source": [
    "a=2*2\n",
    "type(a),a"
   ]
  },
  {
   "cell_type": "code",
   "execution_count": 3,
   "id": "d18c96fc-e89a-464f-a3ae-ed1e21ee21ac",
   "metadata": {},
   "outputs": [
    {
     "data": {
      "text/plain": [
       "(float, 2.0)"
      ]
     },
     "execution_count": 3,
     "metadata": {},
     "output_type": "execute_result"
    }
   ],
   "source": [
    "a=20/10\n",
    "type(a),a"
   ]
  },
  {
   "cell_type": "code",
   "execution_count": 4,
   "id": "62565f43-d220-45be-a544-2fea71d7a483",
   "metadata": {},
   "outputs": [
    {
     "data": {
      "text/plain": [
       "(int, 10)"
      ]
     },
     "execution_count": 4,
     "metadata": {},
     "output_type": "execute_result"
    }
   ],
   "source": [
    "a=20//2\n",
    "type(a),a"
   ]
  },
  {
   "cell_type": "code",
   "execution_count": 7,
   "id": "7ee6031c-adba-4691-8e7d-612f2b331bd2",
   "metadata": {},
   "outputs": [
    {
     "data": {
      "text/plain": [
       "(int, 400)"
      ]
     },
     "execution_count": 7,
     "metadata": {},
     "output_type": "execute_result"
    }
   ],
   "source": [
    "a=20**2\n",
    "type(a),a"
   ]
  },
  {
   "cell_type": "code",
   "execution_count": 11,
   "id": "93b85763-0c12-4861-aeb5-895d8ee3f62c",
   "metadata": {},
   "outputs": [
    {
     "name": "stdout",
     "output_type": "stream",
     "text": [
      "4\n",
      "14\n"
     ]
    }
   ],
   "source": [
    "## Use brackets for associativity of operators  \n",
    "a=10-3*2\n",
    "print(a)\n",
    "b=(10-3)*2\n",
    "print(b)"
   ]
  },
  {
   "cell_type": "markdown",
   "id": "45120069-dca4-41d1-899d-d2a776c707cb",
   "metadata": {},
   "source": [
    "## Comparison Operator\n",
    "*Used to compare the values and result is in bool type*"
   ]
  },
  {
   "cell_type": "code",
   "execution_count": 13,
   "id": "a95070f9-b45f-46dc-94df-a9363a3f82f4",
   "metadata": {},
   "outputs": [
    {
     "data": {
      "text/plain": [
       "True"
      ]
     },
     "execution_count": 13,
     "metadata": {},
     "output_type": "execute_result"
    }
   ],
   "source": [
    "a=10\n",
    "b=10\n",
    "a==b"
   ]
  },
  {
   "cell_type": "code",
   "execution_count": 17,
   "id": "09f077c4-4aef-4c17-9b36-4b9508b02bc5",
   "metadata": {},
   "outputs": [
    {
     "data": {
      "text/plain": [
       "False"
      ]
     },
     "execution_count": 17,
     "metadata": {},
     "output_type": "execute_result"
    }
   ],
   "source": [
    "a=-2.2\n",
    "b=-2\n",
    "a>b"
   ]
  },
  {
   "cell_type": "code",
   "execution_count": 18,
   "id": "7dacfbb1-ab63-4ae9-89e8-d05672952377",
   "metadata": {},
   "outputs": [
    {
     "data": {
      "text/plain": [
       "True"
      ]
     },
     "execution_count": 18,
     "metadata": {},
     "output_type": "execute_result"
    }
   ],
   "source": [
    "a=10\n",
    "b=5\n",
    "a>=b"
   ]
  },
  {
   "cell_type": "markdown",
   "id": "56312bb6-64c3-4988-a3ed-f3dab25426a1",
   "metadata": {},
   "source": [
    "## Assignment Operator\n",
    "*Assignment Operator is use to assign value to a variable*"
   ]
  },
  {
   "cell_type": "code",
   "execution_count": 23,
   "id": "842a3cb1-79bb-458a-927f-1073169f61f8",
   "metadata": {},
   "outputs": [
    {
     "data": {
      "text/plain": [
       "12"
      ]
     },
     "execution_count": 23,
     "metadata": {},
     "output_type": "execute_result"
    }
   ],
   "source": [
    "a=10\n",
    "a+=2\n",
    "a"
   ]
  },
  {
   "cell_type": "code",
   "execution_count": 25,
   "id": "a9b31854-6f3e-446d-bdde-83cb2b797386",
   "metadata": {},
   "outputs": [
    {
     "data": {
      "text/plain": [
       "24"
      ]
     },
     "execution_count": 25,
     "metadata": {},
     "output_type": "execute_result"
    }
   ],
   "source": [
    "a=22\n",
    "a+2"
   ]
  },
  {
   "cell_type": "code",
   "execution_count": 26,
   "id": "cbe096bf-5554-49bf-933f-7c93875c0761",
   "metadata": {},
   "outputs": [
    {
     "data": {
      "text/plain": [
       "22"
      ]
     },
     "execution_count": 26,
     "metadata": {},
     "output_type": "execute_result"
    }
   ],
   "source": [
    "a=11\n",
    "a=a*2\n",
    "a"
   ]
  },
  {
   "cell_type": "markdown",
   "id": "2c4b210e-a9fa-4e99-bf74-b5587e4348f5",
   "metadata": {},
   "source": [
    "## Logical Operator\n",
    "*Logical operators used on Conditional Statements*\n",
    "* `and`\n",
    "* `or`\n",
    "* `not`\n"
   ]
  },
  {
   "cell_type": "code",
   "execution_count": 28,
   "id": "379f086d-de66-4188-bfa8-944207db9e17",
   "metadata": {},
   "outputs": [
    {
     "data": {
      "text/plain": [
       "'Hello'"
      ]
     },
     "execution_count": 28,
     "metadata": {},
     "output_type": "execute_result"
    }
   ],
   "source": [
    "## or operator evaluate the First argument if it is Falsy value then it evaluate the second argument\n",
    "a=[] or \"Hello\"\n",
    "a"
   ]
  },
  {
   "cell_type": "code",
   "execution_count": 30,
   "id": "88d8ed91-3582-456c-b690-be096fdf43d2",
   "metadata": {},
   "outputs": [
    {
     "data": {
      "text/plain": [
       "True"
      ]
     },
     "execution_count": 30,
     "metadata": {},
     "output_type": "execute_result"
    }
   ],
   "source": [
    "a=True or False\n",
    "a"
   ]
  },
  {
   "cell_type": "code",
   "execution_count": 31,
   "id": "0f6b209e-1ff7-453e-9d84-f4c82f0d841a",
   "metadata": {},
   "outputs": [
    {
     "data": {
      "text/plain": [
       "[]"
      ]
     },
     "execution_count": 31,
     "metadata": {},
     "output_type": "execute_result"
    }
   ],
   "source": [
    "## or operator evaluate the First argument if it is Falsy value then it not evaluate the second argument\n",
    "a=[] and \"Hello\"\n",
    "a"
   ]
  },
  {
   "cell_type": "code",
   "execution_count": 39,
   "id": "ffdb8708-c187-4286-82e2-518b35822150",
   "metadata": {},
   "outputs": [
    {
     "data": {
      "text/plain": [
       "False"
      ]
     },
     "execution_count": 39,
     "metadata": {},
     "output_type": "execute_result"
    }
   ],
   "source": [
    "a=True and False\n",
    "a"
   ]
  },
  {
   "cell_type": "code",
   "execution_count": 40,
   "id": "6b103c82-3b7e-49a6-8822-02a41d3bbfb8",
   "metadata": {},
   "outputs": [
    {
     "data": {
      "text/plain": [
       "False"
      ]
     },
     "execution_count": 40,
     "metadata": {},
     "output_type": "execute_result"
    }
   ],
   "source": [
    "a=False and False\n",
    "a"
   ]
  },
  {
   "cell_type": "code",
   "execution_count": 37,
   "id": "ee84b290-a04d-4297-9ca7-5a5b6fb1efff",
   "metadata": {},
   "outputs": [
    {
     "data": {
      "text/plain": [
       "True"
      ]
     },
     "execution_count": 37,
     "metadata": {},
     "output_type": "execute_result"
    }
   ],
   "source": [
    "## Not reverse the output answer\n",
    "a=not []\n",
    "a"
   ]
  },
  {
   "cell_type": "markdown",
   "id": "b76e7a38-caac-4c36-94ff-c009ce6310af",
   "metadata": {},
   "source": [
    "## Bitwise Operator\n",
    "*Bitwise Operator used to perform bitwise operation on bit paatern or bit numeral that involve in the manipulation of bit*\n",
    "* `&` Bitwise AND \n",
    "* `|` Bitwise OR\n",
    "* `>>` Shift Right\n",
    "* `<<` Shift Left"
   ]
  },
  {
   "cell_type": "code",
   "execution_count": 44,
   "id": "bda7dfa2-d44c-440f-b522-475127cfe785",
   "metadata": {},
   "outputs": [
    {
     "data": {
      "text/plain": [
       "2"
      ]
     },
     "execution_count": 44,
     "metadata": {},
     "output_type": "execute_result"
    }
   ],
   "source": [
    "## Bitwsie AND not perform on Float values\n",
    "a=10\n",
    "b=22\n",
    "a&b"
   ]
  },
  {
   "cell_type": "code",
   "execution_count": 45,
   "id": "4bf2f32d-8cde-45d9-8a71-ac08a930903a",
   "metadata": {},
   "outputs": [
    {
     "data": {
      "text/plain": [
       "30"
      ]
     },
     "execution_count": 45,
     "metadata": {},
     "output_type": "execute_result"
    }
   ],
   "source": [
    "a=10\n",
    "b=20\n",
    "a|b"
   ]
  },
  {
   "cell_type": "code",
   "execution_count": 48,
   "id": "5ad891fb-8c04-4259-af54-6e2fc466f330",
   "metadata": {},
   "outputs": [
    {
     "data": {
      "text/plain": [
       "1"
      ]
     },
     "execution_count": 48,
     "metadata": {},
     "output_type": "execute_result"
    }
   ],
   "source": [
    "a=5\n",
    "a>>2"
   ]
  },
  {
   "cell_type": "code",
   "execution_count": 50,
   "id": "9d1a9ade-112e-4663-ac84-6e9a5adb97fb",
   "metadata": {},
   "outputs": [
    {
     "data": {
      "text/plain": [
       "-144"
      ]
     },
     "execution_count": 50,
     "metadata": {},
     "output_type": "execute_result"
    }
   ],
   "source": [
    "a=-9\n",
    "a<<4"
   ]
  },
  {
   "cell_type": "markdown",
   "id": "383afd6f-f891-45f4-8d6e-fcca6a2b0300",
   "metadata": {},
   "source": [
    "## Identity Operator\n",
    "*Used to compare the id of the variable, whther it is pointing to the same memmory location or not*\n",
    "* `is` and `is not` is the identity operator"
   ]
  },
  {
   "cell_type": "code",
   "execution_count": 55,
   "id": "cc4e038c-3900-49bc-9c57-f90ba25db977",
   "metadata": {},
   "outputs": [
    {
     "data": {
      "text/plain": [
       "(True, 1559790643792, 1559790643792)"
      ]
     },
     "execution_count": 55,
     "metadata": {},
     "output_type": "execute_result"
    }
   ],
   "source": [
    "a=10\n",
    "b=10\n",
    "a is b,id(a),id(b)"
   ]
  },
  {
   "cell_type": "code",
   "execution_count": 57,
   "id": "f3a8d7d7-888b-4f2a-8f17-c9fc8d992d4f",
   "metadata": {},
   "outputs": [
    {
     "data": {
      "text/plain": [
       "(False, 1559790643792, 1559790643792)"
      ]
     },
     "execution_count": 57,
     "metadata": {},
     "output_type": "execute_result"
    }
   ],
   "source": [
    "a=10\n",
    "b=10\n",
    "a is not b,id(a),id(b)"
   ]
  },
  {
   "cell_type": "markdown",
   "id": "bb120250-8248-4181-a91f-cc0f1c790df6",
   "metadata": {},
   "source": [
    "## Membership Operator \n",
    "*Membership operator is used to find whether the value of one variable is present in the second variable or not*\n",
    "* `in` and `not in` is used as membership operator"
   ]
  },
  {
   "cell_type": "code",
   "execution_count": 63,
   "id": "80ba66aa-8711-4a40-9775-67a3c1359dd0",
   "metadata": {},
   "outputs": [
    {
     "name": "stdout",
     "output_type": "stream",
     "text": [
      "True\n"
     ]
    }
   ],
   "source": [
    "a=10,20,30\n",
    "b=30\n",
    "print(b in a)"
   ]
  },
  {
   "cell_type": "code",
   "execution_count": 66,
   "id": "db45966c-1974-4046-9b8e-a06e33bc0aa8",
   "metadata": {},
   "outputs": [
    {
     "data": {
      "text/plain": [
       "False"
      ]
     },
     "execution_count": 66,
     "metadata": {},
     "output_type": "execute_result"
    }
   ],
   "source": [
    "a=10,30,40\n",
    "b=50\n",
    "b in a"
   ]
  },
  {
   "cell_type": "code",
   "execution_count": 67,
   "id": "8ddda4e9-a1f3-43ca-9dfb-26d084792ea1",
   "metadata": {},
   "outputs": [
    {
     "data": {
      "text/plain": [
       "True"
      ]
     },
     "execution_count": 67,
     "metadata": {},
     "output_type": "execute_result"
    }
   ],
   "source": [
    "a=10,30,40\n",
    "b=50\n",
    "b not in a"
   ]
  }
 ],
 "metadata": {
  "kernelspec": {
   "display_name": "Python 3 (ipykernel)",
   "language": "python",
   "name": "python3"
  },
  "language_info": {
   "codemirror_mode": {
    "name": "ipython",
    "version": 3
   },
   "file_extension": ".py",
   "mimetype": "text/x-python",
   "name": "python",
   "nbconvert_exporter": "python",
   "pygments_lexer": "ipython3",
   "version": "3.9.7"
  }
 },
 "nbformat": 4,
 "nbformat_minor": 5
}
