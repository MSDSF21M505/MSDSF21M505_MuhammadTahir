{
 "cells": [
  {
   "cell_type": "markdown",
   "id": "7805b2ae-89f8-4743-870e-1176805e98d2",
   "metadata": {},
   "source": [
    "### if-else => Decision Making\n",
    "if else in python used whre we want to make a decision and the flow of execution from one code block to another is done on the basis of the decision"
   ]
  },
  {
   "cell_type": "markdown",
   "id": "a3d8d23a-9824-4d44-b794-fad05172e241",
   "metadata": {},
   "source": [
    "### Expression vs Statement\n",
    "- **Expression** is a piece of code that evaluate to a value. Normally, it is on the right side of the assignment operator.\n",
    "- **Statement** is a instruction that is executed"
   ]
  },
  {
   "cell_type": "code",
   "execution_count": 7,
   "id": "309876b6-73ce-40e8-a879-6ffd0266e5d9",
   "metadata": {},
   "outputs": [
    {
     "name": "stdout",
     "output_type": "stream",
     "text": [
      "Number is greater than 6\n"
     ]
    }
   ],
   "source": [
    "a=10;\n",
    "if(a<6):\n",
    "    print(\"Number is smaller than 6\")\n",
    "else:\n",
    "    print(\"Number is greater than 6\")"
   ]
  },
  {
   "cell_type": "markdown",
   "id": "1c527dd0-1a10-4606-b429-f68eb2c8c234",
   "metadata": {},
   "source": [
    "### Branching\n",
    "Ability to make a decision and exute different statements based on whether a condition is true or not.\n"
   ]
  },
  {
   "cell_type": "code",
   "execution_count": 9,
   "id": "172d3f92-664b-4531-8351-e409396958d3",
   "metadata": {},
   "outputs": [
    {
     "name": "stdin",
     "output_type": "stream",
     "text": [
      "Enter a number 23\n"
     ]
    },
    {
     "name": "stdout",
     "output_type": "stream",
     "text": [
      "23 is odd\n"
     ]
    }
   ],
   "source": [
    "# Code to check whether a number is odd or even.\n",
    "a=int(input(\"Enter a number\"))\n",
    "if(a%2==0):\n",
    "    print('{} is even'.format(a))\n",
    "else:\n",
    "    print('{} is odd'.format(a));"
   ]
  },
  {
   "cell_type": "code",
   "execution_count": 15,
   "id": "37bf2497-4618-44e0-aad0-e49a00071cdb",
   "metadata": {},
   "outputs": [
    {
     "name": "stdin",
     "output_type": "stream",
     "text": [
      "Enter a number -1\n"
     ]
    },
    {
     "name": "stdout",
     "output_type": "stream",
     "text": [
      "-1 is negative number\n"
     ]
    }
   ],
   "source": [
    "# Code to check whether a number is positive or negative\n",
    "a=int(input(\"Enter a number\"))\n",
    "if(a<0):\n",
    "    print('{} is negative number'.format(a));\n",
    "else:\n",
    "     print('{} is positive number'.format(a));"
   ]
  },
  {
   "cell_type": "markdown",
   "id": "af130ee2-6f40-49c8-b2f0-6b94a5ec39c9",
   "metadata": {},
   "source": [
    "### Ternary If-else"
   ]
  },
  {
   "cell_type": "code",
   "execution_count": 20,
   "id": "d922b184-8195-4561-b628-62b8952e8823",
   "metadata": {},
   "outputs": [
    {
     "name": "stdin",
     "output_type": "stream",
     "text": [
      "Enter a number 1\n"
     ]
    },
    {
     "name": "stdout",
     "output_type": "stream",
     "text": [
      "Number is smaller than 5\n"
     ]
    }
   ],
   "source": [
    "a=int(input(\"Enter a number\"))\n",
    "b=5;\n",
    "print(\"Number is greater than {}\".format(b) if(a > b) else \"Number is smaller than {}\".format(b))"
   ]
  },
  {
   "cell_type": "markdown",
   "id": "2894e0ea-875e-4ae5-bb4d-a42dbfc7bfff",
   "metadata": {},
   "source": [
    "### Nested if-else\n",
    "if else inside the if or else condition"
   ]
  },
  {
   "cell_type": "code",
   "execution_count": 29,
   "id": "580c5c75-6918-4163-bce0-2e2bae89dc3c",
   "metadata": {},
   "outputs": [
    {
     "name": "stdin",
     "output_type": "stream",
     "text": [
      "Enter your age 19\n"
     ]
    },
    {
     "name": "stdout",
     "output_type": "stream",
     "text": [
      "You are Adult\n"
     ]
    },
    {
     "name": "stdin",
     "output_type": "stream",
     "text": [
      "Do You have a CNIC? Y or N n\n"
     ]
    },
    {
     "name": "stdout",
     "output_type": "stream",
     "text": [
      "You not cast a vote\n"
     ]
    }
   ],
   "source": [
    "a=int(input(\"Enter your age\"))\n",
    "if(a>18):\n",
    "    print(\"You are Adult\");\n",
    "    b=str(input(\"Do You have a CNIC? Y or N\"));\n",
    "    if(b.upper()=='Y'):\n",
    "        print(\"You cast a vote\")\n",
    "    else:\n",
    "          print(\"You not cast a vote\")\n",
    "else:\n",
    "    print(\"You are a child\")\n",
    "        "
   ]
  },
  {
   "cell_type": "markdown",
   "id": "3b97a204-f876-453a-a5a2-4a1a3711beb3",
   "metadata": {},
   "source": [
    "### Ladder If elif else\n",
    "if one condition is False then check another condition and so on make a lader"
   ]
  },
  {
   "cell_type": "code",
   "execution_count": 30,
   "id": "d56c7d71-0919-480c-80f3-ecbc2797682e",
   "metadata": {},
   "outputs": [
    {
     "name": "stdin",
     "output_type": "stream",
     "text": [
      "Enter your marks 12\n"
     ]
    },
    {
     "name": "stdout",
     "output_type": "stream",
     "text": [
      "Your Grade is not good\n"
     ]
    }
   ],
   "source": [
    "a=int(input(\"Enter your marks\"))\n",
    "if(a>=85):\n",
    "    print(\"Grade A\");\n",
    "elif(a>=80 and a<85):\n",
    "    print(\"Grade A+\");\n",
    "elif(a>=75  and a<80):\n",
    "    print(\"Grade A-\");\n",
    "elif(a>=70 and a<75):\n",
    "    print(\"Grade B+\");\n",
    "else:\n",
    "    print(\"Your Grade is not good\")"
   ]
  },
  {
   "cell_type": "markdown",
   "id": "b902021e-a594-49b0-9844-7d2bea175f18",
   "metadata": {},
   "source": [
    "### Pass Statement\n",
    "Pass statement is used when you not know what statement you execute if the condition become True or false."
   ]
  },
  {
   "cell_type": "code",
   "execution_count": 40,
   "id": "d94842c4-dc8b-425d-a3bb-91e9b3078f2c",
   "metadata": {},
   "outputs": [
    {
     "name": "stdin",
     "output_type": "stream",
     "text": [
      "Enter a number 12\n"
     ]
    }
   ],
   "source": [
    "a=int(input(\"Enter a number\"));\n",
    "if(a>5):\n",
    "    pass\n",
    "else:\n",
    "    print(\"Number is smaller than {}\".format(5))"
   ]
  },
  {
   "cell_type": "code",
   "execution_count": 46,
   "id": "e3ead51c-363d-4b45-a387-b0ed13d75b56",
   "metadata": {},
   "outputs": [
    {
     "name": "stdin",
     "output_type": "stream",
     "text": [
      "Enter a month name e.g January February 20\n"
     ]
    },
    {
     "name": "stdout",
     "output_type": "stream",
     "text": [
      "Wrong Month enter\n"
     ]
    }
   ],
   "source": [
    "a=str(input(\"Enter a month name e.g January February\"));\n",
    "if(a.title()=='January'):\n",
    "    print('Enter Month is {}'.format(a.capitalize()))\n",
    "elif(a.title()=='February'):\n",
    "    print('Enter Month is {}'.format(a.capitalize()))\n",
    "elif(a.title()=='March'):\n",
    "    print('Enter Month is {}'.format(a.capitalize()))\n",
    "elif(a.title()=='April'):\n",
    "    print('Enter Month is {}'.format(a.capitalize()))\n",
    "elif(a.title()=='May'):\n",
    "    print('Enter Month is {}'.format(a.capitalize()))\n",
    "elif(a.title()=='June'):\n",
    "    print('Enter Month is {}'.format(a.capitalize()))\n",
    "elif(a.title()=='July'):\n",
    "    print('Enter Month is {}'.format(a.capitalize()))\n",
    "elif(a.title()=='August'):\n",
    "    print('Enter Month is {}'.format(a.capitalize()))\n",
    "elif(a.title()=='September'):\n",
    "    print('Enter Month is {}'.format(a.capitalize()))\n",
    "elif(a.title()=='October'):\n",
    "    print('Enter Month is {}'.format(a.capitalize()))\n",
    "elif(a.title()=='November'):\n",
    "    print('Enter Month is {}'.format(a.capitalize()))\n",
    "elif(a.title()=='December'):\n",
    "    print('Enter Month is {}'.format(a.capitalize()))\n",
    "else:\n",
    "    print(\"Wrong Month enter\")"
   ]
  }
 ],
 "metadata": {
  "kernelspec": {
   "display_name": "Python 3 (ipykernel)",
   "language": "python",
   "name": "python3"
  },
  "language_info": {
   "codemirror_mode": {
    "name": "ipython",
    "version": 3
   },
   "file_extension": ".py",
   "mimetype": "text/x-python",
   "name": "python",
   "nbconvert_exporter": "python",
   "pygments_lexer": "ipython3",
   "version": "3.9.7"
  }
 },
 "nbformat": 4,
 "nbformat_minor": 5
}
