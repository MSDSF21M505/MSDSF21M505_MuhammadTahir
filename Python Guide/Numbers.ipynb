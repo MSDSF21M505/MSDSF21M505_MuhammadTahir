{
 "cells": [
  {
   "cell_type": "markdown",
   "id": "bce70f59-cdff-4611-8abc-e915af83c3d6",
   "metadata": {},
   "source": [
    "## Numbers\n",
    "*Numbers are python data type that is numerical literal or returned as result of arthimetic operators or arithmetic functions.*\n",
    "### Types of Number Data Type\n",
    "\n",
    "#### Integer\n",
    "*Integer is a positive or negative whole number. It ranges from negative infinity to positive infinity. It has int type i.e 10,20,1000,30000 etc*\n",
    "\n",
    "#### Float\n",
    "*Float is a machine level double percision floating point numbers.It has float type i.e 12.0,0.2,12e-12. It can be scientificaly denoted by using symbol e which mean the power of 10*\n",
    "\n",
    "#### Complex Number\n",
    "*Complex Number is the pair of machine level double precision floating point number. It has complex type i.e 2+3j. It has two parts real part and imaginary part*\n",
    "\n",
    "#### Boolean \n",
    "*Boolean is the data type that return true or false. It has bool type. It is used to check the logic and comparison*"
   ]
  },
  {
   "cell_type": "markdown",
   "id": "ce1edfc9-6609-4bfc-9c9b-c9de664c3ec8",
   "metadata": {},
   "source": [
    "## Integer"
   ]
  },
  {
   "cell_type": "code",
   "execution_count": 1,
   "id": "5d402a12-4717-43ef-8766-d213d15d6be8",
   "metadata": {},
   "outputs": [
    {
     "data": {
      "text/plain": [
       "(int, 10)"
      ]
     },
     "execution_count": 1,
     "metadata": {},
     "output_type": "execute_result"
    }
   ],
   "source": [
    "a=10;\n",
    "type(a),a"
   ]
  },
  {
   "cell_type": "code",
   "execution_count": 2,
   "id": "82d5a2cc-5c96-4048-8d35-07567c2943be",
   "metadata": {},
   "outputs": [
    {
     "data": {
      "text/plain": [
       "(int, 2000000)"
      ]
     },
     "execution_count": 2,
     "metadata": {},
     "output_type": "execute_result"
    }
   ],
   "source": [
    "a=2000000;\n",
    "type(a),a"
   ]
  },
  {
   "cell_type": "code",
   "execution_count": 3,
   "id": "d1ad01ac-01ed-40f9-9b49-9e2b0593d393",
   "metadata": {},
   "outputs": [
    {
     "name": "stdout",
     "output_type": "stream",
     "text": [
      "<class 'int'>\n"
     ]
    }
   ],
   "source": [
    "a=int(20)\n",
    "print(type(a))"
   ]
  },
  {
   "cell_type": "code",
   "execution_count": 4,
   "id": "4961ccde-f06e-4f7f-b7ea-c0c1adb55fcb",
   "metadata": {},
   "outputs": [
    {
     "data": {
      "text/plain": [
       "True"
      ]
     },
     "execution_count": 4,
     "metadata": {},
     "output_type": "execute_result"
    }
   ],
   "source": [
    "##Compare the data type and return result in bool\n",
    "a=10\n",
    "isinstance(a,int) "
   ]
  },
  {
   "cell_type": "code",
   "execution_count": 5,
   "id": "efceabf7-738c-4373-8bfc-b53f94fed0e7",
   "metadata": {},
   "outputs": [
    {
     "data": {
      "text/plain": [
       "True"
      ]
     },
     "execution_count": 5,
     "metadata": {},
     "output_type": "execute_result"
    }
   ],
   "source": [
    "a=202\n",
    "type(a)==int"
   ]
  },
  {
   "cell_type": "markdown",
   "id": "03e0ae5b-ad18-4786-9726-20c90fdd5e16",
   "metadata": {},
   "source": [
    "## Float"
   ]
  },
  {
   "cell_type": "code",
   "execution_count": 19,
   "id": "8079d835-b1b2-4161-bd7b-64d89a009ae9",
   "metadata": {},
   "outputs": [
    {
     "data": {
      "text/plain": [
       "(float, 2.2)"
      ]
     },
     "execution_count": 19,
     "metadata": {},
     "output_type": "execute_result"
    }
   ],
   "source": [
    "b=2.2\n",
    "type(b),b"
   ]
  },
  {
   "cell_type": "code",
   "execution_count": 20,
   "id": "a4052826-ae62-4061-9c4d-8d8e4827adbc",
   "metadata": {},
   "outputs": [
    {
     "data": {
      "text/plain": [
       "(float, 0.022)"
      ]
     },
     "execution_count": 20,
     "metadata": {},
     "output_type": "execute_result"
    }
   ],
   "source": [
    "b=2.2e-2\n",
    "type(b),b"
   ]
  },
  {
   "cell_type": "code",
   "execution_count": 21,
   "id": "720d7cc3-0d9d-4b1f-8099-e4118a8fc207",
   "metadata": {},
   "outputs": [
    {
     "data": {
      "text/plain": [
       "(float, 10.0)"
      ]
     },
     "execution_count": 21,
     "metadata": {},
     "output_type": "execute_result"
    }
   ],
   "source": [
    "##return result in tuple\n",
    "b=float(10) \n",
    "type(b),b "
   ]
  },
  {
   "cell_type": "code",
   "execution_count": 24,
   "id": "0f2b159e-2961-46fb-909d-82843f168c92",
   "metadata": {},
   "outputs": [
    {
     "data": {
      "text/plain": [
       "True"
      ]
     },
     "execution_count": 24,
     "metadata": {},
     "output_type": "execute_result"
    }
   ],
   "source": [
    "##Compare the data type and return result in bool\n",
    "b=10.2\n",
    "isinstance(b,float) "
   ]
  },
  {
   "cell_type": "code",
   "execution_count": 25,
   "id": "029a2653-7be1-4446-8788-eadb204b5031",
   "metadata": {},
   "outputs": [
    {
     "data": {
      "text/plain": [
       "True"
      ]
     },
     "execution_count": 25,
     "metadata": {},
     "output_type": "execute_result"
    }
   ],
   "source": [
    "b=.20\n",
    "type(b)==float "
   ]
  },
  {
   "cell_type": "markdown",
   "id": "450f2ec2-3744-4fa0-8d38-498f376de2c3",
   "metadata": {},
   "source": [
    "## Complex Number"
   ]
  },
  {
   "cell_type": "code",
   "execution_count": 28,
   "id": "6f44b35a-7780-48f9-9b07-ea93d0dcf87d",
   "metadata": {},
   "outputs": [
    {
     "data": {
      "text/plain": [
       "(complex, (2+3j))"
      ]
     },
     "execution_count": 28,
     "metadata": {},
     "output_type": "execute_result"
    }
   ],
   "source": [
    "c=complex(2,3)\n",
    "type(c),c"
   ]
  },
  {
   "cell_type": "code",
   "execution_count": 35,
   "id": "b56a60d2-83d2-49e4-a3e9-34f70fdde2d4",
   "metadata": {},
   "outputs": [
    {
     "name": "stdout",
     "output_type": "stream",
     "text": [
      "(3+4.5j)\n",
      "Real Part 3.0\n",
      "Imaginary Part 4.5\n"
     ]
    }
   ],
   "source": [
    "## return result in float\n",
    "c=complex(3,4.5) \n",
    "print(c)\n",
    "print(\"Real Part\",c.real)\n",
    "print(\"Imaginary Part\",c.imag)"
   ]
  },
  {
   "cell_type": "code",
   "execution_count": 37,
   "id": "00a35b60-4f7a-4b81-a424-888be622b837",
   "metadata": {},
   "outputs": [
    {
     "data": {
      "text/plain": [
       "True"
      ]
     },
     "execution_count": 37,
     "metadata": {},
     "output_type": "execute_result"
    }
   ],
   "source": [
    "##Compare the data type and return result in bool\n",
    "c=2-3j\n",
    "type(c)==complex  "
   ]
  },
  {
   "cell_type": "code",
   "execution_count": 40,
   "id": "f97da3c0-74f5-4d1a-9ea2-f25885a374b0",
   "metadata": {},
   "outputs": [
    {
     "data": {
      "text/plain": [
       "True"
      ]
     },
     "execution_count": 40,
     "metadata": {},
     "output_type": "execute_result"
    }
   ],
   "source": [
    "c=2*3.05j\n",
    "isinstance(c,complex)"
   ]
  },
  {
   "cell_type": "markdown",
   "id": "c801141b-79f2-4d15-99f8-968c463e6460",
   "metadata": {},
   "source": [
    "## Type Casting\n",
    "*Conversion of one data type into another data type is called type casting*"
   ]
  },
  {
   "cell_type": "code",
   "execution_count": 46,
   "id": "bacefda9-bdde-4170-889d-21e0bac970a6",
   "metadata": {},
   "outputs": [
    {
     "name": "stdout",
     "output_type": "stream",
     "text": [
      "<class 'int'> 10\n",
      "<class 'str'> 10\n"
     ]
    }
   ],
   "source": [
    "## Type casting from int to string\n",
    "d=10;\n",
    "print(type(d),d)\n",
    "f=str(d)\n",
    "print(type(f),f)"
   ]
  },
  {
   "cell_type": "code",
   "execution_count": 47,
   "id": "304fbf62-0e49-4dc4-9edb-05c40df9dc5d",
   "metadata": {},
   "outputs": [
    {
     "name": "stdout",
     "output_type": "stream",
     "text": [
      "<class 'str'> 20\n",
      "<class 'int'> 20\n"
     ]
    }
   ],
   "source": [
    "## Type Casting from string to int\n",
    "d=\"20\"\n",
    "print(type(d),d)\n",
    "f=int(d)\n",
    "print(type(f),f)"
   ]
  },
  {
   "cell_type": "code",
   "execution_count": 48,
   "id": "251f9fe6-c37b-4efc-b221-ff4f887ec342",
   "metadata": {},
   "outputs": [
    {
     "name": "stdout",
     "output_type": "stream",
     "text": [
      "<class 'float'> 12.9999\n",
      "<class 'int'> 12\n"
     ]
    }
   ],
   "source": [
    "## Type casting from float to int\n",
    "d=12.9999;\n",
    "print(type(d),d)\n",
    "f=int(d)\n",
    "print(type(f),f)"
   ]
  }
 ],
 "metadata": {
  "kernelspec": {
   "display_name": "Python 3 (ipykernel)",
   "language": "python",
   "name": "python3"
  },
  "language_info": {
   "codemirror_mode": {
    "name": "ipython",
    "version": 3
   },
   "file_extension": ".py",
   "mimetype": "text/x-python",
   "name": "python",
   "nbconvert_exporter": "python",
   "pygments_lexer": "ipython3",
   "version": "3.9.7"
  }
 },
 "nbformat": 4,
 "nbformat_minor": 5
}
