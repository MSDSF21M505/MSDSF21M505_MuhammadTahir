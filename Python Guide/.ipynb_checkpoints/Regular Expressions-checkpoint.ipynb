{
 "cells": [
  {
   "cell_type": "markdown",
   "id": "6832ee56-902b-49de-b63e-d54a6f9010cd",
   "metadata": {},
   "source": [
    "#### Regular Expressions"
   ]
  },
  {
   "cell_type": "markdown",
   "id": "881f8622-e2aa-4d12-b08f-892fb722e0d8",
   "metadata": {},
   "source": [
    "#### Wild Chard / Metacharacter\n",
    "Special character is a character that do not match themselves but hava a special meaning when used in a regular expression\n",
    "- `^` means that start search  character from the start of the string if multiline than at the start of every new line. ^w in words.\n",
    "- `$` symbol is used to search character at the end of the string. b in end of ab or s in end of words.\n",
    "- `.` symbol is used to refer to the any character that is used in place of it except the new line. i.e a.b any character can appear in place of . like acb, abb, but not addb.\n",
    "- `\\` backslash is used to supress the special meaning of the character following it. i.e to search . in the string place blackslach before it.\n",
    "- `[...]` any character that is place in the lised set is search in the string. like [abc] search whther these character is present in th string or not.\n",
    "- `[a-zA-Z]` search that the string is out of these alphabets.\n",
    "- `[^a-zA-Z]` search that the string is not out of these alphabets.\n",
    "- `[^0-9]` search that the digit is  out of these digits.\n",
    "- `[^0-9]` search that the digit is not out of these digits.\n",
    "- `[0-8][0-9]` search the two digits from 00 to 89.\n",
    "- `[0-9a-fA-F]` search for hexadecima digit."
   ]
  },
  {
   "cell_type": "markdown",
   "id": "1e51cba2-1f5c-47a3-bb00-750f7a70a409",
   "metadata": {},
   "source": [
    "#### Quantifiers\n",
    "Quantifiers search imediately a portion of a and indicate that a number of time a expression repeat to succed. \n",
    "like.\n",
    "- `*` expression can occur zero or more times.\n",
    "- `+` expression can occur one or more times.\n",
    "- `?` a character preceding it is option mean appear at zero times or one. like ab?c ac, abc but not abbc.\n",
    "- `{n,m}` a character perceding it repeated it from n ties to m times.\n",
    "- `{n}` a character perceding it repeated at least n times.\n",
    "- `{,m}` a character perceding it repeated upto m times."
   ]
  },
  {
   "cell_type": "markdown",
   "id": "f5627d91-bae6-45d1-b5d3-91973a52297c",
   "metadata": {},
   "source": [
    "#### Escape Code\n",
    "Escape code is used to find that the special pattern is present in the dataset or not. such as digits whitespaces or more\n",
    "\n",
    "- `\\d` Matches any decimal digit. It is equivalent to [0-9]\n",
    "- `D` Matches any non digit character. It is equivalent to [^0-9] or [^\\d]\n",
    "- `\\w`Matches any alphanumeric in a data.\n",
    "- `\\W` Matchesthe non alphanumeric in a data.\n",
    "- `\\s` Matches the space in the string.\n",
    "- `\\S` Matches the non space in the string.\n",
    "- `\\b` Matches that character appear at the start or the end of the string like r\"\\bain\" OR r\"ain\\b\".\n",
    "- `\\B` Matches that the charater not appear at the end of the string like r\"\\Bain\"   r\"ain\\B\"\n"
   ]
  },
  {
   "cell_type": "markdown",
   "id": "5ca966b7-ae09-4283-9903-61e04a6d44ce",
   "metadata": {},
   "source": [
    "##### RE for Names\n",
    "`M[rs]s?\\.?\\s?[A-Za-z]*`\n",
    "\n",
    "Mr. Shahzad \n",
    "Mr Khurram \n",
    "Ms Aqsa \n",
    "Mrs. Shaista \n",
    "Mr. B "
   ]
  },
  {
   "cell_type": "markdown",
   "id": "1267d9b6-23f9-4aa4-9abe-706eb88dfa89",
   "metadata": {},
   "source": [
    "#### RE to Match List of Valid Emails \n",
    "`[\\w\\d.+%_-]+@[a-zA-Z]+\\.[a-zA-Z]+(\\.[a-zA-Z]+)?`\n",
    "\n",
    "- List of Valid Emails: arif@pucit.edu.pk arif.ds@pu.edu.pk arifpucit@gmail.com arif.pucit@pu.edu.pk first+123.5@example.com abc%xyz@subdomain.example.com\n",
    "- List of Invalid Emails: abc.def@mail abc.def@mail#archive.com @example.com arif butt @example.com khurram#@gmail.com Abc.example.com"
   ]
  },
  {
   "cell_type": "markdown",
   "id": "388d3e5e-ae10-4b04-adc0-3999f2db5854",
   "metadata": {},
   "source": [
    "#### RE for Hexadecimal Numbers\n",
    "`/0[xX]?[0-9a-zA-Z]+/gm`\n",
    "0x45 \n",
    "0X4Ad \n",
    "0x2g3 \n",
    "0x349ABf \n",
    "0x"
   ]
  }
 ],
 "metadata": {
  "kernelspec": {
   "display_name": "Python 3 (ipykernel)",
   "language": "python",
   "name": "python3"
  },
  "language_info": {
   "codemirror_mode": {
    "name": "ipython",
    "version": 3
   },
   "file_extension": ".py",
   "mimetype": "text/x-python",
   "name": "python",
   "nbconvert_exporter": "python",
   "pygments_lexer": "ipython3",
   "version": "3.9.7"
  }
 },
 "nbformat": 4,
 "nbformat_minor": 5
}
