{
 "cells": [
  {
   "cell_type": "markdown",
   "id": "94ed5f17-b519-4921-97f8-bf0249d7b3ea",
   "metadata": {},
   "source": [
    "### Loops\n",
    "When we want to run a code for a specific nuber of times or when a particular condition is met called iteration. The programming structure deal with iteration is loops."
   ]
  },
  {
   "cell_type": "markdown",
   "id": "12656920-1ecf-476c-af0f-bd9a98f0e949",
   "metadata": {},
   "source": [
    "### While Loop\n",
    "While loop is used when you don't know the number of times you run a specific code block."
   ]
  },
  {
   "cell_type": "code",
   "execution_count": 2,
   "id": "39a53f04-c94b-43c9-8088-136a7ade3fa1",
   "metadata": {},
   "outputs": [
    {
     "name": "stdout",
     "output_type": "stream",
     "text": [
      "0\n",
      "1\n",
      "2\n",
      "3\n",
      "4\n",
      "5\n",
      "6\n",
      "Loop Terminate\n"
     ]
    }
   ],
   "source": [
    "a = 0\n",
    "while (a < 7):\n",
    "    print(a)\n",
    "    a = a + 1\n",
    "print(\"Loop Terminate\")"
   ]
  },
  {
   "cell_type": "code",
   "execution_count": 4,
   "id": "2dcde500-f15f-4fe3-9c58-6964764449fc",
   "metadata": {},
   "outputs": [
    {
     "name": "stdout",
     "output_type": "stream",
     "text": [
      "100th Factorial = 93326215443944152681699238856266700490715968264381621468592963895217599993229915608941463976156518286253697920827223758251185210916864000000000000000000000000\n",
      "Loop Terminate\n"
     ]
    }
   ],
   "source": [
    "# calculate 100th factorial\n",
    "a=1;\n",
    "i=1;\n",
    "while(i<=100):\n",
    "    a=a*i;\n",
    "    i=i+1;\n",
    "print(\"100th Factorial =\", a)\n",
    "print(\"Loop Terminate\")"
   ]
  },
  {
   "cell_type": "code",
   "execution_count": 8,
   "id": "481bf151-24e8-4e2d-80e7-ee7dbaf9953b",
   "metadata": {},
   "outputs": [
    {
     "name": "stdin",
     "output_type": "stream",
     "text": [
      "Enter Number 10\n"
     ]
    },
    {
     "name": "stdout",
     "output_type": "stream",
     "text": [
      "55\n"
     ]
    }
   ],
   "source": [
    "# Find Cummulative sum of a number\n",
    "a=int(input(\"Enter Number\"))\n",
    "i=1;\n",
    "sum=0;\n",
    "while(i<=a):\n",
    "    sum=sum+i;\n",
    "    i=i+1;\n",
    "print(sum)"
   ]
  },
  {
   "cell_type": "code",
   "execution_count": 21,
   "id": "b8cf5dbc-96c2-4606-be96-ce3310140b9a",
   "metadata": {},
   "outputs": [
    {
     "name": "stdout",
     "output_type": "stream",
     "text": [
      "1\n",
      "2\n",
      "3\n",
      "4\n",
      "5\n",
      "[1, 2, 3, 4, 5]\n"
     ]
    }
   ],
   "source": [
    "List=[1,2,3,4,5]\n",
    "i=0;\n",
    "while(i<len(List)):\n",
    "    print(List[i]);\n",
    "    i += 1;\n",
    "print(List)"
   ]
  },
  {
   "cell_type": "code",
   "execution_count": 32,
   "id": "13a10408-8c70-45c1-8c8d-e3a6a46a6627",
   "metadata": {},
   "outputs": [
    {
     "name": "stdout",
     "output_type": "stream",
     "text": [
      "maaz\n",
      "Iteration 1\n",
      "mujahid\n",
      "Iteration 2\n",
      "akram\n",
      "Iteration 3\n",
      "umer\n",
      "Iteration 4\n",
      "[]\n"
     ]
    }
   ],
   "source": [
    "list=['umer', 'akram','mujahid', 'maaz']\n",
    "a=0;\n",
    "while list:\n",
    "    print(list.pop())\n",
    "    a +=1;\n",
    "    print(\"Iteration {}\".format(a))\n",
    "print(list)"
   ]
  },
  {
   "cell_type": "code",
   "execution_count": 44,
   "id": "0151965d-9902-427d-af6b-f9ad4cf9f4e3",
   "metadata": {},
   "outputs": [
    {
     "name": "stdin",
     "output_type": "stream",
     "text": [
      "Enter the Number 9\n"
     ]
    },
    {
     "name": "stdout",
     "output_type": "stream",
     "text": [
      "Fibonaci Sireies [0, 1, 1, 2, 3, 5, 8, 13, 21]\n"
     ]
    }
   ],
   "source": [
    "# Fibonanci series\n",
    "a=int(input(\"Enter the Number\"))\n",
    "i=1\n",
    "if(a<1):\n",
    "    fib=[]\n",
    "elif(a==1):\n",
    "    fib=[0]\n",
    "elif(a==2):\n",
    "    fib=[0,1]\n",
    "elif(a>2):\n",
    "    fib=[0,1]\n",
    "    while(i<a-1):\n",
    "        fib.append(fib[i]+fib[i-1])\n",
    "        i+=1\n",
    "print(\"Fibonaci Sireies\",fib)\n",
    "        "
   ]
  },
  {
   "cell_type": "code",
   "execution_count": 45,
   "id": "fc0693cd-8ae1-4130-9521-66ddab09e4b8",
   "metadata": {},
   "outputs": [
    {
     "name": "stdout",
     "output_type": "stream",
     "text": [
      "outer Loop 5\n",
      "Inner Loop umer\n",
      "Inner Loop ali\n",
      "outer Loop 4\n",
      "Inner Loop umer\n",
      "Inner Loop ali\n",
      "outer Loop 3\n",
      "Inner Loop umer\n",
      "Inner Loop ali\n",
      "outer Loop 2\n",
      "Inner Loop umer\n",
      "Inner Loop ali\n",
      "outer Loop 1\n",
      "Inner Loop umer\n",
      "Inner Loop ali\n",
      "[]\n",
      "[]\n"
     ]
    }
   ],
   "source": [
    "l=[1,2,3,4,5]\n",
    "while l:\n",
    "    print(\"outer Loop\",l.pop())\n",
    "    l2=['ali','umer']\n",
    "    while l2:\n",
    "          print(\"Inner Loop\",l2.pop())\n",
    "print(l)\n",
    "print(l2)"
   ]
  },
  {
   "cell_type": "markdown",
   "id": "cd389824-d269-4807-a7fc-7b7a92065993",
   "metadata": {},
   "source": [
    "#### Continue vs Break\n",
    "- **Break** terminate the execution of the entire loop and program execution start from the first line after the break statement.\n",
    "- **Continue** terminate the execution of the loop iteration and move at the to of the loop to revalute the condition that the loop start or terminate."
   ]
  },
  {
   "cell_type": "markdown",
   "id": "bc9265b8-2294-4559-8a23-29cbcf24f0b3",
   "metadata": {},
   "source": [
    "#### While Loop with Else\n",
    "Else is run at the end of the whie loop when loop terminates after completing its execution. Else cannot run when loop terminate with break."
   ]
  },
  {
   "cell_type": "markdown",
   "id": "637d9307-d4c7-485a-a0e0-179b2dcc2a1b",
   "metadata": {},
   "source": [
    "#### For Loop\n",
    "For loop is used when you know how many times you iterate a specific code block.\n",
    "to understanf the for loop you must know the **iterator** and **iterable**\n",
    "\n",
    "- **iterable** is a python object that return one member at a time and can be used for iteration.Python list,tuple,sets  and dictionaries.\n",
    "- **iterator** in pyton is an object that iterate over iterable.\n",
    " - To get the iterator the iterable is paased to the python built in function iter()\n",
    " - The iter() return the iterator for the iterable."
   ]
  },
  {
   "cell_type": "code",
   "execution_count": 46,
   "id": "e5584a30-917f-4ad0-a919-38f6dc5211c5",
   "metadata": {},
   "outputs": [
    {
     "name": "stdout",
     "output_type": "stream",
     "text": [
      "<list_iterator object at 0x0000013B12A0FD90>\n"
     ]
    }
   ],
   "source": [
    "l=[1,2,3,4,5]\n",
    "a=iter(l)\n",
    "print(a)"
   ]
  },
  {
   "cell_type": "code",
   "execution_count": 52,
   "id": "96e7f3c9-ac94-4d7c-a40d-1d29930fd305",
   "metadata": {},
   "outputs": [
    {
     "name": "stdout",
     "output_type": "stream",
     "text": [
      "<dict_keyiterator object at 0x0000013B129EFBD0>\n"
     ]
    }
   ],
   "source": [
    "d={\"ali\":20,\"umer\":40}\n",
    "a=iter(d)\n",
    "print(a)"
   ]
  },
  {
   "cell_type": "markdown",
   "id": "9e7cd70b-33d1-4519-b6a4-b8f6c19018b9",
   "metadata": {},
   "source": [
    "### next() function\n",
    "The next() passed the iterator of the iterable object.\n",
    "- Every time the next() is called it retun the new item in the iterable.\n",
    "- The next() function keep moving from item to item in the iterable."
   ]
  },
  {
   "cell_type": "code",
   "execution_count": 57,
   "id": "bb50930c-d015-4db0-b6ff-8cc879c10d86",
   "metadata": {},
   "outputs": [
    {
     "name": "stdout",
     "output_type": "stream",
     "text": [
      "ali\n",
      "umer\n"
     ]
    },
    {
     "ename": "StopIteration",
     "evalue": "",
     "output_type": "error",
     "traceback": [
      "\u001b[1;31m---------------------------------------------------------------------------\u001b[0m",
      "\u001b[1;31mStopIteration\u001b[0m                             Traceback (most recent call last)",
      "\u001b[1;32mC:\\Users\\MUHAMM~1\\AppData\\Local\\Temp/ipykernel_13248/3998187583.py\u001b[0m in \u001b[0;36m<module>\u001b[1;34m\u001b[0m\n\u001b[0;32m      3\u001b[0m \u001b[0mprint\u001b[0m\u001b[1;33m(\u001b[0m\u001b[0mnext\u001b[0m\u001b[1;33m(\u001b[0m\u001b[0ma\u001b[0m\u001b[1;33m)\u001b[0m\u001b[1;33m)\u001b[0m\u001b[1;33m\u001b[0m\u001b[1;33m\u001b[0m\u001b[0m\n\u001b[0;32m      4\u001b[0m \u001b[0mprint\u001b[0m\u001b[1;33m(\u001b[0m\u001b[0mnext\u001b[0m\u001b[1;33m(\u001b[0m\u001b[0ma\u001b[0m\u001b[1;33m)\u001b[0m\u001b[1;33m)\u001b[0m\u001b[1;33m\u001b[0m\u001b[1;33m\u001b[0m\u001b[0m\n\u001b[1;32m----> 5\u001b[1;33m \u001b[0mprint\u001b[0m\u001b[1;33m(\u001b[0m\u001b[0mnext\u001b[0m\u001b[1;33m(\u001b[0m\u001b[0ma\u001b[0m\u001b[1;33m)\u001b[0m\u001b[1;33m)\u001b[0m\u001b[1;33m\u001b[0m\u001b[1;33m\u001b[0m\u001b[0m\n\u001b[0m",
      "\u001b[1;31mStopIteration\u001b[0m: "
     ]
    }
   ],
   "source": [
    "d={\"ali\":20,\"umer\":40}\n",
    "a=iter(d)\n",
    "print(next(a))\n",
    "print(next(a))\n",
    "print(next(a))\n",
    "## stopiteration error is handle with for loop"
   ]
  },
  {
   "cell_type": "code",
   "execution_count": 65,
   "id": "cc493757-1928-4d6d-bf90-a5b88d91caf4",
   "metadata": {},
   "outputs": [
    {
     "name": "stdout",
     "output_type": "stream",
     "text": [
      "('ali', 20)\n",
      "('umer', 40)\n"
     ]
    }
   ],
   "source": [
    "d={\"ali\":20,\"umer\":40}\n",
    "for i in d.items():\n",
    "    print(i)"
   ]
  },
  {
   "cell_type": "code",
   "execution_count": 66,
   "id": "294833fb-079e-4e7f-b6e1-b31d718f532f",
   "metadata": {},
   "outputs": [
    {
     "name": "stdout",
     "output_type": "stream",
     "text": [
      "ali\n",
      "umer\n"
     ]
    }
   ],
   "source": [
    "d={\"ali\":20,\"umer\":40}\n",
    "for i in d.keys():\n",
    "    print(i)"
   ]
  },
  {
   "cell_type": "code",
   "execution_count": 67,
   "id": "df96e25d-7abd-4503-98e6-690b57789852",
   "metadata": {},
   "outputs": [
    {
     "name": "stdout",
     "output_type": "stream",
     "text": [
      "20\n",
      "40\n"
     ]
    }
   ],
   "source": [
    "d={\"ali\":20,\"umer\":40}\n",
    "for i in d.values():\n",
    "    print(i)"
   ]
  },
  {
   "cell_type": "code",
   "execution_count": 75,
   "id": "a99a004c-2fbd-4f99-8806-68dd8978b41a",
   "metadata": {},
   "outputs": [
    {
     "name": "stdout",
     "output_type": "stream",
     "text": [
      "3\n"
     ]
    }
   ],
   "source": [
    "a=\"Hello World\"\n",
    "c=0;\n",
    "for i in a:\n",
    "    if( i=='l'):\n",
    "        c = c+1;\n",
    "print(c)"
   ]
  },
  {
   "cell_type": "code",
   "execution_count": 78,
   "id": "931b3830-2d73-4ba0-9535-7e717375ab50",
   "metadata": {},
   "outputs": [
    {
     "name": "stdout",
     "output_type": "stream",
     "text": [
      "ali 20\n",
      "umer 40\n"
     ]
    }
   ],
   "source": [
    "d={\"ali\":20,\"umer\":40}\n",
    "for i,b in d.items():\n",
    "    print(i,b)"
   ]
  },
  {
   "cell_type": "code",
   "execution_count": 103,
   "id": "9e4f959a-1c35-4eab-9f3f-3245f01ecd78",
   "metadata": {},
   "outputs": [
    {
     "name": "stdin",
     "output_type": "stream",
     "text": [
      "enter name:  arif\n"
     ]
    },
    {
     "name": "stdout",
     "output_type": "stream",
     "text": [
      "90\n",
      "Outside loop\n"
     ]
    }
   ],
   "source": [
    "mydict = {\n",
    "          'arif':90, \n",
    "          'rauf':95, \n",
    "          'maaz':81, \n",
    "          'hadeed':77, \n",
    "          'mujahid':86, \n",
    "          'mohid':100\n",
    "        }\n",
    "\n",
    "student_name = input('enter name: ')\n",
    "for name in mydict.keys():\n",
    "    if name == student_name:\n",
    "        print(mydict[name])\n",
    "        break\n",
    "else:\n",
    "    print('No entry with that name found.')\n",
    "print(\"Outside loop\")"
   ]
  },
  {
   "cell_type": "markdown",
   "id": "e8a1a936-d22b-4998-b9b4-665039791f3f",
   "metadata": {},
   "source": [
    "#### range() Function\n",
    "range() method return a range object that can provide a sequence of numbers for iteration.\n",
    "- range(a) return sequence of numbers from (a-1)\n",
    "- range (a,b) return a sequence of numbers from (a,b-1)\n",
    "- range(a,b,c) in it c define it id increment or decrment from range(a,b)"
   ]
  },
  {
   "cell_type": "code",
   "execution_count": 86,
   "id": "7a21f293-d209-41d6-9269-c53e171a9d90",
   "metadata": {},
   "outputs": [
    {
     "name": "stdout",
     "output_type": "stream",
     "text": [
      "0\n",
      "1\n",
      "2\n",
      "3\n",
      "4\n",
      "5\n",
      "6\n",
      "7\n",
      "8\n",
      "9\n",
      "==============\n",
      "10\n",
      "11\n",
      "12\n",
      "13\n",
      "14\n",
      "==============\n",
      "10\n",
      "12\n",
      "14\n",
      "==============\n",
      "15\n",
      "13\n",
      "11\n"
     ]
    }
   ],
   "source": [
    "for i in range(10):\n",
    "    print(i)\n",
    "print('==============')\n",
    "for i in range(10,15):\n",
    "    print(i)\n",
    "print('==============')\n",
    "for i in range(10,15,+2):\n",
    "    print(i)\n",
    "print('==============')\n",
    "for i in range(15,10,-2):\n",
    "    print(i)"
   ]
  },
  {
   "cell_type": "markdown",
   "id": "b7855eb7-e917-4e7d-a390-a9b70c830480",
   "metadata": {},
   "source": [
    "#### enumerable() Function\n",
    "enumerable() method pass a iterable object. return an enumerable tuple of two value pair. one is the index of iteration and second the value\n",
    "- It is usefull for obtaining an indexed list\n",
    "- (0,seq[0]),(1,seq[1])"
   ]
  },
  {
   "cell_type": "code",
   "execution_count": 98,
   "id": "65c3f4d4-118a-4f6d-8ee9-59250369d981",
   "metadata": {},
   "outputs": [
    {
     "ename": "TypeError",
     "evalue": "'list' object is not callable",
     "output_type": "error",
     "traceback": [
      "\u001b[1;31m---------------------------------------------------------------------------\u001b[0m",
      "\u001b[1;31mTypeError\u001b[0m                                 Traceback (most recent call last)",
      "\u001b[1;32mC:\\Users\\MUHAMM~1\\AppData\\Local\\Temp/ipykernel_13248/2110676752.py\u001b[0m in \u001b[0;36m<module>\u001b[1;34m\u001b[0m\n\u001b[0;32m      1\u001b[0m \u001b[0ml\u001b[0m\u001b[1;33m=\u001b[0m\u001b[1;33m[\u001b[0m\u001b[1;34m'a'\u001b[0m\u001b[1;33m,\u001b[0m\u001b[1;34m'b'\u001b[0m\u001b[1;33m,\u001b[0m\u001b[1;34m'c'\u001b[0m\u001b[1;33m]\u001b[0m\u001b[1;33m\u001b[0m\u001b[1;33m\u001b[0m\u001b[0m\n\u001b[1;32m----> 2\u001b[1;33m \u001b[0mprint\u001b[0m\u001b[1;33m(\u001b[0m\u001b[0mlist\u001b[0m\u001b[1;33m(\u001b[0m\u001b[0menumerate\u001b[0m\u001b[1;33m(\u001b[0m\u001b[0ml\u001b[0m\u001b[1;33m)\u001b[0m\u001b[1;33m)\u001b[0m\u001b[1;33m)\u001b[0m\u001b[1;33m\u001b[0m\u001b[1;33m\u001b[0m\u001b[0m\n\u001b[0m",
      "\u001b[1;31mTypeError\u001b[0m: 'list' object is not callable"
     ]
    }
   ],
   "source": [
    "l=['a','b','c']\n",
    "print(list(enumerate(l)))"
   ]
  },
  {
   "cell_type": "markdown",
   "id": "16b29566-8709-4728-8748-6a7223190df2",
   "metadata": {},
   "source": [
    "#### List Comprehension\n",
    "List comprehension is a consise way to generate a new sequence from an existing sequence.\n",
    "- `newList = [expresion for item in iterable]`\n",
    "- expression is the member iteself, a call or method, or expression that return a value.\n",
    "- item is the value of an object.\n",
    "- iterable return its member one at a time."
   ]
  },
  {
   "cell_type": "code",
   "execution_count": 99,
   "id": "bd61ed59-f700-43ce-9b8f-dc31019866f9",
   "metadata": {},
   "outputs": [
    {
     "name": "stdout",
     "output_type": "stream",
     "text": [
      "[1, 4, 9, 16, 25]\n"
     ]
    }
   ],
   "source": [
    "# sqaure of list element\n",
    "l=[1,2,3,4,5]\n",
    "l2=[i*i for i in l]\n",
    "print(l2)"
   ]
  },
  {
   "cell_type": "code",
   "execution_count": 105,
   "id": "71fc585d-c94d-46a0-941a-97299831137b",
   "metadata": {},
   "outputs": [
    {
     "name": "stdout",
     "output_type": "stream",
     "text": [
      "[2, 4, 6, 8, 10]\n"
     ]
    }
   ],
   "source": [
    "l=[1,2,3,4,5,6,7,8,9,10]\n",
    "l2=[i for i in l if(i%2==0)]\n",
    "print(l2)"
   ]
  },
  {
   "cell_type": "markdown",
   "id": "0b57237b-cc09-48e7-8c8c-44603602af51",
   "metadata": {},
   "source": [
    "#### Dictionary Comprehension\n",
    "Dictionary comprehension is a consise way to generate a new sequence from an existing sequence.\n",
    "- `newDict = [key:value for key,value in iterable]`\n",
    "- expression is the member iteself, a call or method, or expression that return a value.\n",
    "- item is the value of an object.\n",
    "- iterable return its member one at a time."
   ]
  },
  {
   "cell_type": "code",
   "execution_count": 106,
   "id": "0c6d91e1-1627-43e7-b7ea-2e16b9cd2e18",
   "metadata": {},
   "outputs": [
    {
     "name": "stdout",
     "output_type": "stream",
     "text": [
      "{0: 0, 1: 1, 2: 4, 3: 9, 4: 16, 5: 25, 6: 36, 7: 49, 8: 64, 9: 81}\n"
     ]
    }
   ],
   "source": [
    "l=range(10)\n",
    "l2={key:key**2 for key in l}\n",
    "print(l2)"
   ]
  },
  {
   "cell_type": "code",
   "execution_count": 107,
   "id": "d4cbddd8-3851-43f5-8544-3ef2b1b84da7",
   "metadata": {},
   "outputs": [
    {
     "name": "stdout",
     "output_type": "stream",
     "text": [
      "{0: 0, 2: 8, 4: 64, 6: 216, 8: 512, 10: 1000}\n"
     ]
    }
   ],
   "source": [
    "list1 = range(11)\n",
    "dict1 = {key: key**3 for key in list1 if key**3 % 4 == 0}\n",
    "print(dict1)"
   ]
  },
  {
   "cell_type": "markdown",
   "id": "90721eb7-369f-46c6-8db1-12faeb8e2375",
   "metadata": {},
   "source": [
    "**Example 3:** Suppose we have a dictionary containing some grossary items and their prices. \n",
    "```\n",
    "dict1 = {'milk': 120.0, 'choclate': 45.0, 'bread': 80.0}\n",
    "```\n",
    "Use dictionary comprehension to create a new dictionary with increased prices by 25%"
   ]
  },
  {
   "cell_type": "code",
   "execution_count": 108,
   "id": "78f3fddc-848d-4451-a40c-b076620f4293",
   "metadata": {},
   "outputs": [
    {
     "name": "stdout",
     "output_type": "stream",
     "text": [
      "{'milk': 150.0, 'choclate': 56.25, 'bread': 100.0}\n"
     ]
    }
   ],
   "source": [
    "dict1 = {'milk': 120.0, 'choclate': 45.0, 'bread': 80.0}\n",
    "increase = 1.25\n",
    "\n",
    "dict2 = {key: value*increase for (key, value) in dict1.items()}\n",
    "\n",
    "print(dict2)"
   ]
  },
  {
   "cell_type": "code",
   "execution_count": null,
   "id": "6230f6a3-8d35-45c5-8414-03a06c0cb397",
   "metadata": {},
   "outputs": [],
   "source": []
  },
  {
   "cell_type": "code",
   "execution_count": null,
   "id": "e5ca5e11-7a82-4e2d-b0fc-ce57bce7b486",
   "metadata": {},
   "outputs": [],
   "source": []
  },
  {
   "cell_type": "code",
   "execution_count": null,
   "id": "2fcfd457-0cd3-45ea-86e4-198f84c3bd8f",
   "metadata": {},
   "outputs": [],
   "source": []
  },
  {
   "cell_type": "code",
   "execution_count": null,
   "id": "00e9523f-82f9-4dbf-916f-25afe5aa9b2d",
   "metadata": {},
   "outputs": [],
   "source": []
  },
  {
   "cell_type": "code",
   "execution_count": null,
   "id": "d199509c-7c9b-4625-a352-c3079744ec93",
   "metadata": {},
   "outputs": [],
   "source": []
  },
  {
   "cell_type": "code",
   "execution_count": null,
   "id": "e091abc6-c39a-4885-b3df-714fd077b2bc",
   "metadata": {},
   "outputs": [],
   "source": []
  },
  {
   "cell_type": "code",
   "execution_count": null,
   "id": "36a066f6-c59a-4d71-ac69-884a9d767e4f",
   "metadata": {},
   "outputs": [],
   "source": []
  },
  {
   "cell_type": "code",
   "execution_count": null,
   "id": "c5624941-b451-497d-935b-1afeb2aa2b23",
   "metadata": {},
   "outputs": [],
   "source": []
  },
  {
   "cell_type": "code",
   "execution_count": null,
   "id": "d6a4e463-b1db-46a3-ac6a-1b2e27658158",
   "metadata": {},
   "outputs": [],
   "source": []
  },
  {
   "cell_type": "code",
   "execution_count": null,
   "id": "0b774c30-2a7b-48c5-9ab5-770d609e4300",
   "metadata": {},
   "outputs": [],
   "source": []
  },
  {
   "cell_type": "code",
   "execution_count": null,
   "id": "aa1c1352-8165-4f3f-afeb-b58743ada80e",
   "metadata": {},
   "outputs": [],
   "source": []
  },
  {
   "cell_type": "code",
   "execution_count": null,
   "id": "f2c322f9-849d-4c9d-bcb0-e58aa14a7e74",
   "metadata": {},
   "outputs": [],
   "source": []
  },
  {
   "cell_type": "code",
   "execution_count": null,
   "id": "19e065a8-4a6a-4adb-86e0-5167866313dd",
   "metadata": {},
   "outputs": [],
   "source": []
  },
  {
   "cell_type": "code",
   "execution_count": null,
   "id": "17bb402c-a164-436b-b861-94e3ef204977",
   "metadata": {},
   "outputs": [],
   "source": []
  },
  {
   "cell_type": "code",
   "execution_count": null,
   "id": "3a76ef84-4c51-43a9-9c58-7031369e968f",
   "metadata": {},
   "outputs": [],
   "source": []
  },
  {
   "cell_type": "code",
   "execution_count": null,
   "id": "b64a0a01-de3e-4520-89ae-81f51936a3ad",
   "metadata": {},
   "outputs": [],
   "source": []
  },
  {
   "cell_type": "code",
   "execution_count": null,
   "id": "84fd532e-2cf4-444e-9e96-571ccc9de55f",
   "metadata": {},
   "outputs": [],
   "source": []
  }
 ],
 "metadata": {
  "kernelspec": {
   "display_name": "Python 3 (ipykernel)",
   "language": "python",
   "name": "python3"
  },
  "language_info": {
   "codemirror_mode": {
    "name": "ipython",
    "version": 3
   },
   "file_extension": ".py",
   "mimetype": "text/x-python",
   "name": "python",
   "nbconvert_exporter": "python",
   "pygments_lexer": "ipython3",
   "version": "3.9.7"
  }
 },
 "nbformat": 4,
 "nbformat_minor": 5
}
