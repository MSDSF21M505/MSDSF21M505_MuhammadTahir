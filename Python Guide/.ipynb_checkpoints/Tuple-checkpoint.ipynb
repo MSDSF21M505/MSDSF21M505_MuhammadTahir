{
 "cells": [
  {
   "cell_type": "markdown",
   "id": "4fb0bf76-7f39-4de2-b84f-5b99efa680c5",
   "metadata": {},
   "source": [
    "### Tuple\n",
    "**Tuple is a numerically ordered sequence of elements that can store muTtipTe elements of heterogenous types. It can be immutable, iterable and contain dupTicate elements.** "
   ]
  },
  {
   "cell_type": "code",
   "execution_count": 4,
   "id": "88eafae5-26de-45f6-aab4-a7bbb361fcaf",
   "metadata": {},
   "outputs": [
    {
     "name": "stdout",
     "output_type": "stream",
     "text": [
      "<class 'tuple'> ()\n",
      "<class 'tuple'> (1, 'two', 3.0)\n"
     ]
    }
   ],
   "source": [
    "# Tuple is create using paranthesis brackets.\n",
    "T=();\n",
    "print(type(T),T)\n",
    "\n",
    "T=(1,'two',3.0)\n",
    "print(type(T),T)\n"
   ]
  },
  {
   "cell_type": "markdown",
   "id": "e384e9b1-22c5-46c1-8876-c855f88c17a3",
   "metadata": {},
   "source": [
    "### Proof of Concept"
   ]
  },
  {
   "cell_type": "markdown",
   "id": "c4b8e927-0cc9-402c-bc62-d1480604ef62",
   "metadata": {},
   "source": [
    "#### Tuple is Numerical Ordered Sequence Collection"
   ]
  },
  {
   "cell_type": "code",
   "execution_count": 6,
   "id": "92903c04-9aeb-4b77-9bb7-730afcb82114",
   "metadata": {},
   "outputs": [
    {
     "name": "stdout",
     "output_type": "stream",
     "text": [
      "1\n",
      "8\n",
      "6\n"
     ]
    }
   ],
   "source": [
    "# Every element in the Tuple is assosiated with a particular index.\n",
    "T=(1,2,3,4,5,6,7,8)\n",
    "print(T[0])\n",
    "print(T[-1])\n",
    "print(T[5])"
   ]
  },
  {
   "cell_type": "code",
   "execution_count": 34,
   "id": "85f30a2e-1a05-4130-98e2-9fb73a21e1f6",
   "metadata": {},
   "outputs": [
    {
     "name": "stdout",
     "output_type": "stream",
     "text": [
      "2739154248768 2739154507584 False True\n"
     ]
    }
   ],
   "source": [
    "T=(1,2,3)\n",
    "T1=(1,2,3)\n",
    "print(id(T),id(T1),T is T1,T == T1)"
   ]
  },
  {
   "cell_type": "markdown",
   "id": "d50a20ec-f9a3-4de8-accd-3281411870ce",
   "metadata": {},
   "source": [
    "### Tuple contain Heterogenous elements"
   ]
  },
  {
   "cell_type": "code",
   "execution_count": 7,
   "id": "43fa938b-75c4-4130-8d5a-bb9035236f0f",
   "metadata": {},
   "outputs": [
    {
     "name": "stdout",
     "output_type": "stream",
     "text": [
      "<class 'tuple'> (1, 'two', 3.0)\n"
     ]
    }
   ],
   "source": [
    "# Tuple contain elements of different data types\n",
    "T=(1,'two',3.0)\n",
    "print(type(T),T)"
   ]
  },
  {
   "cell_type": "markdown",
   "id": "0d80a58e-e3f6-4fee-b06e-3de00fe22f56",
   "metadata": {},
   "source": [
    "### Tuple is immutable mean it cannot be changed"
   ]
  },
  {
   "cell_type": "code",
   "execution_count": 9,
   "id": "39f0e62c-a8b7-495e-a080-2e6e458f147d",
   "metadata": {},
   "outputs": [
    {
     "ename": "TypeError",
     "evalue": "'tuple' object does not support item assignment",
     "output_type": "error",
     "traceback": [
      "\u001b[1;31m---------------------------------------------------------------------------\u001b[0m",
      "\u001b[1;31mTypeError\u001b[0m                                 Traceback (most recent call last)",
      "\u001b[1;32mC:\\Users\\MUHAMM~1\\AppData\\Local\\Temp/ipykernel_7512/4257422010.py\u001b[0m in \u001b[0;36m<module>\u001b[1;34m\u001b[0m\n\u001b[0;32m      1\u001b[0m \u001b[1;31m# Tuple elements can be changed by giving the Tocation in () and use assingment operator is used to aTTocate vaTue.\u001b[0m\u001b[1;33m\u001b[0m\u001b[1;33m\u001b[0m\u001b[0m\n\u001b[0;32m      2\u001b[0m \u001b[0mT\u001b[0m\u001b[1;33m=\u001b[0m\u001b[1;33m(\u001b[0m\u001b[1;36m1\u001b[0m\u001b[1;33m,\u001b[0m\u001b[1;34m'two'\u001b[0m\u001b[1;33m,\u001b[0m\u001b[1;36m3.0\u001b[0m\u001b[1;33m)\u001b[0m\u001b[1;33m\u001b[0m\u001b[1;33m\u001b[0m\u001b[0m\n\u001b[1;32m----> 3\u001b[1;33m \u001b[0mT\u001b[0m\u001b[1;33m[\u001b[0m\u001b[1;36m2\u001b[0m\u001b[1;33m]\u001b[0m\u001b[1;33m=\u001b[0m\u001b[1;34m'three'\u001b[0m\u001b[1;33m\u001b[0m\u001b[1;33m\u001b[0m\u001b[0m\n\u001b[0m\u001b[0;32m      4\u001b[0m \u001b[0mprint\u001b[0m\u001b[1;33m(\u001b[0m\u001b[0mT\u001b[0m\u001b[1;33m)\u001b[0m\u001b[1;33m\u001b[0m\u001b[1;33m\u001b[0m\u001b[0m\n",
      "\u001b[1;31mTypeError\u001b[0m: 'tuple' object does not support item assignment"
     ]
    }
   ],
   "source": [
    "# Tuple elements can be changed by giving the Tocation in () and use assingment operator is used to aTTocate vaTue. \n",
    "T=(1,'two',3.0)\n",
    "T[2]='three'\n",
    "print(T)"
   ]
  },
  {
   "cell_type": "markdown",
   "id": "63deb6ae-7f24-4cbf-bec9-24ee2d80a9bb",
   "metadata": {},
   "source": [
    "### Tuple contain duplicate elements"
   ]
  },
  {
   "cell_type": "code",
   "execution_count": 10,
   "id": "e9788905-9f04-444b-ae4b-d65b4f257cdb",
   "metadata": {},
   "outputs": [
    {
     "name": "stdout",
     "output_type": "stream",
     "text": [
      "<class 'tuple'> ('One', 'Two', 'Three', 'Three')\n"
     ]
    }
   ],
   "source": [
    "T=(\"One\",\"Two\",\"Three\",\"Three\")\n",
    "print(type(T),T)"
   ]
  },
  {
   "cell_type": "code",
   "execution_count": 11,
   "id": "21246b81-e2df-46b1-ba75-0763559bab5b",
   "metadata": {},
   "outputs": [
    {
     "name": "stdout",
     "output_type": "stream",
     "text": [
      "<class 'tuple'> (1, 'Two', 'Three', 4, 4)\n"
     ]
    }
   ],
   "source": [
    "T=(1,\"Two\",\"Three\",4,4)\n",
    "print(type(T),T)"
   ]
  },
  {
   "cell_type": "markdown",
   "id": "84b48ad8-82c6-402a-9294-4ebfe524b105",
   "metadata": {},
   "source": [
    "### Tuple Contain Nested elements"
   ]
  },
  {
   "cell_type": "code",
   "execution_count": 12,
   "id": "6010063c-4540-4757-a426-2add619aef8d",
   "metadata": {},
   "outputs": [
    {
     "name": "stdout",
     "output_type": "stream",
     "text": [
      "<class 'tuple'> ('one', 'two', 'three', (1, 2, 3), (1.0, (2.0, 3.0)))\n"
     ]
    }
   ],
   "source": [
    "## Mean Tuple inside Tuple\n",
    "T=('one','two','three',(1,2,3),(1.0,(2.0,(3.0))))\n",
    "print(type(T),T)"
   ]
  },
  {
   "cell_type": "code",
   "execution_count": 13,
   "id": "dcc2ce0f-7d2e-48d0-84ed-ef3c464a68f5",
   "metadata": {},
   "outputs": [
    {
     "name": "stdout",
     "output_type": "stream",
     "text": [
      "(2.0, 3.0)\n",
      "2.0\n",
      "3.0\n"
     ]
    }
   ],
   "source": [
    "## Index elements in the Nested Tuple\n",
    "print(T[4][1])\n",
    "print(T[4][1][0])\n",
    "print(T[4][1][1])"
   ]
  },
  {
   "cell_type": "markdown",
   "id": "e1888745-eeb1-4d2b-a2e0-98cad31d5b55",
   "metadata": {},
   "source": [
    "### Packing and Unpacking Tuple"
   ]
  },
  {
   "cell_type": "code",
   "execution_count": 17,
   "id": "879b6d3a-a9da-41e6-a803-8a924d4b7dd1",
   "metadata": {},
   "outputs": [
    {
     "name": "stdout",
     "output_type": "stream",
     "text": [
      "One Two Three Three\n",
      "<class 'str'>\n"
     ]
    }
   ],
   "source": [
    "T=(\"One\",\"Two\",\"Three\",\"Three\")\n",
    "a,b,c,d=T\n",
    "print(a,b,c,d, sep=' ')\n",
    "print(type(a))"
   ]
  },
  {
   "cell_type": "code",
   "execution_count": 19,
   "id": "a763ca33-9826-4069-9d02-20cc4a8e18ed",
   "metadata": {},
   "outputs": [
    {
     "name": "stdout",
     "output_type": "stream",
     "text": [
      "<class 'tuple'> ('One', 'Two', 'Three', 'Three')\n",
      "<class 'tuple'> ('One', 'Two', 'Three', 'Three')\n"
     ]
    }
   ],
   "source": [
    "T=a,b,c,d\n",
    "T2=tuple(T)\n",
    "print(type(T),T)\n",
    "print(type(T2),T2)"
   ]
  },
  {
   "cell_type": "markdown",
   "id": "dce8d73a-db1b-41f1-afac-f35746faa872",
   "metadata": {},
   "source": [
    "### STice\n",
    "Slice is used to take the subTuple of the Tuple using this method.\n",
    "Slice take three arguments.\n",
    "- **start** take the starting location.\n",
    "- **end** take the eneding location and it is excTusive.\n",
    "- **step** method used to skip the number of elements in each iteration."
   ]
  },
  {
   "cell_type": "code",
   "execution_count": 21,
   "id": "c5bb3e10-4a17-4c30-b9af-4d12b57a5747",
   "metadata": {},
   "outputs": [
    {
     "name": "stdout",
     "output_type": "stream",
     "text": [
      "('One', 'Two')\n"
     ]
    }
   ],
   "source": [
    "T=(\"One\",\"Two\",\"Three\",\"four\")\n",
    "print(T[:2])"
   ]
  },
  {
   "cell_type": "code",
   "execution_count": 22,
   "id": "b715f8e0-91e2-4cb3-9c74-57770793e28f",
   "metadata": {},
   "outputs": [
    {
     "name": "stdout",
     "output_type": "stream",
     "text": [
      "four\n"
     ]
    }
   ],
   "source": [
    "T=(\"One\",\"Two\",\"Three\",\"four\")\n",
    "print(T[-1])"
   ]
  },
  {
   "cell_type": "code",
   "execution_count": 23,
   "id": "0faa5496-80aa-4b96-aa1a-f0378be728da",
   "metadata": {},
   "outputs": [
    {
     "name": "stdout",
     "output_type": "stream",
     "text": [
      "('Three', 'four')\n"
     ]
    }
   ],
   "source": [
    "T=(\"One\",\"Two\",\"Three\",\"four\")\n",
    "print(T[2:])"
   ]
  },
  {
   "cell_type": "code",
   "execution_count": 24,
   "id": "9ed03853-a459-47e7-a59c-e2ff0001c9d2",
   "metadata": {},
   "outputs": [
    {
     "name": "stdout",
     "output_type": "stream",
     "text": [
      "('four', 'Three', 'Two', 'One')\n"
     ]
    }
   ],
   "source": [
    "T=(\"One\",\"Two\",\"Three\",\"four\")\n",
    "print(T[::-1])"
   ]
  },
  {
   "cell_type": "code",
   "execution_count": 25,
   "id": "f8f042c8-5b1b-4395-bf0e-747a789b71cb",
   "metadata": {},
   "outputs": [
    {
     "name": "stdout",
     "output_type": "stream",
     "text": [
      "('four', 'Three', 'Two')\n"
     ]
    }
   ],
   "source": [
    "T=(\"One\",\"Two\",\"Three\",\"four\")\n",
    "print(T[4:0:-1])"
   ]
  },
  {
   "cell_type": "code",
   "execution_count": 26,
   "id": "1ee543c4-fd98-482b-80f1-010b48c5c4a3",
   "metadata": {},
   "outputs": [
    {
     "name": "stdout",
     "output_type": "stream",
     "text": [
      "('One', 'Three')\n"
     ]
    }
   ],
   "source": [
    "T=(\"One\",\"Two\",\"Three\",\"four\")\n",
    "print(T[::2])"
   ]
  },
  {
   "cell_type": "markdown",
   "id": "2812e7df-b303-4b73-bf9b-9f77cd48d07a",
   "metadata": {},
   "source": [
    "### Asscessing element in The Tuple"
   ]
  },
  {
   "cell_type": "code",
   "execution_count": 28,
   "id": "615aa7db-c88b-4a16-86e1-8efcd912107a",
   "metadata": {},
   "outputs": [
    {
     "name": "stdout",
     "output_type": "stream",
     "text": [
      "One\n",
      "Two\n"
     ]
    }
   ],
   "source": [
    "T=(\"One\",\"Two\",\"Three\",\"Three\")\n",
    "print(T[0])\n",
    "print(T[1])"
   ]
  },
  {
   "cell_type": "code",
   "execution_count": 29,
   "id": "385540d6-ad8e-4736-880d-9c27ff2f0371",
   "metadata": {},
   "outputs": [
    {
     "name": "stdout",
     "output_type": "stream",
     "text": [
      "0\n"
     ]
    },
    {
     "ename": "ValueError",
     "evalue": "tuple.index(x): x not in tuple",
     "output_type": "error",
     "traceback": [
      "\u001b[1;31m---------------------------------------------------------------------------\u001b[0m",
      "\u001b[1;31mValueError\u001b[0m                                Traceback (most recent call last)",
      "\u001b[1;32mC:\\Users\\MUHAMM~1\\AppData\\Local\\Temp/ipykernel_7512/818819060.py\u001b[0m in \u001b[0;36m<module>\u001b[1;34m\u001b[0m\n\u001b[0;32m      2\u001b[0m \u001b[0mT\u001b[0m\u001b[1;33m=\u001b[0m\u001b[1;33m(\u001b[0m\u001b[1;34m\"One\"\u001b[0m\u001b[1;33m,\u001b[0m\u001b[1;34m\"Two\"\u001b[0m\u001b[1;33m,\u001b[0m\u001b[1;34m\"Three\"\u001b[0m\u001b[1;33m,\u001b[0m\u001b[1;34m\"Three\"\u001b[0m\u001b[1;33m)\u001b[0m\u001b[1;33m\u001b[0m\u001b[1;33m\u001b[0m\u001b[0m\n\u001b[0;32m      3\u001b[0m \u001b[0mprint\u001b[0m\u001b[1;33m(\u001b[0m\u001b[0mT\u001b[0m\u001b[1;33m.\u001b[0m\u001b[0mindex\u001b[0m\u001b[1;33m(\u001b[0m\u001b[1;34m\"One\"\u001b[0m\u001b[1;33m)\u001b[0m\u001b[1;33m)\u001b[0m\u001b[1;33m\u001b[0m\u001b[1;33m\u001b[0m\u001b[0m\n\u001b[1;32m----> 4\u001b[1;33m \u001b[0mprint\u001b[0m\u001b[1;33m(\u001b[0m\u001b[0mT\u001b[0m\u001b[1;33m.\u001b[0m\u001b[0mindex\u001b[0m\u001b[1;33m(\u001b[0m\u001b[1;34m\"one\"\u001b[0m\u001b[1;33m)\u001b[0m\u001b[1;33m)\u001b[0m\u001b[1;33m\u001b[0m\u001b[1;33m\u001b[0m\u001b[0m\n\u001b[0m",
      "\u001b[1;31mValueError\u001b[0m: tuple.index(x): x not in tuple"
     ]
    }
   ],
   "source": [
    "# Insdex method is case sensitive\n",
    "T=(\"One\",\"Two\",\"Three\",\"Three\")\n",
    "print(T.index(\"One\"))\n",
    "print(T.index(\"one\"))"
   ]
  },
  {
   "cell_type": "markdown",
   "id": "ac680b0d-9b23-4038-9778-bd27a0511c3b",
   "metadata": {},
   "source": [
    "### Adding elements to Tuple"
   ]
  },
  {
   "cell_type": "markdown",
   "id": "19226147-4096-4a68-b201-954238cf3664",
   "metadata": {},
   "source": [
    "Tuple is immutable so `append() extend() insert()` method not work in the tuple"
   ]
  },
  {
   "cell_type": "code",
   "execution_count": 30,
   "id": "65d08034-899f-4256-96e8-5ce9d54a77cb",
   "metadata": {},
   "outputs": [
    {
     "ename": "AttributeError",
     "evalue": "'tuple' object has no attribute 'append'",
     "output_type": "error",
     "traceback": [
      "\u001b[1;31m---------------------------------------------------------------------------\u001b[0m",
      "\u001b[1;31mAttributeError\u001b[0m                            Traceback (most recent call last)",
      "\u001b[1;32mC:\\Users\\MUHAMM~1\\AppData\\Local\\Temp/ipykernel_7512/4159541122.py\u001b[0m in \u001b[0;36m<module>\u001b[1;34m\u001b[0m\n\u001b[0;32m      1\u001b[0m \u001b[0mT\u001b[0m\u001b[1;33m=\u001b[0m\u001b[1;33m(\u001b[0m\u001b[1;36m1\u001b[0m\u001b[1;33m,\u001b[0m\u001b[1;36m2\u001b[0m\u001b[1;33m,\u001b[0m\u001b[1;36m3\u001b[0m\u001b[1;33m,\u001b[0m\u001b[1;36m4\u001b[0m\u001b[1;33m,\u001b[0m\u001b[1;36m5\u001b[0m\u001b[1;33m)\u001b[0m\u001b[1;33m\u001b[0m\u001b[1;33m\u001b[0m\u001b[0m\n\u001b[1;32m----> 2\u001b[1;33m \u001b[0mT\u001b[0m\u001b[1;33m.\u001b[0m\u001b[0mappend\u001b[0m\u001b[1;33m(\u001b[0m\u001b[1;34m\"six\"\u001b[0m\u001b[1;33m)\u001b[0m\u001b[1;33m\u001b[0m\u001b[1;33m\u001b[0m\u001b[0m\n\u001b[0m\u001b[0;32m      3\u001b[0m \u001b[0mT\u001b[0m\u001b[1;33m\u001b[0m\u001b[1;33m\u001b[0m\u001b[0m\n",
      "\u001b[1;31mAttributeError\u001b[0m: 'tuple' object has no attribute 'append'"
     ]
    }
   ],
   "source": [
    "T=(1,2,3,4,5)\n",
    "T.append(\"six\")\n",
    "T"
   ]
  },
  {
   "cell_type": "code",
   "execution_count": 31,
   "id": "f2a79aba-7509-4506-8b29-ebc7e8a0564d",
   "metadata": {},
   "outputs": [
    {
     "ename": "AttributeError",
     "evalue": "'tuple' object has no attribute 'extend'",
     "output_type": "error",
     "traceback": [
      "\u001b[1;31m---------------------------------------------------------------------------\u001b[0m",
      "\u001b[1;31mAttributeError\u001b[0m                            Traceback (most recent call last)",
      "\u001b[1;32mC:\\Users\\MUHAMM~1\\AppData\\Local\\Temp/ipykernel_7512/1452453781.py\u001b[0m in \u001b[0;36m<module>\u001b[1;34m\u001b[0m\n\u001b[0;32m      1\u001b[0m \u001b[0mT\u001b[0m\u001b[1;33m=\u001b[0m\u001b[1;33m(\u001b[0m\u001b[1;36m1\u001b[0m\u001b[1;33m,\u001b[0m\u001b[1;36m2\u001b[0m\u001b[1;33m,\u001b[0m\u001b[1;36m3\u001b[0m\u001b[1;33m,\u001b[0m\u001b[1;36m4\u001b[0m\u001b[1;33m,\u001b[0m\u001b[1;36m5\u001b[0m\u001b[1;33m)\u001b[0m\u001b[1;33m\u001b[0m\u001b[1;33m\u001b[0m\u001b[0m\n\u001b[1;32m----> 2\u001b[1;33m \u001b[0mT\u001b[0m\u001b[1;33m.\u001b[0m\u001b[0mextend\u001b[0m\u001b[1;33m(\u001b[0m\u001b[1;34m\"6\"\u001b[0m\u001b[1;33m)\u001b[0m\u001b[1;33m\u001b[0m\u001b[1;33m\u001b[0m\u001b[0m\n\u001b[0m\u001b[0;32m      3\u001b[0m \u001b[0mprint\u001b[0m\u001b[1;33m(\u001b[0m\u001b[0mT\u001b[0m\u001b[1;33m)\u001b[0m\u001b[1;33m\u001b[0m\u001b[1;33m\u001b[0m\u001b[0m\n\u001b[0;32m      4\u001b[0m \u001b[0mT\u001b[0m\u001b[1;33m.\u001b[0m\u001b[0mextend\u001b[0m\u001b[1;33m(\u001b[0m\u001b[1;33m(\u001b[0m\u001b[1;34m\"seven\"\u001b[0m\u001b[1;33m,\u001b[0m\u001b[1;34m\"eight\"\u001b[0m\u001b[1;33m)\u001b[0m\u001b[1;33m)\u001b[0m\u001b[1;33m\u001b[0m\u001b[1;33m\u001b[0m\u001b[0m\n\u001b[0;32m      5\u001b[0m \u001b[0mprint\u001b[0m\u001b[1;33m(\u001b[0m\u001b[0mT\u001b[0m\u001b[1;33m)\u001b[0m\u001b[1;33m\u001b[0m\u001b[1;33m\u001b[0m\u001b[0m\n",
      "\u001b[1;31mAttributeError\u001b[0m: 'tuple' object has no attribute 'extend'"
     ]
    }
   ],
   "source": [
    "T=(1,2,3,4,5)\n",
    "T.extend(\"6\")\n",
    "print(T)\n",
    "T.extend((\"seven\",\"eight\"))\n",
    "print(T)"
   ]
  },
  {
   "cell_type": "code",
   "execution_count": 32,
   "id": "e2a30410-4c56-440f-8d53-fbf66e3f2d81",
   "metadata": {},
   "outputs": [
    {
     "ename": "AttributeError",
     "evalue": "'tuple' object has no attribute 'insert'",
     "output_type": "error",
     "traceback": [
      "\u001b[1;31m---------------------------------------------------------------------------\u001b[0m",
      "\u001b[1;31mAttributeError\u001b[0m                            Traceback (most recent call last)",
      "\u001b[1;32mC:\\Users\\MUHAMM~1\\AppData\\Local\\Temp/ipykernel_7512/1925337825.py\u001b[0m in \u001b[0;36m<module>\u001b[1;34m\u001b[0m\n\u001b[0;32m      1\u001b[0m \u001b[0mT\u001b[0m\u001b[1;33m=\u001b[0m\u001b[1;33m(\u001b[0m\u001b[1;36m1\u001b[0m\u001b[1;33m,\u001b[0m\u001b[1;36m2\u001b[0m\u001b[1;33m,\u001b[0m\u001b[1;36m3\u001b[0m\u001b[1;33m,\u001b[0m\u001b[1;36m4\u001b[0m\u001b[1;33m,\u001b[0m\u001b[1;36m5\u001b[0m\u001b[1;33m)\u001b[0m\u001b[1;33m\u001b[0m\u001b[1;33m\u001b[0m\u001b[0m\n\u001b[1;32m----> 2\u001b[1;33m \u001b[0mT\u001b[0m\u001b[1;33m.\u001b[0m\u001b[0minsert\u001b[0m\u001b[1;33m(\u001b[0m\u001b[1;36m2\u001b[0m\u001b[1;33m,\u001b[0m\u001b[1;34m\"six\"\u001b[0m\u001b[1;33m)\u001b[0m\u001b[1;33m\u001b[0m\u001b[1;33m\u001b[0m\u001b[0m\n\u001b[0m\u001b[0;32m      3\u001b[0m \u001b[0mprint\u001b[0m\u001b[1;33m(\u001b[0m\u001b[0mT\u001b[0m\u001b[1;33m)\u001b[0m\u001b[1;33m\u001b[0m\u001b[1;33m\u001b[0m\u001b[0m\n\u001b[0;32m      4\u001b[0m \u001b[0mT\u001b[0m\u001b[1;33m.\u001b[0m\u001b[0minsert\u001b[0m\u001b[1;33m(\u001b[0m\u001b[1;36m6\u001b[0m\u001b[1;33m,\u001b[0m\u001b[1;33m(\u001b[0m\u001b[1;34m\"six\"\u001b[0m\u001b[1;33m,\u001b[0m\u001b[1;34m\"seven\"\u001b[0m\u001b[1;33m)\u001b[0m\u001b[1;33m)\u001b[0m\u001b[1;33m\u001b[0m\u001b[1;33m\u001b[0m\u001b[0m\n\u001b[0;32m      5\u001b[0m \u001b[0mprint\u001b[0m\u001b[1;33m(\u001b[0m\u001b[0mT\u001b[0m\u001b[1;33m)\u001b[0m\u001b[1;33m\u001b[0m\u001b[1;33m\u001b[0m\u001b[0m\n",
      "\u001b[1;31mAttributeError\u001b[0m: 'tuple' object has no attribute 'insert'"
     ]
    }
   ],
   "source": [
    "T=(1,2,3,4,5)\n",
    "T.insert(2,\"six\")\n",
    "print(T)\n",
    "T.insert(6,(\"six\",\"seven\"))\n",
    "print(T)"
   ]
  },
  {
   "cell_type": "markdown",
   "id": "3cfd23f0-a137-4a7e-a7f3-dbbc81b9fbeb",
   "metadata": {
    "tags": []
   },
   "source": [
    "### Removing element from the Tuple\n",
    "Tuple is immutable so  `pop()` `clear()` and `remove()` method not work on it."
   ]
  },
  {
   "cell_type": "code",
   "execution_count": 33,
   "id": "42cd48eb-f352-47db-8188-3e6320867a50",
   "metadata": {},
   "outputs": [
    {
     "ename": "AttributeError",
     "evalue": "'tuple' object has no attribute 'pop'",
     "output_type": "error",
     "traceback": [
      "\u001b[1;31m---------------------------------------------------------------------------\u001b[0m",
      "\u001b[1;31mAttributeError\u001b[0m                            Traceback (most recent call last)",
      "\u001b[1;32mC:\\Users\\MUHAMM~1\\AppData\\Local\\Temp/ipykernel_7512/2596420943.py\u001b[0m in \u001b[0;36m<module>\u001b[1;34m\u001b[0m\n\u001b[0;32m      1\u001b[0m \u001b[0mT\u001b[0m\u001b[1;33m=\u001b[0m\u001b[1;33m(\u001b[0m\u001b[1;36m1\u001b[0m\u001b[1;33m,\u001b[0m\u001b[1;36m2\u001b[0m\u001b[1;33m,\u001b[0m\u001b[1;36m3\u001b[0m\u001b[1;33m,\u001b[0m\u001b[1;36m4\u001b[0m\u001b[1;33m,\u001b[0m\u001b[1;36m5\u001b[0m\u001b[1;33m,\u001b[0m\u001b[1;36m6\u001b[0m\u001b[1;33m)\u001b[0m\u001b[1;33m\u001b[0m\u001b[1;33m\u001b[0m\u001b[0m\n\u001b[1;32m----> 2\u001b[1;33m \u001b[0ma\u001b[0m\u001b[1;33m=\u001b[0m\u001b[0mT\u001b[0m\u001b[1;33m.\u001b[0m\u001b[0mpop\u001b[0m\u001b[1;33m(\u001b[0m\u001b[1;33m)\u001b[0m\u001b[1;33m\u001b[0m\u001b[1;33m\u001b[0m\u001b[0m\n\u001b[0m\u001b[0;32m      3\u001b[0m \u001b[0mprint\u001b[0m\u001b[1;33m(\u001b[0m\u001b[0ma\u001b[0m\u001b[1;33m)\u001b[0m\u001b[1;33m\u001b[0m\u001b[1;33m\u001b[0m\u001b[0m\n\u001b[0;32m      4\u001b[0m \u001b[0mprint\u001b[0m\u001b[1;33m(\u001b[0m\u001b[0mT\u001b[0m\u001b[1;33m)\u001b[0m\u001b[1;33m\u001b[0m\u001b[1;33m\u001b[0m\u001b[0m\n",
      "\u001b[1;31mAttributeError\u001b[0m: 'tuple' object has no attribute 'pop'"
     ]
    }
   ],
   "source": [
    "T=(1,2,3,4,5,6)\n",
    "a=T.pop()\n",
    "print(a)\n",
    "print(T)"
   ]
  },
  {
   "cell_type": "code",
   "execution_count": 35,
   "id": "4d61c3bd-4a35-4213-81fc-e10cab2f2e78",
   "metadata": {},
   "outputs": [
    {
     "ename": "AttributeError",
     "evalue": "'tuple' object has no attribute 'remove'",
     "output_type": "error",
     "traceback": [
      "\u001b[1;31m---------------------------------------------------------------------------\u001b[0m",
      "\u001b[1;31mAttributeError\u001b[0m                            Traceback (most recent call last)",
      "\u001b[1;32mC:\\Users\\MUHAMM~1\\AppData\\Local\\Temp/ipykernel_7512/957673414.py\u001b[0m in \u001b[0;36m<module>\u001b[1;34m\u001b[0m\n\u001b[0;32m      1\u001b[0m \u001b[0mT\u001b[0m\u001b[1;33m=\u001b[0m\u001b[1;33m(\u001b[0m\u001b[1;36m1\u001b[0m\u001b[1;33m,\u001b[0m\u001b[1;36m2\u001b[0m\u001b[1;33m,\u001b[0m\u001b[1;36m3\u001b[0m\u001b[1;33m,\u001b[0m\u001b[1;36m4\u001b[0m\u001b[1;33m,\u001b[0m\u001b[1;36m4\u001b[0m\u001b[1;33m,\u001b[0m\u001b[1;36m5\u001b[0m\u001b[1;33m,\u001b[0m\u001b[1;36m6\u001b[0m\u001b[1;33m)\u001b[0m\u001b[1;33m\u001b[0m\u001b[1;33m\u001b[0m\u001b[0m\n\u001b[1;32m----> 2\u001b[1;33m \u001b[0ma\u001b[0m\u001b[1;33m=\u001b[0m\u001b[0mT\u001b[0m\u001b[1;33m.\u001b[0m\u001b[0mremove\u001b[0m\u001b[1;33m(\u001b[0m\u001b[1;36m4\u001b[0m\u001b[1;33m)\u001b[0m\u001b[1;33m\u001b[0m\u001b[1;33m\u001b[0m\u001b[0m\n\u001b[0m\u001b[0;32m      3\u001b[0m \u001b[0mprint\u001b[0m\u001b[1;33m(\u001b[0m\u001b[1;34m\"Pop element is:\"\u001b[0m\u001b[1;33m,\u001b[0m\u001b[0ma\u001b[0m\u001b[1;33m)\u001b[0m\u001b[1;33m\u001b[0m\u001b[1;33m\u001b[0m\u001b[0m\n\u001b[0;32m      4\u001b[0m \u001b[0mprint\u001b[0m\u001b[1;33m(\u001b[0m\u001b[0mT\u001b[0m\u001b[1;33m)\u001b[0m\u001b[1;33m\u001b[0m\u001b[1;33m\u001b[0m\u001b[0m\n",
      "\u001b[1;31mAttributeError\u001b[0m: 'tuple' object has no attribute 'remove'"
     ]
    }
   ],
   "source": [
    "T=(1,2,3,4,4,5,6)\n",
    "a=T.remove(4)\n",
    "print(\"Pop element is:\",a) \n",
    "print(T)"
   ]
  },
  {
   "cell_type": "code",
   "execution_count": 37,
   "id": "2048378a-3183-4bd4-a428-3c7b1ea32b12",
   "metadata": {},
   "outputs": [
    {
     "ename": "AttributeError",
     "evalue": "'tuple' object has no attribute 'clear'",
     "output_type": "error",
     "traceback": [
      "\u001b[1;31m---------------------------------------------------------------------------\u001b[0m",
      "\u001b[1;31mAttributeError\u001b[0m                            Traceback (most recent call last)",
      "\u001b[1;32mC:\\Users\\MUHAMM~1\\AppData\\Local\\Temp/ipykernel_7512/2342906390.py\u001b[0m in \u001b[0;36m<module>\u001b[1;34m\u001b[0m\n\u001b[0;32m      1\u001b[0m \u001b[0mT\u001b[0m\u001b[1;33m=\u001b[0m\u001b[1;33m(\u001b[0m\u001b[1;36m1\u001b[0m\u001b[1;33m,\u001b[0m\u001b[1;36m2\u001b[0m\u001b[1;33m,\u001b[0m\u001b[1;36m3\u001b[0m\u001b[1;33m,\u001b[0m\u001b[1;36m4\u001b[0m\u001b[1;33m,\u001b[0m\u001b[1;36m4\u001b[0m\u001b[1;33m,\u001b[0m\u001b[1;36m5\u001b[0m\u001b[1;33m,\u001b[0m\u001b[1;36m6\u001b[0m\u001b[1;33m)\u001b[0m\u001b[1;33m\u001b[0m\u001b[1;33m\u001b[0m\u001b[0m\n\u001b[1;32m----> 2\u001b[1;33m \u001b[0mT\u001b[0m\u001b[1;33m.\u001b[0m\u001b[0mclear\u001b[0m\u001b[1;33m(\u001b[0m\u001b[1;33m)\u001b[0m\u001b[1;33m\u001b[0m\u001b[1;33m\u001b[0m\u001b[0m\n\u001b[0m\u001b[0;32m      3\u001b[0m \u001b[0mprint\u001b[0m\u001b[1;33m(\u001b[0m\u001b[0mT\u001b[0m\u001b[1;33m)\u001b[0m\u001b[1;33m\u001b[0m\u001b[1;33m\u001b[0m\u001b[0m\n",
      "\u001b[1;31mAttributeError\u001b[0m: 'tuple' object has no attribute 'clear'"
     ]
    }
   ],
   "source": [
    "T=(1,2,3,4,4,5,6)\n",
    "T.clear()\n",
    "print(T)"
   ]
  },
  {
   "cell_type": "markdown",
   "id": "4e44c21d-be93-4fbb-be00-cd36294a7581",
   "metadata": {},
   "source": [
    "### Delete Method\n",
    "Delete the whole Tuple `Del()`"
   ]
  },
  {
   "cell_type": "code",
   "execution_count": 38,
   "id": "0b5111dc-6d54-4a03-b2f1-1d9c12d91dfb",
   "metadata": {},
   "outputs": [
    {
     "ename": "NameError",
     "evalue": "name 'T' is not defined",
     "output_type": "error",
     "traceback": [
      "\u001b[1;31m---------------------------------------------------------------------------\u001b[0m",
      "\u001b[1;31mNameError\u001b[0m                                 Traceback (most recent call last)",
      "\u001b[1;32mC:\\Users\\MUHAMM~1\\AppData\\Local\\Temp/ipykernel_7512/1592179115.py\u001b[0m in \u001b[0;36m<module>\u001b[1;34m\u001b[0m\n\u001b[0;32m      1\u001b[0m \u001b[0mT\u001b[0m\u001b[1;33m=\u001b[0m\u001b[1;33m(\u001b[0m\u001b[1;36m1\u001b[0m\u001b[1;33m,\u001b[0m\u001b[1;36m2\u001b[0m\u001b[1;33m,\u001b[0m\u001b[1;36m3\u001b[0m\u001b[1;33m,\u001b[0m\u001b[1;36m4\u001b[0m\u001b[1;33m,\u001b[0m\u001b[1;36m4\u001b[0m\u001b[1;33m,\u001b[0m\u001b[1;36m5\u001b[0m\u001b[1;33m,\u001b[0m\u001b[1;36m6\u001b[0m\u001b[1;33m)\u001b[0m\u001b[1;33m\u001b[0m\u001b[1;33m\u001b[0m\u001b[0m\n\u001b[0;32m      2\u001b[0m \u001b[1;32mdel\u001b[0m \u001b[0mT\u001b[0m\u001b[1;33m\u001b[0m\u001b[1;33m\u001b[0m\u001b[0m\n\u001b[1;32m----> 3\u001b[1;33m \u001b[0mprint\u001b[0m\u001b[1;33m(\u001b[0m\u001b[0mT\u001b[0m\u001b[1;33m)\u001b[0m\u001b[1;33m\u001b[0m\u001b[1;33m\u001b[0m\u001b[0m\n\u001b[0m",
      "\u001b[1;31mNameError\u001b[0m: name 'T' is not defined"
     ]
    }
   ],
   "source": [
    "T=(1,2,3,4,4,5,6)\n",
    "del T\n",
    "print(T)"
   ]
  },
  {
   "cell_type": "markdown",
   "id": "45e52fbb-a6f9-4222-8f6b-f49f06716dc2",
   "metadata": {},
   "source": [
    "### Type Casting from string to Tuple"
   ]
  },
  {
   "cell_type": "code",
   "execution_count": 40,
   "id": "96d9e346-c03f-4575-9a60-6f4a88e2ef2c",
   "metadata": {},
   "outputs": [
    {
     "name": "stdout",
     "output_type": "stream",
     "text": [
      "['Learning', 'is', 'fun']\n"
     ]
    }
   ],
   "source": [
    "a=\"Learning is fun\"\n",
    "print(a.split(\" \"))"
   ]
  },
  {
   "cell_type": "code",
   "execution_count": 45,
   "id": "67cc802c-99b6-4cc3-ab92-b61ffd795b7b",
   "metadata": {},
   "outputs": [
    {
     "name": "stdout",
     "output_type": "stream",
     "text": [
      "('L', 'e', 'a', 'r', 'n', 'i', 'n', 'g', ' ', 'i', 's', ' ', 'f', 'u', 'n')\n"
     ]
    }
   ],
   "source": [
    "a=\"Learning is fun\"\n",
    "print(tuple(a))"
   ]
  },
  {
   "cell_type": "code",
   "execution_count": 46,
   "id": "cab6ebca-783c-4f0c-971c-28ba659ac27f",
   "metadata": {},
   "outputs": [
    {
     "name": "stdout",
     "output_type": "stream",
     "text": [
      "<class 'str'> Learning is fun\n",
      "<class 'tuple'> ('Learning', 'is', 'fun')\n",
      "<class 'str'> Learning is fun\n"
     ]
    }
   ],
   "source": [
    "a=\"Learning is fun\"\n",
    "print(type(a),a)\n",
    "T=tuple(a.split(' '))\n",
    "print(type(T),T)\n",
    "T1=' '.join(T)\n",
    "print(type(T1),T1)"
   ]
  },
  {
   "cell_type": "markdown",
   "id": "b5cb8cc2-7960-4119-96f0-44824e37b13c",
   "metadata": {},
   "source": [
    "### Sorting a Tuple\n",
    "There is onee method to sort a Tuple\n",
    ">- `sorted()` It sort the Tuple, not modify the originaT Tuple and return the sorted version."
   ]
  },
  {
   "cell_type": "code",
   "execution_count": 54,
   "id": "146f4fef-9805-4281-aea9-96d8e564738d",
   "metadata": {},
   "outputs": [
    {
     "ename": "TypeError",
     "evalue": "'<' not supported between instances of 'int' and 'str'",
     "output_type": "error",
     "traceback": [
      "\u001b[1;31m---------------------------------------------------------------------------\u001b[0m",
      "\u001b[1;31mTypeError\u001b[0m                                 Traceback (most recent call last)",
      "\u001b[1;32mC:\\Users\\MUHAMM~1\\AppData\\Local\\Temp/ipykernel_7512/1620346624.py\u001b[0m in \u001b[0;36m<module>\u001b[1;34m\u001b[0m\n\u001b[0;32m      1\u001b[0m \u001b[1;31m# Sort not support on hetoregenous elements.\u001b[0m\u001b[1;33m\u001b[0m\u001b[1;33m\u001b[0m\u001b[0m\n\u001b[0;32m      2\u001b[0m \u001b[0mT1\u001b[0m\u001b[1;33m=\u001b[0m\u001b[1;33m(\u001b[0m\u001b[1;36m2\u001b[0m\u001b[1;33m,\u001b[0m\u001b[1;36m5\u001b[0m\u001b[1;33m,\u001b[0m\u001b[1;34m'six'\u001b[0m\u001b[1;33m,\u001b[0m\u001b[1;36m1\u001b[0m\u001b[1;33m,\u001b[0m\u001b[1;34m'seven'\u001b[0m\u001b[1;33m)\u001b[0m\u001b[1;33m\u001b[0m\u001b[1;33m\u001b[0m\u001b[0m\n\u001b[1;32m----> 3\u001b[1;33m \u001b[0msorted\u001b[0m\u001b[1;33m(\u001b[0m\u001b[0mT1\u001b[0m\u001b[1;33m,\u001b[0m\u001b[0mreverse\u001b[0m\u001b[1;33m=\u001b[0m\u001b[1;32mTrue\u001b[0m\u001b[1;33m)\u001b[0m\u001b[1;33m\u001b[0m\u001b[1;33m\u001b[0m\u001b[0m\n\u001b[0m\u001b[0;32m      4\u001b[0m \u001b[0mprint\u001b[0m\u001b[1;33m(\u001b[0m\u001b[0mT1\u001b[0m\u001b[1;33m)\u001b[0m\u001b[1;33m\u001b[0m\u001b[1;33m\u001b[0m\u001b[0m\n",
      "\u001b[1;31mTypeError\u001b[0m: '<' not supported between instances of 'int' and 'str'"
     ]
    }
   ],
   "source": [
    "# Sort not support on hetoregenous elements.\n",
    "T1=(2,5,'six',1,'seven')\n",
    "sorted(T1,reverse=True)\n",
    "print(T1)"
   ]
  },
  {
   "cell_type": "code",
   "execution_count": 63,
   "id": "5bce7e0e-a769-42d7-b22c-af2d1659722d",
   "metadata": {},
   "outputs": [
    {
     "name": "stdout",
     "output_type": "stream",
     "text": [
      "(2, 5, 3, 1, 0)\n",
      "[0, 1, 2, 3, 5]\n"
     ]
    }
   ],
   "source": [
    "T1=(2,5,3,1,0)\n",
    "T2=sorted(T1) ## return list\n",
    "print(T1,T2, sep=\"\\n\")"
   ]
  },
  {
   "cell_type": "markdown",
   "id": "17fb2fe6-d6a2-4c9a-b5e3-a338f94a5d5e",
   "metadata": {},
   "source": [
    "### Custom Sorting\n",
    "You can customize the sort according to your requirements by passing the user defined function to the key.\n",
    "There is 3 arguments in sort() method: `sort(Tuple, key=None, reverse=False)`\n",
    ">- we write one argument function that is pass to key. Sorted method run this one argument function on all the elements of Tuple and return one value and a shadow Listis created that contain all the new values of the Tuple."
   ]
  },
  {
   "cell_type": "code",
   "execution_count": 70,
   "id": "c6fd2a38-f570-41a4-a44d-3465949710cb",
   "metadata": {},
   "outputs": [
    {
     "name": "stdout",
     "output_type": "stream",
     "text": [
      "['eight', 'five', 'four', 'nine', 'one', 'seven', 'six', 'ten', 'three', 'two']\n"
     ]
    }
   ],
   "source": [
    "# sort on the basis of the first character of string in the Tuple\n",
    "T1=('one','two','three','four','five','six','seven','eight','nine','ten')\n",
    "T2=sorted(T1)\n",
    "print(T2)\n"
   ]
  },
  {
   "cell_type": "code",
   "execution_count": 79,
   "id": "94279a1f-4d31-459c-8c0d-aabada2a874e",
   "metadata": {},
   "outputs": [
    {
     "name": "stdout",
     "output_type": "stream",
     "text": [
      "['one', 'two', 'six', 'ten', 'four', 'five', 'nine', 'three', 'seven', 'eight']\n"
     ]
    }
   ],
   "source": [
    "# want to sort on the basis of the Tength of the string\n",
    "T1=('one','two','three','four','five','six','seven','eight','nine','ten')\n",
    "T2=sorted(T1,key=len)\n",
    "print(T2)"
   ]
  },
  {
   "cell_type": "code",
   "execution_count": 93,
   "id": "e6d54885-61b6-49cb-b58f-6d7c306edd63",
   "metadata": {},
   "outputs": [
    {
     "name": "stdout",
     "output_type": "stream",
     "text": [
      "['one', 'three', 'five', 'nine', 'seven', 'ten', 'two', 'four', 'eight', 'six']\n"
     ]
    }
   ],
   "source": [
    "# sort the elements on the basis of the Tast character of the string\n",
    "def function(last):\n",
    "    return last[-1]\n",
    "T1=('one','two','three','four','five','six','seven','eight','nine','ten')\n",
    "T2=sorted(T1,key=function)\n",
    "print(T2)"
   ]
  },
  {
   "cell_type": "markdown",
   "id": "ab54aa78-1cdc-463d-be28-3642cf6b83f2",
   "metadata": {},
   "source": [
    "### Some Basic Functions on Tuple\n",
    ">- Find minimum element in the Tuple. `min(Tuple)`\n",
    ">- Find maximum element in the Tuple. `max(Tuple)`\n",
    ">- Find Tength of the Tuple. `Ten(Tuple)`\n",
    ">- Find sum of the elements of Tuple. `sum(Tuple)`\n",
    ">- Find count of elements in a Tuple `count(element)`\n"
   ]
  },
  {
   "cell_type": "code",
   "execution_count": 101,
   "id": "f0dc1979-632f-4557-901c-b0daf741bd28",
   "metadata": {},
   "outputs": [
    {
     "name": "stdout",
     "output_type": "stream",
     "text": [
      "Minimum element 1\n",
      "Maximum element 6\n",
      "Sum of elements 23\n",
      "length of Tuple 8\n",
      "count of element in Tuple 3\n"
     ]
    }
   ],
   "source": [
    "T=(1,2,3,4,5,6,1,1)\n",
    "print('Minimum element',min(T))\n",
    "print('Maximum element',max(T))\n",
    "print('Sum of elements',sum(T))\n",
    "print('length of Tuple',len(T))\n",
    "print('count of element in Tuple',T.count(1))"
   ]
  }
 ],
 "metadata": {
  "kernelspec": {
   "display_name": "Python 3 (ipykernel)",
   "language": "python",
   "name": "python3"
  },
  "language_info": {
   "codemirror_mode": {
    "name": "ipython",
    "version": 3
   },
   "file_extension": ".py",
   "mimetype": "text/x-python",
   "name": "python",
   "nbconvert_exporter": "python",
   "pygments_lexer": "ipython3",
   "version": "3.9.7"
  }
 },
 "nbformat": 4,
 "nbformat_minor": 5
}
