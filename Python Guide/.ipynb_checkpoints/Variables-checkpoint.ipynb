{
 "cells": [
  {
   "cell_type": "markdown",
   "id": "3bde41e2-66d8-45ce-8b2b-58f909869f62",
   "metadata": {},
   "source": [
    "## Variables\n",
    "*Variables not store information and not act as container to store data.It pointing to the memory location that hold the value.*"
   ]
  },
  {
   "cell_type": "code",
   "execution_count": 39,
   "id": "e0f1ef64-c243-4f9b-b927-ba06e7685c06",
   "metadata": {},
   "outputs": [
    {
     "data": {
      "text/plain": [
       "int"
      ]
     },
     "execution_count": 39,
     "metadata": {},
     "output_type": "execute_result"
    }
   ],
   "source": [
    "a=10 ## Python is a dynamic typed programing language means automatically detect the datatype of the value given to the variable at run time.\n",
    "type(a) ## use type keyword to check the datatype of the variable."
   ]
  },
  {
   "cell_type": "code",
   "execution_count": 11,
   "id": "a88da54b-efb4-4cc6-b1c7-293ee1904ffb",
   "metadata": {},
   "outputs": [
    {
     "name": "stdout",
     "output_type": "stream",
     "text": [
      "<class 'str'>\n",
      "100\n"
     ]
    }
   ],
   "source": [
    "## You can also do the typecasting in the following way\n",
    "a=str(100)\n",
    "print(type(a))\n",
    "print(a)\n"
   ]
  },
  {
   "cell_type": "code",
   "execution_count": 38,
   "id": "c71072d8-d562-4304-af9f-fd6477469295",
   "metadata": {},
   "outputs": [
    {
     "data": {
      "text/plain": [
       "False"
      ]
     },
     "execution_count": 38,
     "metadata": {},
     "output_type": "execute_result"
    }
   ],
   "source": [
    "##Variable type is check by using the isinstance method that return a bollean value\n",
    "a=10\n",
    "isinstance(a,str) ##return false because a is int"
   ]
  },
  {
   "cell_type": "code",
   "execution_count": 13,
   "id": "d2abd49b-c754-4ee9-8197-2efb2610aeeb",
   "metadata": {},
   "outputs": [
    {
     "data": {
      "text/plain": [
       "True"
      ]
     },
     "execution_count": 13,
     "metadata": {},
     "output_type": "execute_result"
    }
   ],
   "source": [
    "a=\"10\"\n",
    "isinstance(a,str)"
   ]
  },
  {
   "cell_type": "code",
   "execution_count": 37,
   "id": "84aeaa48-c7ce-45d2-baec-6a5c002816ad",
   "metadata": {},
   "outputs": [
    {
     "data": {
      "text/plain": [
       "(2094402071120, 2094402071440)"
      ]
     },
     "execution_count": 37,
     "metadata": {},
     "output_type": "execute_result"
    }
   ],
   "source": [
    "## id is used to get the location of the variables\n",
    "a=12\n",
    "b=12\n",
    "id(10),id(20)"
   ]
  },
  {
   "cell_type": "code",
   "execution_count": 35,
   "id": "860bf9f2-c05f-4a78-8976-7f086b00b4ae",
   "metadata": {},
   "outputs": [
    {
     "data": {
      "text/plain": [
       "(2094483028848, 2094499756848)"
      ]
     },
     "execution_count": 35,
     "metadata": {},
     "output_type": "execute_result"
    }
   ],
   "source": [
    "a=\"hello World\"\n",
    "b=\"hello World\"\n",
    "id(a),id(b)"
   ]
  }
 ],
 "metadata": {
  "kernelspec": {
   "display_name": "Python 3 (ipykernel)",
   "language": "python",
   "name": "python3"
  },
  "language_info": {
   "codemirror_mode": {
    "name": "ipython",
    "version": 3
   },
   "file_extension": ".py",
   "mimetype": "text/x-python",
   "name": "python",
   "nbconvert_exporter": "python",
   "pygments_lexer": "ipython3",
   "version": "3.9.7"
  }
 },
 "nbformat": 4,
 "nbformat_minor": 5
}
