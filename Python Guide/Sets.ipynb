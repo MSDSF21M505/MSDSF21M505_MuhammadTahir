{
 "cells": [
  {
   "cell_type": "markdown",
   "id": "4fb0bf76-7f39-4de2-b84f-5b99efa680c5",
   "metadata": {},
   "source": [
    "### Set\n",
    "**Set is a unordered sequence of elements that can Store multiple elements of heterogenous types. It can be mutable, iterable and cannot contain duplicate elements.** "
   ]
  },
  {
   "cell_type": "code",
   "execution_count": 14,
   "id": "88eafae5-26de-45f6-aab4-a7bbb361fcaf",
   "metadata": {},
   "outputs": [
    {
     "name": "stdout",
     "output_type": "stream",
     "text": [
      "<class 'set'> {1, 2, 3}\n",
      "<class 'set'> {1, 3.0, 'two'}\n"
     ]
    }
   ],
   "source": [
    "# Set is create using curly brakets or set([]).\n",
    "S={1,2,3};\n",
    "print(type(S),S)\n",
    "\n",
    "S=set([1,'two',3.0])\n",
    "print(type(S),S)\n"
   ]
  },
  {
   "cell_type": "markdown",
   "id": "e384e9b1-22c5-46c1-8876-c855f88c17a3",
   "metadata": {},
   "source": [
    "### Proof of Concept"
   ]
  },
  {
   "cell_type": "markdown",
   "id": "c4b8e927-0cc9-402c-bc62-d1480604ef62",
   "metadata": {},
   "source": [
    "#### Sets are unordered\n",
    "set elements is not assosiated with index.\n",
    "`==` compare the content of the content of the set"
   ]
  },
  {
   "cell_type": "code",
   "execution_count": 15,
   "id": "92903c04-9aeb-4b77-9bb7-730afcb82114",
   "metadata": {},
   "outputs": [
    {
     "name": "stdout",
     "output_type": "stream",
     "text": [
      "{1, 2, 4, 5, 6, 8}\n",
      "{0.2, 1.0, 2.2, 3.2}\n"
     ]
    }
   ],
   "source": [
    "S=set([1,2,5,8,4,6])\n",
    "print(S)\n",
    "S1=set([1.0,3.2,2.2,0.2])\n",
    "print(S1)"
   ]
  },
  {
   "cell_type": "code",
   "execution_count": 18,
   "id": "85f30a2e-1a05-4130-98e2-9fb73a21e1f6",
   "metadata": {},
   "outputs": [
    {
     "name": "stdout",
     "output_type": "stream",
     "text": [
      "2397675701408 2397675701856 False True\n"
     ]
    }
   ],
   "source": [
    "S=set([1,2,3])\n",
    "S1=set([2,3,1]) ##\n",
    "print(id(S),id(S1),S is S1,S == S1)"
   ]
  },
  {
   "cell_type": "markdown",
   "id": "d50a20ec-f9a3-4de8-accd-3281411870ce",
   "metadata": {},
   "source": [
    "### Set contain Heterogenous elements"
   ]
  },
  {
   "cell_type": "code",
   "execution_count": 19,
   "id": "43fa938b-75c4-4130-8d5a-bb9035236f0f",
   "metadata": {},
   "outputs": [
    {
     "name": "stdout",
     "output_type": "stream",
     "text": [
      "<class 'tuple'> (1, 'Swo', 3.0)\n"
     ]
    }
   ],
   "source": [
    "# Set contain elements of differenS data types\n",
    "S=(1,'Swo',3.0)\n",
    "print(type(S),S)"
   ]
  },
  {
   "cell_type": "markdown",
   "id": "0d80a58e-e3f6-4fee-b06e-3de00fe22f56",
   "metadata": {},
   "source": [
    "### Set is mutable mean it can be changed"
   ]
  },
  {
   "cell_type": "code",
   "execution_count": 20,
   "id": "39f0e62c-a8b7-495e-a080-2e6e458f147d",
   "metadata": {},
   "outputs": [
    {
     "name": "stdout",
     "output_type": "stream",
     "text": [
      "Set {1, 3.0, 6}\n"
     ]
    }
   ],
   "source": [
    "set([1,6,3.0])\n",
    "print(\"Set\",S)"
   ]
  },
  {
   "cell_type": "markdown",
   "id": "63deb6ae-7f24-4cbf-bec9-24ee2d80a9bb",
   "metadata": {},
   "source": [
    "### Set cannot contain duplicate elements"
   ]
  },
  {
   "cell_type": "code",
   "execution_count": 21,
   "id": "e9788905-9f04-444b-ae4b-d65b4f257cdb",
   "metadata": {},
   "outputs": [
    {
     "name": "stdout",
     "output_type": "stream",
     "text": [
      "<class 'set'> {'three', 'two', 'One'}\n"
     ]
    }
   ],
   "source": [
    "S=set([\"One\",\"two\",\"three\",\"three\"])\n",
    "print(type(S),S)"
   ]
  },
  {
   "cell_type": "code",
   "execution_count": 22,
   "id": "21246b81-e2df-46b1-ba75-0763559bab5b",
   "metadata": {},
   "outputs": [
    {
     "name": "stdout",
     "output_type": "stream",
     "text": [
      "<class 'set'> {1, 4}\n"
     ]
    }
   ],
   "source": [
    "S=set([1,4,4])\n",
    "print(type(S),S)"
   ]
  },
  {
   "cell_type": "markdown",
   "id": "84b48ad8-82c6-402a-9294-4ebfe524b105",
   "metadata": {},
   "source": [
    "### Set contain Nested elements of immtable type"
   ]
  },
  {
   "cell_type": "code",
   "execution_count": 23,
   "id": "6010063c-4540-4757-a426-2add619aef8d",
   "metadata": {},
   "outputs": [
    {
     "name": "stdout",
     "output_type": "stream",
     "text": [
      "<class 'set'> {(1, 2, 3), 'one', 'Swo', 'Shree', (1.0, (2.0, 3.0))}\n"
     ]
    }
   ],
   "source": [
    "## Mean Set inside Set\n",
    "S=set(['one','Swo','Shree',(1,2,3),(1.0,(2.0,(3.0)))])\n",
    "print(type(S),S)"
   ]
  },
  {
   "cell_type": "code",
   "execution_count": 24,
   "id": "dcc2ce0f-7d2e-48d0-84ed-ef3c464a68f5",
   "metadata": {},
   "outputs": [
    {
     "ename": "TypeError",
     "evalue": "unhashable type: 'list'",
     "output_type": "error",
     "traceback": [
      "\u001b[1;31m---------------------------------------------------------------------------\u001b[0m",
      "\u001b[1;31mTypeError\u001b[0m                                 Traceback (most recent call last)",
      "\u001b[1;32mC:\\Users\\MUHAMM~1\\AppData\\Local\\Temp/ipykernel_7388/4084127259.py\u001b[0m in \u001b[0;36m<module>\u001b[1;34m\u001b[0m\n\u001b[1;32m----> 1\u001b[1;33m \u001b[0mS\u001b[0m\u001b[1;33m=\u001b[0m\u001b[0mset\u001b[0m\u001b[1;33m(\u001b[0m\u001b[1;33m[\u001b[0m\u001b[1;34m'one'\u001b[0m\u001b[1;33m,\u001b[0m\u001b[1;34m'Swo'\u001b[0m\u001b[1;33m,\u001b[0m\u001b[1;34m'Shree'\u001b[0m\u001b[1;33m,\u001b[0m\u001b[1;33m[\u001b[0m\u001b[1;36m1\u001b[0m\u001b[1;33m,\u001b[0m\u001b[1;36m2\u001b[0m\u001b[1;33m,\u001b[0m\u001b[1;36m3\u001b[0m\u001b[1;33m]\u001b[0m\u001b[1;33m,\u001b[0m\u001b[1;33m(\u001b[0m\u001b[1;36m1.0\u001b[0m\u001b[1;33m,\u001b[0m\u001b[1;33m(\u001b[0m\u001b[1;36m2.0\u001b[0m\u001b[1;33m,\u001b[0m\u001b[1;33m(\u001b[0m\u001b[1;36m3.0\u001b[0m\u001b[1;33m)\u001b[0m\u001b[1;33m)\u001b[0m\u001b[1;33m)\u001b[0m\u001b[1;33m]\u001b[0m\u001b[1;33m)\u001b[0m\u001b[1;33m\u001b[0m\u001b[1;33m\u001b[0m\u001b[0m\n\u001b[0m\u001b[0;32m      2\u001b[0m \u001b[0mprint\u001b[0m\u001b[1;33m(\u001b[0m\u001b[0mtype\u001b[0m\u001b[1;33m(\u001b[0m\u001b[0mS\u001b[0m\u001b[1;33m)\u001b[0m\u001b[1;33m,\u001b[0m\u001b[0mS\u001b[0m\u001b[1;33m)\u001b[0m\u001b[1;33m\u001b[0m\u001b[1;33m\u001b[0m\u001b[0m\n",
      "\u001b[1;31mTypeError\u001b[0m: unhashable type: 'list'"
     ]
    }
   ],
   "source": [
    "# List is mutable so list cannot be nested in sets\n",
    "S=set(['one','Swo','Shree',[1,2,3],(1.0,(2.0,(3.0)))])\n",
    "print(type(S),S)"
   ]
  },
  {
   "cell_type": "markdown",
   "id": "e1888745-eeb1-4d2b-a2e0-98cad31d5b55",
   "metadata": {},
   "source": [
    "### Packing and Unpacking Set"
   ]
  },
  {
   "cell_type": "code",
   "execution_count": 27,
   "id": "879b6d3a-a9da-41e6-a803-8a924d4b7dd1",
   "metadata": {},
   "outputs": [
    {
     "name": "stdout",
     "output_type": "stream",
     "text": [
      "Four Two One Three\n",
      "<class 'str'>\n"
     ]
    }
   ],
   "source": [
    "S=set([\"One\",\"Two\",\"Three\",\"Four\"])\n",
    "a,b,c,d=S\n",
    "print(a,b,c,d, sep=' ')\n",
    "print(type(a))"
   ]
  },
  {
   "cell_type": "code",
   "execution_count": 28,
   "id": "a763ca33-9826-4069-9d02-20cc4a8e18ed",
   "metadata": {},
   "outputs": [
    {
     "name": "stdout",
     "output_type": "stream",
     "text": [
      "<class 'tuple'> ('Four', 'Two', 'One', 'Three')\n",
      "<class 'set'> {('Four', 'Two', 'One', 'Three')}\n"
     ]
    }
   ],
   "source": [
    "S=a,b,c,d\n",
    "S2=set([S])\n",
    "print(type(S),S)\n",
    "print(type(S2),S2)"
   ]
  },
  {
   "cell_type": "markdown",
   "id": "dce8d73a-db1b-41f1-afac-f35746faa872",
   "metadata": {},
   "source": [
    "### Slice\n",
    "Slice is used to Sake the subset of the Set using indices.\n",
    "Slicing is not done on sets."
   ]
  },
  {
   "cell_type": "markdown",
   "id": "2812e7df-b303-4b73-bf9b-9f77cd48d07a",
   "metadata": {},
   "source": [
    "### Asscessing element in the Set\n",
    "as no indexes is assosiated with the elements in the sets so we can asses or check the element using for loop or in operator"
   ]
  },
  {
   "cell_type": "code",
   "execution_count": 31,
   "id": "615aa7db-c88b-4a16-86e1-8efcd912107a",
   "metadata": {},
   "outputs": [
    {
     "name": "stdout",
     "output_type": "stream",
     "text": [
      "True\n"
     ]
    }
   ],
   "source": [
    "S=set([\"One\",\"Two\"])\n",
    "print( \"One\" in S) # Case Sensitive"
   ]
  },
  {
   "cell_type": "markdown",
   "id": "ac680b0d-9b23-4038-9778-bd27a0511c3b",
   "metadata": {},
   "source": [
    "### Cannot modifying elements in Set"
   ]
  },
  {
   "cell_type": "markdown",
   "id": "8c330509-8bdb-47e4-9798-4b4e72939f55",
   "metadata": {},
   "source": [
    "### Add elements in set\n",
    "- `add(val)` add only one value in the set\n",
    "- `update(val)` add more than one value in the set"
   ]
  },
  {
   "cell_type": "code",
   "execution_count": 56,
   "id": "56d3efbd-ab23-44c0-b2d8-5998244e22c0",
   "metadata": {},
   "outputs": [
    {
     "name": "stdout",
     "output_type": "stream",
     "text": [
      "{1, 2, 3, 4, 5, 6, 'seven'}\n"
     ]
    }
   ],
   "source": [
    "S=set([1,2,3,4,5,6])\n",
    "S.add(\"seven\")\n",
    "print(S)"
   ]
  },
  {
   "cell_type": "code",
   "execution_count": 57,
   "id": "33867fbd-5c87-4096-ab2d-9822c4dfea90",
   "metadata": {},
   "outputs": [
    {
     "ename": "TypeError",
     "evalue": "set.add() takes exactly one argument (2 given)",
     "output_type": "error",
     "traceback": [
      "\u001b[1;31m---------------------------------------------------------------------------\u001b[0m",
      "\u001b[1;31mTypeError\u001b[0m                                 Traceback (most recent call last)",
      "\u001b[1;32mC:\\Users\\MUHAMM~1\\AppData\\Local\\Temp/ipykernel_7388/3900262435.py\u001b[0m in \u001b[0;36m<module>\u001b[1;34m\u001b[0m\n\u001b[0;32m      1\u001b[0m \u001b[0mS\u001b[0m\u001b[1;33m=\u001b[0m\u001b[0mset\u001b[0m\u001b[1;33m(\u001b[0m\u001b[1;33m[\u001b[0m\u001b[1;36m1\u001b[0m\u001b[1;33m,\u001b[0m\u001b[1;36m2\u001b[0m\u001b[1;33m,\u001b[0m\u001b[1;36m3\u001b[0m\u001b[1;33m,\u001b[0m\u001b[1;36m4\u001b[0m\u001b[1;33m,\u001b[0m\u001b[1;36m5\u001b[0m\u001b[1;33m,\u001b[0m\u001b[1;36m6\u001b[0m\u001b[1;33m]\u001b[0m\u001b[1;33m)\u001b[0m\u001b[1;33m\u001b[0m\u001b[1;33m\u001b[0m\u001b[0m\n\u001b[1;32m----> 2\u001b[1;33m \u001b[0mS\u001b[0m\u001b[1;33m.\u001b[0m\u001b[0madd\u001b[0m\u001b[1;33m(\u001b[0m\u001b[1;36m7\u001b[0m\u001b[1;33m,\u001b[0m\u001b[1;36m8\u001b[0m\u001b[1;33m)\u001b[0m\u001b[1;33m\u001b[0m\u001b[1;33m\u001b[0m\u001b[0m\n\u001b[0m\u001b[0;32m      3\u001b[0m \u001b[0mprint\u001b[0m\u001b[1;33m(\u001b[0m\u001b[0mS\u001b[0m\u001b[1;33m)\u001b[0m\u001b[1;33m\u001b[0m\u001b[1;33m\u001b[0m\u001b[0m\n",
      "\u001b[1;31mTypeError\u001b[0m: set.add() takes exactly one argument (2 given)"
     ]
    }
   ],
   "source": [
    "S=set([1,2,3,4,5,6])\n",
    "S.add(7,8)\n",
    "print(S)"
   ]
  },
  {
   "cell_type": "code",
   "execution_count": 59,
   "id": "dad0431a-68a1-413f-b809-657ee6ee5d2d",
   "metadata": {},
   "outputs": [
    {
     "name": "stdout",
     "output_type": "stream",
     "text": [
      "{1, 2, 3, 4, 5, 6, 7, 8}\n"
     ]
    }
   ],
   "source": [
    "S=set([1,2,3,4,5,6])\n",
    "S.update([7,8])\n",
    "print(S)"
   ]
  },
  {
   "cell_type": "markdown",
   "id": "3cfd23f0-a137-4a7e-a7f3-dbbc81b9fbeb",
   "metadata": {
    "tags": []
   },
   "source": [
    "### Removing element from the Set\n",
    "\n",
    "- `pop(index)` some arbitary element is poped and return.\n",
    "- `remove(val)` a element is given as argument that is remove but it return none.\n",
    "- `discard(val)` a value is remove from the set adavantage of discard is that if value is not present in set it return no error\n",
    "-`clear()` all elements of a tuple\n",
    "- `del()` delete the entire set"
   ]
  },
  {
   "cell_type": "code",
   "execution_count": 39,
   "id": "42cd48eb-f352-47db-8188-3e6320867a50",
   "metadata": {},
   "outputs": [
    {
     "name": "stdout",
     "output_type": "stream",
     "text": [
      "1\n",
      "{2, 3, 4, 5, 6}\n"
     ]
    }
   ],
   "source": [
    "S=set([1,2,3,4,5,6])\n",
    "a=S.pop()\n",
    "print(a)\n",
    "print(S)"
   ]
  },
  {
   "cell_type": "code",
   "execution_count": 44,
   "id": "4d61c3bd-4a35-4213-81fc-e10cab2f2e78",
   "metadata": {},
   "outputs": [
    {
     "name": "stdout",
     "output_type": "stream",
     "text": [
      "Pop element is: None\n",
      "{1, 2, 3, 5, 6}\n"
     ]
    }
   ],
   "source": [
    "S=set([1,2,3,4,5,6])\n",
    "a=S.remove(4)\n",
    "print(\"Pop element is:\",a) \n",
    "print(S)"
   ]
  },
  {
   "cell_type": "code",
   "execution_count": 51,
   "id": "2a35f24f-5004-4cf7-9ce4-bd9fe7c45d0e",
   "metadata": {},
   "outputs": [
    {
     "name": "stdout",
     "output_type": "stream",
     "text": [
      "Pop element is: None\n",
      "{1, 2, 3, 4, 5, 6}\n"
     ]
    }
   ],
   "source": [
    "S=set([1,2,3,4,5,6])\n",
    "a=S.discard(10)\n",
    "print(\"Pop element is:\",a) \n",
    "print(S)"
   ]
  },
  {
   "cell_type": "code",
   "execution_count": 45,
   "id": "2048378a-3183-4bd4-a428-3c7b1ea32b12",
   "metadata": {},
   "outputs": [
    {
     "name": "stdout",
     "output_type": "stream",
     "text": [
      "set()\n"
     ]
    }
   ],
   "source": [
    "S=set([1,2,3,4,5,6])\n",
    "S.clear()\n",
    "print(S)"
   ]
  },
  {
   "cell_type": "markdown",
   "id": "4e44c21d-be93-4fbb-be00-cd36294a7581",
   "metadata": {},
   "source": [
    "### Delete Method\n",
    "DeleSe the whole Set `Del()`"
   ]
  },
  {
   "cell_type": "code",
   "execution_count": 46,
   "id": "0b5111dc-6d54-4a03-b2f1-1d9c12d91dfb",
   "metadata": {},
   "outputs": [
    {
     "ename": "NameError",
     "evalue": "name 'S' is not defined",
     "output_type": "error",
     "traceback": [
      "\u001b[1;31m---------------------------------------------------------------------------\u001b[0m",
      "\u001b[1;31mNameError\u001b[0m                                 Traceback (most recent call last)",
      "\u001b[1;32mC:\\Users\\MUHAMM~1\\AppData\\Local\\Temp/ipykernel_7388/2275184200.py\u001b[0m in \u001b[0;36m<module>\u001b[1;34m\u001b[0m\n\u001b[0;32m      1\u001b[0m \u001b[0mS\u001b[0m\u001b[1;33m=\u001b[0m\u001b[0mset\u001b[0m\u001b[1;33m(\u001b[0m\u001b[1;33m[\u001b[0m\u001b[1;36m1\u001b[0m\u001b[1;33m,\u001b[0m\u001b[1;36m2\u001b[0m\u001b[1;33m,\u001b[0m\u001b[1;36m3\u001b[0m\u001b[1;33m,\u001b[0m\u001b[1;36m4\u001b[0m\u001b[1;33m,\u001b[0m\u001b[1;36m5\u001b[0m\u001b[1;33m,\u001b[0m\u001b[1;36m6\u001b[0m\u001b[1;33m]\u001b[0m\u001b[1;33m)\u001b[0m\u001b[1;33m\u001b[0m\u001b[1;33m\u001b[0m\u001b[0m\n\u001b[0;32m      2\u001b[0m \u001b[1;32mdel\u001b[0m \u001b[0mS\u001b[0m\u001b[1;33m\u001b[0m\u001b[1;33m\u001b[0m\u001b[0m\n\u001b[1;32m----> 3\u001b[1;33m \u001b[0mprint\u001b[0m\u001b[1;33m(\u001b[0m\u001b[0mS\u001b[0m\u001b[1;33m)\u001b[0m\u001b[1;33m\u001b[0m\u001b[1;33m\u001b[0m\u001b[0m\n\u001b[0m",
      "\u001b[1;31mNameError\u001b[0m: name 'S' is not defined"
     ]
    }
   ],
   "source": [
    "S=set([1,2,3,4,5,6])\n",
    "del S\n",
    "print(S)"
   ]
  },
  {
   "cell_type": "markdown",
   "id": "45e52fbb-a6f9-4222-8f6b-f49f06716dc2",
   "metadata": {},
   "source": [
    "### Type Casting from string to Set"
   ]
  },
  {
   "cell_type": "code",
   "execution_count": 48,
   "id": "96d9e346-c03f-4575-9a60-6f4a88e2ef2c",
   "metadata": {},
   "outputs": [
    {
     "name": "stdout",
     "output_type": "stream",
     "text": [
      "{'is', 'fun', 'Learning'}\n"
     ]
    }
   ],
   "source": [
    "a=\"Learning is fun\"\n",
    "print(set(a.split(\" \")))"
   ]
  },
  {
   "cell_type": "code",
   "execution_count": 49,
   "id": "67cc802c-99b6-4cc3-ab92-b61ffd795b7b",
   "metadata": {},
   "outputs": [
    {
     "name": "stdout",
     "output_type": "stream",
     "text": [
      "{'r', 'g', 'f', 'e', 'u', 'a', 'n', 'L', ' ', 's', 'i'}\n"
     ]
    }
   ],
   "source": [
    "a=\"Learning is fun\"\n",
    "print(set(a))"
   ]
  },
  {
   "cell_type": "code",
   "execution_count": 50,
   "id": "cab6ebca-783c-4f0c-971c-28ba659ac27f",
   "metadata": {},
   "outputs": [
    {
     "name": "stdout",
     "output_type": "stream",
     "text": [
      "<class 'str'> Learning is fun\n",
      "<class 'set'> {'is', 'fun', 'Learning'}\n",
      "<class 'str'> is fun Learning\n"
     ]
    }
   ],
   "source": [
    "a=\"Learning is fun\"\n",
    "print(type(a),a)\n",
    "S=set(a.split(' '))\n",
    "print(type(S),S)\n",
    "S1=' '.join(S)\n",
    "print(type(S1),S1)"
   ]
  },
  {
   "cell_type": "markdown",
   "id": "b5cb8cc2-7960-4119-96f0-44824e37b13c",
   "metadata": {},
   "source": [
    "### Sorting a Set\n",
    "Elements of set cannot be sorted."
   ]
  },
  {
   "cell_type": "markdown",
   "id": "ab54aa78-1cdc-463d-be28-3642cf6b83f2",
   "metadata": {},
   "source": [
    "### Some Basic Functions on Set\n",
    ">- Find minimum element in She Set. `min(Set)`\n",
    ">- Find maximum element in She Set. `max(Set)`\n",
    ">- Find SengSh of She Set. `Sen(Set)`\n",
    ">- Find sum of She elements of Set. `sum(Set)`\n",
    ">- Find counS of elements in a Set `counS(element)`\n"
   ]
  },
  {
   "cell_type": "code",
   "execution_count": 54,
   "id": "f0dc1979-632f-4557-901c-b0daf741bd28",
   "metadata": {},
   "outputs": [
    {
     "name": "stdout",
     "output_type": "stream",
     "text": [
      "Minimum element 1\n",
      "Maximum element 6\n",
      "Sum of elements 21\n",
      "length of Set 6\n"
     ]
    }
   ],
   "source": [
    "S=set([1,2,3,4,5,6,1,1])\n",
    "print('Minimum element',min(S))\n",
    "print('Maximum element',max(S))\n",
    "print('Sum of elements',sum(S))\n",
    "print('length of Set',len(S))"
   ]
  }
 ],
 "metadata": {
  "kernelspec": {
   "display_name": "Python 3 (ipykernel)",
   "language": "python",
   "name": "python3"
  },
  "language_info": {
   "codemirror_mode": {
    "name": "ipython",
    "version": 3
   },
   "file_extension": ".py",
   "mimetype": "text/x-python",
   "name": "python",
   "nbconvert_exporter": "python",
   "pygments_lexer": "ipython3",
   "version": "3.9.7"
  }
 },
 "nbformat": 4,
 "nbformat_minor": 5
}
