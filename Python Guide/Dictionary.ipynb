{
 "cells": [
  {
   "cell_type": "markdown",
   "id": "4fb0bf76-7f39-4de2-b84f-5b99efa680c5",
   "metadata": {},
   "source": [
    "### Dictionary\n",
    "**Dictionary is a numerically ordered that can store key value pairs. Keys in dictionary must be immutable and value may be mutable**"
   ]
  },
  {
   "cell_type": "code",
   "execution_count": 3,
   "id": "88eafae5-26de-45f6-aab4-a7bbb361fcaf",
   "metadata": {},
   "outputs": [
    {
     "name": "stdout",
     "output_type": "stream",
     "text": [
      "<class 'dict'> {}\n",
      "<class 'dict'> {'a': 1, 'b': 'two'}\n"
     ]
    }
   ],
   "source": [
    "# Dictionary is create using Curly braces.\n",
    "D={};\n",
    "print(type(D),D)\n",
    "\n",
    "D={\"a\":1,'b':\"two\"}\n",
    "print(type(D),D)\n"
   ]
  },
  {
   "cell_type": "code",
   "execution_count": 11,
   "id": "8faab86a-0473-41e6-b5f3-db51cafb3bb4",
   "metadata": {},
   "outputs": [
    {
     "ename": "TypeError",
     "evalue": "unhashable type: 'list'",
     "output_type": "error",
     "traceback": [
      "\u001b[1;31m---------------------------------------------------------------------------\u001b[0m",
      "\u001b[1;31mTypeError\u001b[0m                                 Traceback (most recent call last)",
      "\u001b[1;32mC:\\Users\\MUHAMM~1\\AppData\\Local\\Temp/ipykernel_14852/2673131524.py\u001b[0m in \u001b[0;36m<module>\u001b[1;34m\u001b[0m\n\u001b[0;32m      1\u001b[0m \u001b[1;31m# Key must be imutable and never repeated\u001b[0m\u001b[1;33m\u001b[0m\u001b[1;33m\u001b[0m\u001b[0m\n\u001b[1;32m----> 2\u001b[1;33m \u001b[0mD\u001b[0m\u001b[1;33m=\u001b[0m\u001b[1;33m{\u001b[0m\u001b[1;34m\"a\"\u001b[0m\u001b[1;33m:\u001b[0m\u001b[1;36m1\u001b[0m\u001b[1;33m,\u001b[0m\u001b[1;33m[\u001b[0m\u001b[1;34m'b'\u001b[0m\u001b[1;33m]\u001b[0m\u001b[1;33m:\u001b[0m\u001b[1;34m\"two\"\u001b[0m\u001b[1;33m}\u001b[0m\u001b[1;33m\u001b[0m\u001b[1;33m\u001b[0m\u001b[0m\n\u001b[0m\u001b[0;32m      3\u001b[0m \u001b[0mprint\u001b[0m\u001b[1;33m(\u001b[0m\u001b[0mtype\u001b[0m\u001b[1;33m(\u001b[0m\u001b[0mD\u001b[0m\u001b[1;33m)\u001b[0m\u001b[1;33m,\u001b[0m\u001b[0mD\u001b[0m\u001b[1;33m)\u001b[0m\u001b[1;33m\u001b[0m\u001b[1;33m\u001b[0m\u001b[0m\n",
      "\u001b[1;31mTypeError\u001b[0m: unhashable type: 'list'"
     ]
    }
   ],
   "source": [
    "# Key must be imutable\n",
    "D={\"a\":1,['b']:\"two\"}\n",
    "print(type(D),D)"
   ]
  },
  {
   "cell_type": "code",
   "execution_count": 14,
   "id": "c2b9b502-30a6-4b88-ab4e-8ac816018527",
   "metadata": {},
   "outputs": [
    {
     "name": "stdout",
     "output_type": "stream",
     "text": [
      "<class 'dict'> {'a': 1, 'b': [2, 3]}\n"
     ]
    }
   ],
   "source": [
    "# Key may be mutable or immutable\n",
    "D={\"a\":1,'b':[2,3]}\n",
    "print(type(D),D)"
   ]
  },
  {
   "cell_type": "code",
   "execution_count": 13,
   "id": "cc8b6b71-1da2-4daa-945c-3187898c4c48",
   "metadata": {},
   "outputs": [
    {
     "name": "stdout",
     "output_type": "stream",
     "text": [
      "<class 'dict'> {'a': 1, 'b': 3}\n"
     ]
    }
   ],
   "source": [
    "# Key does not allow duplicates\n",
    "D={\"a\":1,'b':\"two\",'b':3}\n",
    "print(type(D),D)"
   ]
  },
  {
   "cell_type": "markdown",
   "id": "e384e9b1-22c5-46c1-8876-c855f88c17a3",
   "metadata": {},
   "source": [
    "### Proof of Concepts"
   ]
  },
  {
   "cell_type": "code",
   "execution_count": 34,
   "id": "85f30a2e-1a05-4130-98e2-9fb73a21e1f6",
   "metadata": {},
   "outputs": [
    {
     "name": "stdout",
     "output_type": "stream",
     "text": [
      "2739154248768 2739154507584 False True\n"
     ]
    }
   ],
   "source": [
    "D=[1,2,3]\n",
    "D1=[1,2,3]\n",
    "print(id(D),id(D1),D is D1,D == D1)"
   ]
  },
  {
   "cell_type": "markdown",
   "id": "d50a20ec-f9a3-4de8-accd-3281411870ce",
   "metadata": {},
   "source": [
    "### Dictionary contain Heterogenous elements"
   ]
  },
  {
   "cell_type": "code",
   "execution_count": 4,
   "id": "43fa938b-75c4-4130-8d5a-bb9035236f0f",
   "metadata": {},
   "outputs": [
    {
     "name": "stdout",
     "output_type": "stream",
     "text": [
      "<class 'dict'> {'a': 1, 'b': 'two', 'c': 3.5}\n"
     ]
    }
   ],
   "source": [
    "# Dictionary contain elements of different data types\n",
    "D={\"a\":1,'b':\"two\",\"c\":3.5}\n",
    "print(type(D),D)"
   ]
  },
  {
   "cell_type": "markdown",
   "id": "0d80a58e-e3f6-4fee-b06e-3de00fe22f56",
   "metadata": {},
   "source": [
    "### Dictionary is Mutable mean it can be changed"
   ]
  },
  {
   "cell_type": "code",
   "execution_count": 10,
   "id": "39f0e62c-a8b7-495e-a080-2e6e458f147d",
   "metadata": {},
   "outputs": [
    {
     "name": "stdout",
     "output_type": "stream",
     "text": [
      "{'a': 1, 'b': 'three'}\n"
     ]
    }
   ],
   "source": [
    "# Dictionary elements can be changed by specify the key whose value need to be changed \n",
    "D={\"a\":1,'b':\"two\"}\n",
    "D['b']=\"three\"\n",
    "print(D)"
   ]
  },
  {
   "cell_type": "markdown",
   "id": "84b48ad8-82c6-402a-9294-4ebfe524b105",
   "metadata": {},
   "source": [
    "### Dictionary Can be Nested to an arbitary length"
   ]
  },
  {
   "cell_type": "code",
   "execution_count": 16,
   "id": "6010063c-4540-4757-a426-2add619aef8d",
   "metadata": {},
   "outputs": [
    {
     "name": "stdout",
     "output_type": "stream",
     "text": [
      "{'a': 1, 'b': 'two', 'c': {'name': 'ali', 'city': 'lahore'}}\n"
     ]
    }
   ],
   "source": [
    "D={\"a\":1,'b':\"two\",'c':{'name':'ali',\"city\":'lahore'}}\n",
    "print(D)"
   ]
  },
  {
   "cell_type": "markdown",
   "id": "2812e7df-b303-4b73-bf9b-9f77cd48d07a",
   "metadata": {},
   "source": [
    "### Asscessing elements in the Dictionary\n",
    "- `[key]` using it with dictionary name you can access value of that particuar key\n",
    "- `get(key)`  using get with dictionary name you can access value of that particuar key"
   ]
  },
  {
   "cell_type": "code",
   "execution_count": 21,
   "id": "615aa7db-c88b-4a16-86e1-8efcd912107a",
   "metadata": {},
   "outputs": [
    {
     "name": "stdout",
     "output_type": "stream",
     "text": [
      "two\n"
     ]
    }
   ],
   "source": [
    "D={\"a\":1,'b':\"two\",'c':{'name':'ali',\"city\":'lahore'}}\n",
    "print(D['b'])"
   ]
  },
  {
   "cell_type": "code",
   "execution_count": 26,
   "id": "385540d6-ad8e-4736-880d-9c27ff2f0371",
   "metadata": {},
   "outputs": [
    {
     "name": "stdout",
     "output_type": "stream",
     "text": [
      "ali\n"
     ]
    }
   ],
   "source": [
    "D={\"a\":1,'b':\"two\",'c':{'name':'ali',\"city\":'lahore'}}\n",
    "print(D.get('c').get('name'))"
   ]
  },
  {
   "cell_type": "markdown",
   "id": "60c1153b-7284-4a4c-bf45-adb2bb7df623",
   "metadata": {},
   "source": [
    "### Retreiving key values from dictionary\n",
    "- `dict.items()` return all key value pair of a dictionary"
   ]
  },
  {
   "cell_type": "code",
   "execution_count": 27,
   "id": "b87f90c0-3fab-457d-9481-a5ce65ad7109",
   "metadata": {},
   "outputs": [
    {
     "data": {
      "text/plain": [
       "dict_items([('a', 1), ('b', 'two'), ('c', {'name': 'ali', 'city': 'lahore'})])"
      ]
     },
     "execution_count": 27,
     "metadata": {},
     "output_type": "execute_result"
    }
   ],
   "source": [
    "D={\"a\":1,'b':\"two\",'c':{'name':'ali',\"city\":'lahore'}}\n",
    "D.items()"
   ]
  },
  {
   "cell_type": "markdown",
   "id": "02197039-d073-47b3-a292-9c6dc1a63ae8",
   "metadata": {},
   "source": [
    "### Retreiving keys from dictionary\n",
    "- `dict.keys()` return all keys of a dictionary"
   ]
  },
  {
   "cell_type": "code",
   "execution_count": 31,
   "id": "63d06023-a30a-44bd-b03e-ff1f2268d8f4",
   "metadata": {},
   "outputs": [
    {
     "data": {
      "text/plain": [
       "dict_keys(['a', 'b', 'c'])"
      ]
     },
     "execution_count": 31,
     "metadata": {},
     "output_type": "execute_result"
    }
   ],
   "source": [
    "D={\"a\":1,'b':\"two\",'c':{'name':'ali',\"city\":'lahore'}}\n",
    "D.keys()"
   ]
  },
  {
   "cell_type": "markdown",
   "id": "70441870-0d8d-4dfe-b603-49bb8b8f37fb",
   "metadata": {},
   "source": [
    "### Retreiving values from dictionary\n",
    "- `dict.values()` return all values of a dictionary"
   ]
  },
  {
   "cell_type": "code",
   "execution_count": 32,
   "id": "84d94eea-0b87-4831-9171-315ce299a84f",
   "metadata": {},
   "outputs": [
    {
     "data": {
      "text/plain": [
       "dict_values([1, 'two', {'name': 'ali', 'city': 'lahore'}])"
      ]
     },
     "execution_count": 32,
     "metadata": {},
     "output_type": "execute_result"
    }
   ],
   "source": [
    "D={\"a\":1,'b':\"two\",'c':{'name':'ali',\"city\":'lahore'}}\n",
    "D.values()"
   ]
  },
  {
   "cell_type": "markdown",
   "id": "ac680b0d-9b23-4038-9778-bd27a0511c3b",
   "metadata": {},
   "source": [
    "### Modify elements in Dictionary\n",
    "- `dict[key]=value` update the value of key in this way. if the key not exist it form the new key.\n",
    "- `dict.update({key:value})` update the value of key in this way. if the key not exist it form the new key.\n"
   ]
  },
  {
   "cell_type": "code",
   "execution_count": 86,
   "id": "65d08034-899f-4256-96e8-5ce9d54a77cb",
   "metadata": {},
   "outputs": [
    {
     "data": {
      "text/plain": [
       "[1, 2, 3, 4, 5, 'six']"
      ]
     },
     "execution_count": 86,
     "metadata": {},
     "output_type": "execute_result"
    }
   ],
   "source": [
    "D=[1,2,3,4,5]\n",
    "D.append(\"six\")\n",
    "D"
   ]
  },
  {
   "cell_type": "code",
   "execution_count": 87,
   "id": "f9a9a352-e92f-4306-8067-b4343b2ed295",
   "metadata": {},
   "outputs": [
    {
     "ename": "TypeError",
     "evalue": "list.append() takes exactly one argument (2 given)",
     "output_type": "error",
     "traceback": [
      "\u001b[1;31m---------------------------------------------------------------------------\u001b[0m",
      "\u001b[1;31mTypeError\u001b[0m                                 Traceback (most recent call last)",
      "\u001b[1;32mC:\\Users\\MUHAMM~1\\AppData\\Local\\Temp/ipykernel_6776/2128079673.py\u001b[0m in \u001b[0;36m<module>\u001b[1;34m\u001b[0m\n\u001b[0;32m      1\u001b[0m \u001b[0mL\u001b[0m\u001b[1;33m=\u001b[0m\u001b[1;33m[\u001b[0m\u001b[1;36m1\u001b[0m\u001b[1;33m,\u001b[0m\u001b[1;36m2\u001b[0m\u001b[1;33m,\u001b[0m\u001b[1;36m3\u001b[0m\u001b[1;33m,\u001b[0m\u001b[1;36m4\u001b[0m\u001b[1;33m,\u001b[0m\u001b[1;36m5\u001b[0m\u001b[1;33m]\u001b[0m\u001b[1;33m\u001b[0m\u001b[1;33m\u001b[0m\u001b[0m\n\u001b[1;32m----> 2\u001b[1;33m \u001b[0mL\u001b[0m\u001b[1;33m.\u001b[0m\u001b[0mappend\u001b[0m\u001b[1;33m(\u001b[0m\u001b[1;34m\"six\"\u001b[0m\u001b[1;33m,\u001b[0m\u001b[1;34m\"seven\"\u001b[0m\u001b[1;33m)\u001b[0m\u001b[1;33m\u001b[0m\u001b[1;33m\u001b[0m\u001b[0m\n\u001b[0m\u001b[0;32m      3\u001b[0m \u001b[0mL\u001b[0m\u001b[1;33m\u001b[0m\u001b[1;33m\u001b[0m\u001b[0m\n",
      "\u001b[1;31mTypeError\u001b[0m: list.append() takes exactly one argument (2 given)"
     ]
    }
   ],
   "source": [
    "D=[1,2,3,4,5]\n",
    "D.append(\"six\",\"seven\")\n",
    "D"
   ]
  },
  {
   "cell_type": "code",
   "execution_count": 85,
   "id": "f2a79aba-7509-4506-8b29-ebc7e8a0564d",
   "metadata": {},
   "outputs": [
    {
     "name": "stdout",
     "output_type": "stream",
     "text": [
      "[1, 2, 3, 4, 5, '6']\n",
      "[1, 2, 3, 4, 5, '6', 'seven', 'eight']\n"
     ]
    }
   ],
   "source": [
    "D=[1,2,3,4,5]\n",
    "D.extend(\"6\")\n",
    "print(D)\n",
    "D.extend([\"seven\",\"eight\"])\n",
    "print(D)"
   ]
  },
  {
   "cell_type": "code",
   "execution_count": 34,
   "id": "e2a30410-4c56-440f-8d53-fbf66e3f2d81",
   "metadata": {},
   "outputs": [
    {
     "name": "stdout",
     "output_type": "stream",
     "text": [
      "{'a': 'one', 'b': 'two', 'c': {'name': 'ali', 'city': 'lahore'}}\n"
     ]
    }
   ],
   "source": [
    "D={\"a\":1,'b':\"two\",'c':{'name':'ali',\"city\":'lahore'}}\n",
    "D['a']=\"one\"\n",
    "print(D)"
   ]
  },
  {
   "cell_type": "code",
   "execution_count": 35,
   "id": "b69110b8-3444-4882-bbb3-29da321ebfbe",
   "metadata": {},
   "outputs": [
    {
     "name": "stdout",
     "output_type": "stream",
     "text": [
      "{'a': 1, 'b': 'two', 'c': {'name': 'ali', 'city': 'lahore'}, 'e': 'create it if not exist'}\n"
     ]
    }
   ],
   "source": [
    "D={\"a\":1,'b':\"two\",'c':{'name':'ali',\"city\":'lahore'}}\n",
    "D['e']=\"create it if not exist\"\n",
    "print(D)"
   ]
  },
  {
   "cell_type": "code",
   "execution_count": 38,
   "id": "5b57cb31-3d3a-45bb-a248-2ce6c4bedb24",
   "metadata": {},
   "outputs": [
    {
     "name": "stdout",
     "output_type": "stream",
     "text": [
      "{'a': 1, 'b': 'two', 'c': {'name': 'ali', 'city': 'lahore'}, 'e': 'last'}\n"
     ]
    }
   ],
   "source": [
    "D={\"a\":1,'b':\"two\",'c':{'name':'ali',\"city\":'lahore'}}\n",
    "D.update({'e':\"last\"})\n",
    "print(D)"
   ]
  },
  {
   "cell_type": "markdown",
   "id": "f594869c-70d7-4db5-914b-88dbb9fd5b6a",
   "metadata": {},
   "source": [
    "### Merging two dictionaries \n",
    "- `d1.update(d2)` update is used to merge two dictionaries"
   ]
  },
  {
   "cell_type": "code",
   "execution_count": 40,
   "id": "9c4e9edd-2b44-42b4-b5ed-07b3d661b81f",
   "metadata": {},
   "outputs": [
    {
     "name": "stdout",
     "output_type": "stream",
     "text": [
      "{'a': 1, 'b': 'two', 'name': 'ali', 'city': 'lahore'}\n"
     ]
    }
   ],
   "source": [
    "D1={\"a\":1,'b':\"two\"}\n",
    "D2={'name':'ali',\"city\":'lahore'}\n",
    "D1.update(D2)\n",
    "print(D1)"
   ]
  },
  {
   "cell_type": "markdown",
   "id": "3cfd23f0-a137-4a7e-a7f3-dbbc81b9fbeb",
   "metadata": {},
   "source": [
    "### Removing element from the Dictionary\n",
    ">- `Dict.pop(key)` remove the key value pair from  the Dictionary and return the value of the key.\n",
    ">- `Dict.popitem()` remove the key value pair from the end of the Dictionary and return the key value as two tuple.\n",
    ">- `del Dict[key]` remove the key value pair from the Dictionary and return none.\n",
    ">- `Dict.clear()` remove all key value pair.\n",
    ">- `del Dict` delete the dictionary."
   ]
  },
  {
   "cell_type": "code",
   "execution_count": 41,
   "id": "1c8bf158-cc49-4983-972e-b3495cd21bf0",
   "metadata": {},
   "outputs": [
    {
     "name": "stdout",
     "output_type": "stream",
     "text": [
      "ali\n",
      "{'city': 'lahore'}\n"
     ]
    }
   ],
   "source": [
    "D2={'name':'ali',\"city\":'lahore'}\n",
    "print(D2.pop('name'))\n",
    "print(D2)"
   ]
  },
  {
   "cell_type": "code",
   "execution_count": 42,
   "id": "ef04cdec-8819-4e3b-8f5d-b065880e263e",
   "metadata": {},
   "outputs": [
    {
     "name": "stdout",
     "output_type": "stream",
     "text": [
      "('city', 'lahore')\n",
      "{'name': 'ali'}\n"
     ]
    }
   ],
   "source": [
    "D2={'name':'ali',\"city\":'lahore'}\n",
    "print(D2.popitem())\n",
    "print(D2)"
   ]
  },
  {
   "cell_type": "code",
   "execution_count": 45,
   "id": "cbbb6979-3ab3-47c8-b523-6977bc48db39",
   "metadata": {},
   "outputs": [
    {
     "name": "stdout",
     "output_type": "stream",
     "text": [
      "{'city': 'lahore'}\n"
     ]
    }
   ],
   "source": [
    "D2={'name':'ali',\"city\":'lahore'}\n",
    "del D2['name']\n",
    "print(D2)"
   ]
  },
  {
   "cell_type": "code",
   "execution_count": 46,
   "id": "75fc9728-5815-4d57-a3b4-4c1adbb95af1",
   "metadata": {},
   "outputs": [
    {
     "ename": "NameError",
     "evalue": "name 'D2' is not defined",
     "output_type": "error",
     "traceback": [
      "\u001b[1;31m---------------------------------------------------------------------------\u001b[0m",
      "\u001b[1;31mNameError\u001b[0m                                 Traceback (most recent call last)",
      "\u001b[1;32mC:\\Users\\MUHAMM~1\\AppData\\Local\\Temp/ipykernel_14852/3420975205.py\u001b[0m in \u001b[0;36m<module>\u001b[1;34m\u001b[0m\n\u001b[0;32m      1\u001b[0m \u001b[0mD2\u001b[0m\u001b[1;33m=\u001b[0m\u001b[1;33m{\u001b[0m\u001b[1;34m'name'\u001b[0m\u001b[1;33m:\u001b[0m\u001b[1;34m'ali'\u001b[0m\u001b[1;33m,\u001b[0m\u001b[1;34m\"city\"\u001b[0m\u001b[1;33m:\u001b[0m\u001b[1;34m'lahore'\u001b[0m\u001b[1;33m}\u001b[0m\u001b[1;33m\u001b[0m\u001b[1;33m\u001b[0m\u001b[0m\n\u001b[0;32m      2\u001b[0m \u001b[1;32mdel\u001b[0m \u001b[0mD2\u001b[0m\u001b[1;33m\u001b[0m\u001b[1;33m\u001b[0m\u001b[0m\n\u001b[1;32m----> 3\u001b[1;33m \u001b[0mprint\u001b[0m\u001b[1;33m(\u001b[0m\u001b[0mD2\u001b[0m\u001b[1;33m)\u001b[0m\u001b[1;33m\u001b[0m\u001b[1;33m\u001b[0m\u001b[0m\n\u001b[0m",
      "\u001b[1;31mNameError\u001b[0m: name 'D2' is not defined"
     ]
    }
   ],
   "source": [
    "D2={'name':'ali',\"city\":'lahore'}\n",
    "del D2\n",
    "print(D2)"
   ]
  },
  {
   "cell_type": "code",
   "execution_count": 51,
   "id": "ae0c78df-8b7a-4bb7-840c-863f64044b45",
   "metadata": {},
   "outputs": [
    {
     "name": "stdout",
     "output_type": "stream",
     "text": [
      "{}\n"
     ]
    }
   ],
   "source": [
    "D2={'name':'ali',\"city\":'lahore'}\n",
    "D2.clear()\n",
    "print(D2)"
   ]
  },
  {
   "cell_type": "markdown",
   "id": "45e52fbb-a6f9-4222-8f6b-f49f06716dc2",
   "metadata": {},
   "source": [
    "### Type Casting of Dictionary"
   ]
  },
  {
   "cell_type": "code",
   "execution_count": 57,
   "id": "96d9e346-c03f-4575-9a60-6f4a88e2ef2c",
   "metadata": {},
   "outputs": [
    {
     "name": "stdout",
     "output_type": "stream",
     "text": [
      "dict_items([('name', 'ali'), ('city', 'lahore')])\n"
     ]
    }
   ],
   "source": [
    "D2={'name':'ali',\"city\":'lahore'}\n",
    "print(D2.items()) return two tuple value"
   ]
  },
  {
   "cell_type": "code",
   "execution_count": 61,
   "id": "67cc802c-99b6-4cc3-ab92-b61ffd795b7b",
   "metadata": {},
   "outputs": [
    {
     "name": "stdout",
     "output_type": "stream",
     "text": [
      "('name', 'city')\n",
      "['ali', 'lahore']\n"
     ]
    }
   ],
   "source": [
    "D2={'name':'ali',\"city\":'lahore'}\n",
    "print(tuple(D2.keys()))\n",
    "print(list(D2.values()))"
   ]
  },
  {
   "cell_type": "markdown",
   "id": "b38fe16d-942c-4738-93db-af65ac3d79a8",
   "metadata": {},
   "source": [
    "### Shallow Copy\n",
    "Copy the new Dictionary object.\n",
    ">- For copy the Dictionary  import copy module\n",
    "**Limitation**: Shallow copy cannot copy the nested object. It only copy the reference of the nested object."
   ]
  },
  {
   "cell_type": "code",
   "execution_count": 63,
   "id": "64010076-9626-4527-a6c5-bdcce4a52b15",
   "metadata": {},
   "outputs": [
    {
     "name": "stdout",
     "output_type": "stream",
     "text": [
      "2046117827136 2046117871488 {'name': 'ali', 'city': 'lahore'} {'name': 'ali', 'city': 'lahore'}\n"
     ]
    }
   ],
   "source": [
    "import copy\n",
    "D1={'name':'ali',\"city\":'lahore'}\n",
    "D2=copy.copy(D1);\n",
    "print(id(D),id(D2),D1,D2)"
   ]
  },
  {
   "cell_type": "code",
   "execution_count": 64,
   "id": "9612fc58-8345-4857-99ca-e19e4233abd3",
   "metadata": {},
   "outputs": [
    {
     "name": "stdout",
     "output_type": "stream",
     "text": [
      "OriginaD Dictionary\n",
      "{'name': 'ali', 'city': 'lahore'}\n",
      "ShaDDow Copy of Dictionary\n",
      "{'name': 'ali', 'city': 'Islamabad'}\n"
     ]
    }
   ],
   "source": [
    "D2['city']=\"Islamabad\"\n",
    "print(\"OriginaD Dictionary\",D1,\"ShaDDow Copy of Dictionary\",D2, sep=\"\\n\")"
   ]
  },
  {
   "cell_type": "code",
   "execution_count": 75,
   "id": "dfc1ae41-2546-4c91-a80a-c6462a0998b5",
   "metadata": {},
   "outputs": [
    {
     "name": "stdout",
     "output_type": "stream",
     "text": [
      "2046118672512 2046117023232 {'a': 1, 'b': 'two', 'c': {'name': 'ali', 'city': 'lahore'}} {'a': 1, 'b': 'two', 'c': {'name': 'ali', 'city': 'lahore'}}\n"
     ]
    }
   ],
   "source": [
    "import copy\n",
    "D={\"a\":1,'b':\"two\",'c':{'name':'ali',\"city\":'lahore'}}\n",
    "D2=copy.copy(D);\n",
    "print(id(D),id(D2),D,D2)"
   ]
  },
  {
   "cell_type": "code",
   "execution_count": 76,
   "id": "4a3ad233-f7a7-4ec8-9a47-464fbe060e4c",
   "metadata": {},
   "outputs": [
    {
     "name": "stdout",
     "output_type": "stream",
     "text": [
      "OriginaD Dictionary\n",
      "{'a': 1, 'b': 'two', 'c': {'name': 'Umer', 'city': 'lahore'}}\n",
      "ShaDDow Copy of Dictionary\n",
      "{'a': 1, 'b': 'two', 'c': {'name': 'Umer', 'city': 'lahore'}}\n"
     ]
    }
   ],
   "source": [
    "D2['c']['name']=\"Umer\" # nested Dictionary change reflect in both the original Dictionary and shallow copy\n",
    "print(\"Original Dictionary\",D,\"Shallow Copy of Dictionary\",D2, sep=\"\\n\")"
   ]
  },
  {
   "cell_type": "markdown",
   "id": "87075f01-2f05-42d6-a809-6c69b95926a0",
   "metadata": {},
   "source": [
    "### Deep Copy\n",
    "Create the new object and recursively create the copy of the original object and nested object \n",
    ">- For copy the Dictionary  import copy module"
   ]
  },
  {
   "cell_type": "code",
   "execution_count": 79,
   "id": "8a5fbb4c-0504-4047-a5ee-147bac2c9f2a",
   "metadata": {},
   "outputs": [
    {
     "name": "stdout",
     "output_type": "stream",
     "text": [
      "2046117865600 2046117044480 {'a': 1, 'b': 'two', 'c': {'name': 'ali', 'city': 'lahore'}} {'a': 1, 'b': 'two', 'c': {'name': 'ali', 'city': 'lahore'}}\n"
     ]
    }
   ],
   "source": [
    "import copy\n",
    "D={\"a\":1,'b':\"two\",'c':{'name':'ali',\"city\":'lahore'}}\n",
    "D2=copy.deepcopy(D);\n",
    "print(id(D),id(D2),D,D2)"
   ]
  },
  {
   "cell_type": "code",
   "execution_count": 80,
   "id": "0067a9c2-910b-4234-9606-50cb47e99f2c",
   "metadata": {},
   "outputs": [
    {
     "name": "stdout",
     "output_type": "stream",
     "text": [
      "Original Dictionary\n",
      "{'a': 1, 'b': 'two', 'c': {'name': 'ali', 'city': 'lahore'}}\n",
      "Shallow Copy of Dictionary\n",
      "{'a': 1, 'b': 'two', 'c': {'name': 'Umer', 'city': 'lahore'}}\n"
     ]
    }
   ],
   "source": [
    "D2['c']['name']=\"Umer\" \n",
    "print(\"Original Dictionary\",D,\"Shallow Copy of Dictionary\",D2, sep=\"\\n\")"
   ]
  },
  {
   "cell_type": "markdown",
   "id": "b5cb8cc2-7960-4119-96f0-44824e37b13c",
   "metadata": {},
   "source": [
    "### Sorting a Dictionary\n",
    "There is one method to sort a Dictionary\n",
    ">- `sorted()` It sort the Dictionary, not modify the originalDictionary and return the sorted version."
   ]
  },
  {
   "cell_type": "code",
   "execution_count": 105,
   "id": "146f4fef-9805-4281-aea9-96d8e564738d",
   "metadata": {},
   "outputs": [
    {
     "name": "stdout",
     "output_type": "stream",
     "text": [
      "['city', 'name']\n"
     ]
    }
   ],
   "source": [
    "D1={'name':'ali',\"city\":'lahore'}\n",
    "D2=sorted(D1)\n",
    "print(D2)"
   ]
  },
  {
   "cell_type": "code",
   "execution_count": 106,
   "id": "5bce7e0e-a769-42d7-b22c-af2d1659722d",
   "metadata": {},
   "outputs": [
    {
     "name": "stdout",
     "output_type": "stream",
     "text": [
      "['city', 'name']\n"
     ]
    }
   ],
   "source": [
    "D1={'name':'ali',\"city\":'lahore'}\n",
    "D2=sorted(D1)\n",
    "print(D2)"
   ]
  },
  {
   "cell_type": "code",
   "execution_count": 107,
   "id": "3da11ff5-9027-430c-9fbe-fcd9629ee383",
   "metadata": {},
   "outputs": [
    {
     "name": "stdout",
     "output_type": "stream",
     "text": [
      "['1', '10', '20']\n"
     ]
    }
   ],
   "source": [
    "D1={\"ali\":\"10\",\"umar\":\"20\",\"akram\":\"1\"}\n",
    "D2=sorted(D1.values())\n",
    "print(D2)"
   ]
  },
  {
   "cell_type": "code",
   "execution_count": 108,
   "id": "f7d39b81-1109-45d5-a750-41223b88261a",
   "metadata": {},
   "outputs": [
    {
     "name": "stdout",
     "output_type": "stream",
     "text": [
      "['akram', 'ali', 'umar']\n"
     ]
    }
   ],
   "source": [
    "D1={\"ali\":\"10\",\"umar\":\"20\",\"akram\":\"1\"}\n",
    "D2=sorted(D1.keys())\n",
    "print(D2)"
   ]
  },
  {
   "cell_type": "markdown",
   "id": "17fb2fe6-d6a2-4c9a-b5e3-a338f94a5d5e",
   "metadata": {},
   "source": [
    "### Custom Sorting\n",
    "You can customize the sort according to uour requirements by passing the user defined function to the key.\n",
    "There is 3 arguments in sort() method: `sort(Dictionary, key=None, reverse=False)`"
   ]
  },
  {
   "cell_type": "code",
   "execution_count": 109,
   "id": "e2cd37c3-5023-440b-9fa0-bac0bfd8c282",
   "metadata": {},
   "outputs": [
    {
     "name": "stdout",
     "output_type": "stream",
     "text": [
      "['umar', 'ali', 'akram']\n"
     ]
    }
   ],
   "source": [
    "D1={\"ali\":\"10\",\"umar\":\"20\",\"akram\":\"1\"}\n",
    "def function(item):\n",
    "    return item[2]\n",
    "D2=sorted(D1,key=function)\n",
    "print(D2)"
   ]
  },
  {
   "cell_type": "code",
   "execution_count": 110,
   "id": "e3fc457d-5d2e-4324-9719-be781e0c3fc4",
   "metadata": {},
   "outputs": [
    {
     "name": "stdout",
     "output_type": "stream",
     "text": [
      "['ali', 'akram', 'mushtaq']\n"
     ]
    }
   ],
   "source": [
    "D1={\"ali\":\"10\",\"mushtaq\":\"20\",\"akram\":\"1\"}\n",
    "D2=sorted(D1.keys(),key=len ,reverse=False)\n",
    "print(D2)"
   ]
  },
  {
   "cell_type": "code",
   "execution_count": 116,
   "id": "f1a956cc-1bd9-4ad4-be94-8633ced76209",
   "metadata": {},
   "outputs": [
    {
     "name": "stdout",
     "output_type": "stream",
     "text": [
      "[{'name': 'Salman', 'age': 11, 'grade': 'A'}, {'name': 'Mazhar', 'age': 12, 'grade': 'C'}, {'name': 'Zalaid', 'age': 17, 'grade': 'B'}, {'name': 'Hashim', 'age': 18, 'grade': 'B'}, {'name': 'Bilal', 'age': 19, 'grade': 'A'}, {'name': 'Farhan', 'age': 22, 'grade': 'D'}]\n"
     ]
    }
   ],
   "source": [
    "# JSON Array containing Objects\n",
    "students = [\n",
    "         {\"name\": \"Hashim\", \"age\": 18, \"grade\": \"B\"},\n",
    "         {\"name\": \"Salman\", \"age\": 11, \"grade\": \"A\"},\n",
    "         {\"name\": \"Mazhar\", \"age\": 12, \"grade\": \"C\"},\n",
    "         {\"name\": \"Farhan\", \"age\": 22, \"grade\": \"D\"},\n",
    "         {\"name\": \"Bilal\", \"age\": 19, \"grade\": \"A\"},\n",
    "         {\"name\": \"Zalaid\", \"age\": 17, \"grade\": \"B\"}\n",
    "        ]\n",
    "def func2(item):\n",
    "     return item.get('age')\n",
    "D2=sorted(students,key=func2)\n",
    "print(D2)"
   ]
  },
  {
   "cell_type": "code",
   "execution_count": 210,
   "id": "f0dc1979-632f-4557-901c-b0daf741bd28",
   "metadata": {},
   "outputs": [
    {
     "name": "stdout",
     "output_type": "stream",
     "text": [
      "Minimum Element 1\n",
      "Maximum Element 6\n",
      "Sum of Elements 21\n",
      "Length of List 6\n"
     ]
    }
   ],
   "source": [
    "D=[1,2,3,4,5,6]\n",
    "print('Minimum element',min(D))\n",
    "print('Maximum element',max(D))\n",
    "print('Sum of elements',sum(D))\n",
    "print('Dength of Dictionary',Den(D))"
   ]
  }
 ],
 "metadata": {
  "kernelspec": {
   "display_name": "Python 3 (ipykernel)",
   "language": "python",
   "name": "python3"
  },
  "language_info": {
   "codemirror_mode": {
    "name": "ipython",
    "version": 3
   },
   "file_extension": ".py",
   "mimetype": "text/x-python",
   "name": "python",
   "nbconvert_exporter": "python",
   "pygments_lexer": "ipython3",
   "version": "3.9.7"
  }
 },
 "nbformat": 4,
 "nbformat_minor": 5
}
