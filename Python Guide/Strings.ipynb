{
 "cells": [
  {
   "cell_type": "markdown",
   "id": "51e2d278-0889-481a-b8f5-1381af3ee57a",
   "metadata": {},
   "source": [
    "### String\n",
    "*String is used to store textual information. String is enclosed in delimeter which is single or double quote. String is a collection of chracters stored within single or double quotes*"
   ]
  },
  {
   "cell_type": "code",
   "execution_count": 1,
   "id": "b7bab3a4-25c6-4673-9c17-da4dbd50aec0",
   "metadata": {},
   "outputs": [
    {
     "name": "stdout",
     "output_type": "stream",
     "text": [
      "Hello World <class 'str'>\n"
     ]
    }
   ],
   "source": [
    "a=\"Hello World\"\n",
    "print(a,type(a))"
   ]
  },
  {
   "cell_type": "code",
   "execution_count": 7,
   "id": "17fe0925-0bc7-4bd5-931a-421ae9ac2f38",
   "metadata": {},
   "outputs": [
    {
     "name": "stdout",
     "output_type": "stream",
     "text": [
      "10 <class 'int'>\n"
     ]
    }
   ],
   "source": [
    "## typecasting from string to int\n",
    "a=\"10\" \n",
    "b=int(a)\n",
    "print(b,type(b))"
   ]
  },
  {
   "cell_type": "code",
   "execution_count": 30,
   "id": "c2762701-f8b1-414e-8b16-43ed954e05bd",
   "metadata": {},
   "outputs": [
    {
     "name": "stdout",
     "output_type": "stream",
     "text": [
      "True\n"
     ]
    }
   ],
   "source": [
    "a=\"hello world\"\n",
    "print(isinstance(a,str))"
   ]
  },
  {
   "cell_type": "code",
   "execution_count": 36,
   "id": "c6a54575-37ad-4f58-a629-605ce9c22898",
   "metadata": {},
   "outputs": [
    {
     "name": "stdout",
     "output_type": "stream",
     "text": [
      "Hello World\n",
      "Hello\n",
      "World\n"
     ]
    }
   ],
   "source": [
    "a=\"Hello World\" ##writing world in second line will give an error\n",
    "print(a)\n",
    "b='''Hello\n",
    "World'''\n",
    "print(b)"
   ]
  },
  {
   "cell_type": "markdown",
   "id": "b49b7de2-5f42-410c-a89d-4954093b62a7",
   "metadata": {},
   "source": [
    "### Methods of String\n",
    "#### Slice\n",
    "*Slice Method is used to obtain a specific substring from a string. Slice method take three arguments start,end and step. whereas end is exclusive*"
   ]
  },
  {
   "cell_type": "code",
   "execution_count": 15,
   "id": "aaec31b3-85ae-4b05-ad05-9e4f21a9695d",
   "metadata": {},
   "outputs": [
    {
     "name": "stdout",
     "output_type": "stream",
     "text": [
      "Hello\n"
     ]
    }
   ],
   "source": [
    "a=\"Hello World\"\n",
    "print(a[0:5])"
   ]
  },
  {
   "cell_type": "code",
   "execution_count": 28,
   "id": "fa78e615-8ba3-4034-8456-37b3dcc1dd0b",
   "metadata": {},
   "outputs": [
    {
     "name": "stdout",
     "output_type": "stream",
     "text": [
      " olle\n"
     ]
    }
   ],
   "source": [
    "a=\"Hello World\"\n",
    "print(a[5:0:-1]) ##0 end is exlusive mean not included."
   ]
  },
  {
   "cell_type": "code",
   "execution_count": 29,
   "id": "58bb858d-6d50-4845-8c2d-f160f21ff0f2",
   "metadata": {},
   "outputs": [
    {
     "name": "stdout",
     "output_type": "stream",
     "text": [
      " le\n"
     ]
    }
   ],
   "source": [
    "a=\"Hello World\"\n",
    "print(a[5:0:-2])"
   ]
  },
  {
   "cell_type": "markdown",
   "id": "350e73af-2e1c-4295-876a-38f654867492",
   "metadata": {},
   "source": [
    "### Split\n",
    "*Split method split the string base on the particular separator and give the output in the list*"
   ]
  },
  {
   "cell_type": "code",
   "execution_count": 39,
   "id": "7b5348d9-1010-4ab6-9253-3e4a0ce03aa3",
   "metadata": {},
   "outputs": [
    {
     "data": {
      "text/plain": [
       "['Hello', 'World']"
      ]
     },
     "execution_count": 39,
     "metadata": {},
     "output_type": "execute_result"
    }
   ],
   "source": [
    "a=\"Hello World\"\n",
    "a.split(' ')"
   ]
  },
  {
   "cell_type": "code",
   "execution_count": 41,
   "id": "325ac08a-d533-4712-b499-0e88ff84755b",
   "metadata": {},
   "outputs": [
    {
     "data": {
      "text/plain": [
       "['He', '', 'o Wor', 'd']"
      ]
     },
     "execution_count": 41,
     "metadata": {},
     "output_type": "execute_result"
    }
   ],
   "source": [
    "a=\"Hello World\"\n",
    "a.split('l')"
   ]
  },
  {
   "cell_type": "markdown",
   "id": "94f8a42e-73b8-4fb0-98dd-576b3aa59892",
   "metadata": {},
   "source": [
    "## Join\n",
    "*Join Method is used to join the comma separeted list of string*"
   ]
  },
  {
   "cell_type": "code",
   "execution_count": 47,
   "id": "1beb81f9-dc53-4015-af85-83545ca48220",
   "metadata": {},
   "outputs": [
    {
     "name": "stdout",
     "output_type": "stream",
     "text": [
      "['H', 'llo World']\n",
      "Hoeololooo oWooorolod\n"
     ]
    }
   ],
   "source": [
    "a=\"Hello World\"\n",
    "print(a.split('e'))\n",
    "print('o'.join(a))"
   ]
  },
  {
   "cell_type": "code",
   "execution_count": 59,
   "id": "e7e0ad55-022b-4a06-8529-cf3f75afd479",
   "metadata": {},
   "outputs": [
    {
     "name": "stdout",
     "output_type": "stream",
     "text": [
      "['b', 'c', '10', 'e'] <class 'list'>\n",
      "b c 10 e <class 'str'>\n"
     ]
    }
   ],
   "source": [
    "a=[\"b\",\"c\",\"10\",\"e\"]\n",
    "print(a,type(a))\n",
    "b=' '.join(a)\n",
    "print(b,type(b))"
   ]
  }
 ],
 "metadata": {
  "kernelspec": {
   "display_name": "Python 3 (ipykernel)",
   "language": "python",
   "name": "python3"
  },
  "language_info": {
   "codemirror_mode": {
    "name": "ipython",
    "version": 3
   },
   "file_extension": ".py",
   "mimetype": "text/x-python",
   "name": "python",
   "nbconvert_exporter": "python",
   "pygments_lexer": "ipython3",
   "version": "3.9.7"
  }
 },
 "nbformat": 4,
 "nbformat_minor": 5
}
