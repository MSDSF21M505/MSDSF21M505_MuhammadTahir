{
 "cells": [
  {
   "cell_type": "markdown",
   "id": "51e2d278-0889-481a-b8f5-1381af3ee57a",
   "metadata": {},
   "source": [
    "### String\n",
    "*String is used to store textual information. String is enclosed in delimeter which is single or double quote. String is a collection of chracters stored within single or double quotes*"
   ]
  },
  {
   "cell_type": "code",
   "execution_count": 1,
   "id": "b7bab3a4-25c6-4673-9c17-da4dbd50aec0",
   "metadata": {},
   "outputs": [
    {
     "name": "stdout",
     "output_type": "stream",
     "text": [
      "Hello World <class 'str'>\n"
     ]
    }
   ],
   "source": [
    "a=\"Hello World\"\n",
    "print(a,type(a))"
   ]
  },
  {
   "cell_type": "code",
   "execution_count": 7,
   "id": "17fe0925-0bc7-4bd5-931a-421ae9ac2f38",
   "metadata": {},
   "outputs": [
    {
     "name": "stdout",
     "output_type": "stream",
     "text": [
      "10 <class 'int'>\n"
     ]
    }
   ],
   "source": [
    "## typecasting from string to int\n",
    "a=\"10\" \n",
    "b=int(a)\n",
    "print(b,type(b))"
   ]
  },
  {
   "cell_type": "code",
   "execution_count": 30,
   "id": "c2762701-f8b1-414e-8b16-43ed954e05bd",
   "metadata": {},
   "outputs": [
    {
     "name": "stdout",
     "output_type": "stream",
     "text": [
      "True\n"
     ]
    }
   ],
   "source": [
    "a=\"hello world\"\n",
    "print(isinstance(a,str))"
   ]
  },
  {
   "cell_type": "code",
   "execution_count": 36,
   "id": "c6a54575-37ad-4f58-a629-605ce9c22898",
   "metadata": {},
   "outputs": [
    {
     "name": "stdout",
     "output_type": "stream",
     "text": [
      "Hello World\n",
      "Hello\n",
      "World\n"
     ]
    }
   ],
   "source": [
    "a=\"Hello World\" ##writing world in second line will give an error\n",
    "print(a)\n",
    "b='''Hello\n",
    "World'''\n",
    "print(b)"
   ]
  },
  {
   "cell_type": "code",
   "execution_count": 9,
   "id": "13350885-101a-4ea0-b0bb-e95d82afee25",
   "metadata": {},
   "outputs": [],
   "source": [
    "a=\"I'm a Data Scientist\"\n",
    "print(a)"
   ]
  },
  {
   "cell_type": "code",
   "execution_count": 15,
   "id": "10879d75-cf5a-4582-9906-19791b52ea09",
   "metadata": {},
   "outputs": [
    {
     "name": "stdout",
     "output_type": "stream",
     "text": [
      "I am a \"Data Scientist\"\n"
     ]
    }
   ],
   "source": [
    "a='I am a \"Data Scientist\"'\n",
    "print(a)"
   ]
  },
  {
   "cell_type": "code",
   "execution_count": 19,
   "id": "c28df256-c8ab-4170-b35b-127237397905",
   "metadata": {},
   "outputs": [
    {
     "name": "stdout",
     "output_type": "stream",
     "text": [
      "I'm a Data Scientist\n"
     ]
    }
   ],
   "source": [
    "#Escape Sequence used...\n",
    "a='I\\'m a Data Scientist'\n",
    "print(a)"
   ]
  },
  {
   "cell_type": "markdown",
   "id": "6832be53-4b78-4812-a791-ded728d28743",
   "metadata": {},
   "source": [
    "#### Strings are Immmutable"
   ]
  },
  {
   "cell_type": "code",
   "execution_count": 22,
   "id": "bfabb161-573d-415f-8c81-cfdd7e775344",
   "metadata": {},
   "outputs": [
    {
     "name": "stdout",
     "output_type": "stream",
     "text": [
      "2946497276848\n",
      "2946497277488\n"
     ]
    }
   ],
   "source": [
    "a=\"Hello World\"\n",
    "print(id(a))\n",
    "a=\"Hello World\"\n",
    "print(id(a))"
   ]
  },
  {
   "cell_type": "markdown",
   "id": "b49b7de2-5f42-410c-a89d-4954093b62a7",
   "metadata": {},
   "source": [
    "### Methods of String\n",
    "#### Slice\n",
    "*Slice Method is used to obtain a specific substring from a string. Slice method take three arguments start,end and step. whereas end is exclusive*"
   ]
  },
  {
   "cell_type": "code",
   "execution_count": 15,
   "id": "aaec31b3-85ae-4b05-ad05-9e4f21a9695d",
   "metadata": {},
   "outputs": [
    {
     "name": "stdout",
     "output_type": "stream",
     "text": [
      "Hello\n"
     ]
    }
   ],
   "source": [
    "a=\"Hello World\"\n",
    "print(a[0:5])"
   ]
  },
  {
   "cell_type": "code",
   "execution_count": 28,
   "id": "fa78e615-8ba3-4034-8456-37b3dcc1dd0b",
   "metadata": {},
   "outputs": [
    {
     "name": "stdout",
     "output_type": "stream",
     "text": [
      " olle\n"
     ]
    }
   ],
   "source": [
    "a=\"Hello World\"\n",
    "print(a[5:0:-1]) ##0 end is exlusive mean not included."
   ]
  },
  {
   "cell_type": "code",
   "execution_count": 29,
   "id": "58bb858d-6d50-4845-8c2d-f160f21ff0f2",
   "metadata": {},
   "outputs": [
    {
     "name": "stdout",
     "output_type": "stream",
     "text": [
      " le\n"
     ]
    }
   ],
   "source": [
    "a=\"Hello World\"\n",
    "print(a[5:0:-2])"
   ]
  },
  {
   "cell_type": "code",
   "execution_count": 26,
   "id": "2be2ce86-069b-4f6b-8c53-c0a2aaf2c586",
   "metadata": {},
   "outputs": [
    {
     "name": "stdout",
     "output_type": "stream",
     "text": [
      "Hello World\n",
      "HloWrd\n",
      "HlWl\n"
     ]
    }
   ],
   "source": [
    "a=\"Hello World\"\n",
    "print(a[::1])\n",
    "print(a[::2])\n",
    "print(a[::3])"
   ]
  },
  {
   "cell_type": "markdown",
   "id": "350e73af-2e1c-4295-876a-38f654867492",
   "metadata": {},
   "source": [
    "### Split\n",
    "*Split method split the string base on the particular separator and give the output in the list*"
   ]
  },
  {
   "cell_type": "code",
   "execution_count": 39,
   "id": "7b5348d9-1010-4ab6-9253-3e4a0ce03aa3",
   "metadata": {},
   "outputs": [
    {
     "data": {
      "text/plain": [
       "['Hello', 'World']"
      ]
     },
     "execution_count": 39,
     "metadata": {},
     "output_type": "execute_result"
    }
   ],
   "source": [
    "a=\"Hello World\"\n",
    "a.split(' ')"
   ]
  },
  {
   "cell_type": "code",
   "execution_count": 41,
   "id": "325ac08a-d533-4712-b499-0e88ff84755b",
   "metadata": {},
   "outputs": [
    {
     "data": {
      "text/plain": [
       "['He', '', 'o Wor', 'd']"
      ]
     },
     "execution_count": 41,
     "metadata": {},
     "output_type": "execute_result"
    }
   ],
   "source": [
    "a=\"Hello World\"\n",
    "a.split('l')"
   ]
  },
  {
   "cell_type": "markdown",
   "id": "94f8a42e-73b8-4fb0-98dd-576b3aa59892",
   "metadata": {},
   "source": [
    "## Join\n",
    "*Join Method is used to join the comma separeted list of string*"
   ]
  },
  {
   "cell_type": "code",
   "execution_count": 47,
   "id": "1beb81f9-dc53-4015-af85-83545ca48220",
   "metadata": {},
   "outputs": [
    {
     "name": "stdout",
     "output_type": "stream",
     "text": [
      "['H', 'llo World']\n",
      "Hoeololooo oWooorolod\n"
     ]
    }
   ],
   "source": [
    "a=\"Hello World\"\n",
    "print(a.split('e'))\n",
    "print('o'.join(a))"
   ]
  },
  {
   "cell_type": "code",
   "execution_count": 27,
   "id": "e7e0ad55-022b-4a06-8529-cf3f75afd479",
   "metadata": {},
   "outputs": [
    {
     "name": "stdout",
     "output_type": "stream",
     "text": [
      "['b', 'c', '10', 'e'] <class 'list'>\n",
      "b c 10 e <class 'str'>\n"
     ]
    }
   ],
   "source": [
    "a=[\"b\",\"c\",\"10\",\"e\"]\n",
    "print(a,type(a))\n",
    "b=' '.join(a)\n",
    "print(b,type(b))"
   ]
  },
  {
   "cell_type": "markdown",
   "id": "4d2ea7d7-03a7-49ea-b5ad-00f340c2d721",
   "metadata": {},
   "source": [
    "### Concatenation\n",
    "*Joining of two strings is called concatenation*"
   ]
  },
  {
   "cell_type": "code",
   "execution_count": 31,
   "id": "ab0bb60a-9e54-4f5f-be8a-3453e0730858",
   "metadata": {},
   "outputs": [
    {
     "name": "stdout",
     "output_type": "stream",
     "text": [
      "HelloWorld\n"
     ]
    }
   ],
   "source": [
    "a=\"Hello\"\n",
    "b=\"World\"\n",
    "c=a+b\n",
    "print(c)"
   ]
  },
  {
   "cell_type": "markdown",
   "id": "c10386ea-17a0-4640-a511-6d078fd7aac4",
   "metadata": {},
   "source": [
    "### Creating Large Strings"
   ]
  },
  {
   "cell_type": "code",
   "execution_count": 34,
   "id": "b18ab2cd-0ae2-4f09-ad73-602d1d81b8ce",
   "metadata": {},
   "outputs": [
    {
     "name": "stdout",
     "output_type": "stream",
     "text": [
      "Hello WorldHello WorldHello WorldHello World\n",
      "Hello WorldHello WorldHello WorldHello World\n",
      "Hello World Hello World Hello World Hello World \n"
     ]
    }
   ],
   "source": [
    "a=\"Hello World\"*4\n",
    "print(a)\n",
    "\n",
    "a=\"Hello World\"\n",
    "print(a*4)\n",
    "\n",
    "a=\"Hello World \"\n",
    "print(a*4)"
   ]
  },
  {
   "cell_type": "markdown",
   "id": "e80c6103-5467-4c74-b985-3d6926f8e024",
   "metadata": {},
   "source": [
    "### Find Length of a String"
   ]
  },
  {
   "cell_type": "code",
   "execution_count": 36,
   "id": "0bb9ba8b-7a85-4075-b813-d214c7879546",
   "metadata": {},
   "outputs": [
    {
     "name": "stdout",
     "output_type": "stream",
     "text": [
      "11\n"
     ]
    }
   ],
   "source": [
    "a=\"Hello World\"\n",
    "print(len(a))"
   ]
  },
  {
   "cell_type": "markdown",
   "id": "827a98a2-98c6-4673-9cd5-14bfc5d772c8",
   "metadata": {},
   "source": [
    "### Convert String into Lower, Upper, Capitalize and Title Case"
   ]
  },
  {
   "cell_type": "code",
   "execution_count": 41,
   "id": "c1c30e62-10cc-43c5-9c36-59af76f1f3f7",
   "metadata": {},
   "outputs": [
    {
     "name": "stdout",
     "output_type": "stream",
     "text": [
      "hello world\n",
      "HELLO WORLD\n",
      "Hello world\n",
      "Hello World\n"
     ]
    }
   ],
   "source": [
    "a=\"Hello World\"\n",
    "print(a.lower())\n",
    "print(a.upper())\n",
    "print(a.capitalize())\n",
    "print(a.title())"
   ]
  },
  {
   "cell_type": "markdown",
   "id": "5c6158ca-66b8-45af-b2c7-47283b5d447a",
   "metadata": {},
   "source": [
    "### Strip Method\n",
    "*Remove white spaces present in the left and right of the string* "
   ]
  },
  {
   "cell_type": "code",
   "execution_count": 44,
   "id": "d14bfa5e-55b4-4bf5-bfe5-7378aef96102",
   "metadata": {},
   "outputs": [
    {
     "name": "stdout",
     "output_type": "stream",
     "text": [
      "Hello World\n",
      "Hello World\n",
      " Hello World\n"
     ]
    }
   ],
   "source": [
    "a=\" Hello World\"\n",
    "print(a.strip())\n",
    "print(a.lstrip()) ## Left Strip remove spaces nly from the left of the string\n",
    "print(a.rstrip()) ## Right Strip only remove spaces from theRight of the strip"
   ]
  },
  {
   "cell_type": "markdown",
   "id": "662ee686-2715-4b99-9ec2-349b8c33b952",
   "metadata": {},
   "source": [
    "### Startswith Method\n",
    "*startswith used to check whether the string start from a particular prefix or not and return the result in true or false*\n",
    "`startswith(substring,start,end)`"
   ]
  },
  {
   "cell_type": "code",
   "execution_count": 60,
   "id": "e3f25e5b-3534-4f03-a832-514969c30164",
   "metadata": {},
   "outputs": [
    {
     "name": "stdout",
     "output_type": "stream",
     "text": [
      "True\n",
      "False\n",
      "True\n",
      "True\n",
      "False\n"
     ]
    }
   ],
   "source": [
    "a=\"Hello World\"\n",
    "print(a.startswith(\"Hello\"))\n",
    "print(a.startswith(\"hello\")) ## This method is case sensitive\n",
    "print(a.startswith(\"World\",6)) ## second argument is used to start serching from a particular index\n",
    "print(a.startswith(\"World\",6,11)) ## Third Argument is used to start searching between only these indexes\n",
    "print(a.startswith(\"World\",6,10)) ## Return false because end argument is exclusive (not included)"
   ]
  },
  {
   "cell_type": "markdown",
   "id": "738dc2df-a56c-48fc-99bf-38df53112e42",
   "metadata": {},
   "source": [
    "### Find Method\n",
    "*Find Method is used to find the index of a particular substring.*\n",
    "`Find Method has three arguments find(substring,start,end)`"
   ]
  },
  {
   "cell_type": "code",
   "execution_count": 77,
   "id": "59b4b794-51c0-49d4-95a9-8f00964df07f",
   "metadata": {},
   "outputs": [
    {
     "name": "stdout",
     "output_type": "stream",
     "text": [
      "0\n",
      "0\n",
      "6\n",
      "6\n",
      "10\n",
      "-1\n"
     ]
    }
   ],
   "source": [
    "a=\"Hello World\"\n",
    "print(a.find('H'))\n",
    "print(a.find('Hello')) ## Return only the index from which the substring start\n",
    "print(a.find('World'))\n",
    "print(a.find('World',5,11))\n",
    "print(a.find('d',10))\n",
    "\n",
    "# Note if a particular substring not find in a string it return -1\n",
    "print(a.find('World',7)) "
   ]
  },
  {
   "cell_type": "markdown",
   "id": "a66cb506-a2f9-43f0-8bdd-e32ff35da590",
   "metadata": {},
   "source": [
    "### Format Method\n",
    "*format() method is used to place the value of other data types in a string i.e int, float,double etc*"
   ]
  },
  {
   "cell_type": "code",
   "execution_count": 136,
   "id": "452fa2fc-df96-482f-b1ed-1ae646350bbd",
   "metadata": {},
   "outputs": [
    {
     "name": "stdout",
     "output_type": "stream",
     "text": [
      "My name is Tahir\n"
     ]
    }
   ],
   "source": [
    "a=\"Tahir\"\n",
    "b=\"My name is {0}\".format(a)\n",
    "print(b)"
   ]
  },
  {
   "cell_type": "code",
   "execution_count": 141,
   "id": "805d709b-672f-4fea-b3a9-cc2fa4bf40fd",
   "metadata": {},
   "outputs": [
    {
     "name": "stdout",
     "output_type": "stream",
     "text": [
      "My name is Tahir and I am a Data Scientist\n"
     ]
    }
   ],
   "source": [
    "a=\"Tahir\"\n",
    "b=\"Data Scientist\"\n",
    "c=\"My name is {0} and I am a {1}\".format(a,b)\n",
    "print(c)"
   ]
  },
  {
   "cell_type": "markdown",
   "id": "8ee05d42-ac23-447f-8d44-0bfa2c5815c4",
   "metadata": {},
   "source": [
    "### Identity operator\n",
    "*used to compare the id of string*"
   ]
  },
  {
   "cell_type": "code",
   "execution_count": 144,
   "id": "bbacde52-08ed-4d8c-b1dd-733a5151449f",
   "metadata": {},
   "outputs": [
    {
     "name": "stdout",
     "output_type": "stream",
     "text": [
      "a= 2946497097072 b= 2946497096752 False\n",
      "True\n"
     ]
    }
   ],
   "source": [
    "a=\"Hello World\"\n",
    "b=\"Hello World\"\n",
    "print('a=',id(a),'b=',id(b),a is b)\n",
    "\n",
    "print(a==b)"
   ]
  },
  {
   "cell_type": "markdown",
   "id": "6c4be246-b6c2-4662-a499-a77fcefca07e",
   "metadata": {},
   "source": [
    "### Membership Operator\n",
    "*Membership operator is used to check whether a particular substring or a character present in a string or not*"
   ]
  },
  {
   "cell_type": "code",
   "execution_count": 151,
   "id": "4e2949bd-24b6-4811-b965-8afa92cc6f34",
   "metadata": {},
   "outputs": [
    {
     "name": "stdout",
     "output_type": "stream",
     "text": [
      "True\n",
      "True\n",
      "False\n"
     ]
    }
   ],
   "source": [
    "a=\"Hello World\"\n",
    "print('Wor' in a)\n",
    "print('W' in a)\n",
    "print('w' in a) ## Case Sensitive"
   ]
  },
  {
   "cell_type": "code",
   "execution_count": null,
   "id": "1105f344-8213-476d-8f18-61710dd13b5c",
   "metadata": {},
   "outputs": [],
   "source": []
  }
 ],
 "metadata": {
  "kernelspec": {
   "display_name": "Python 3 (ipykernel)",
   "language": "python",
   "name": "python3"
  },
  "language_info": {
   "codemirror_mode": {
    "name": "ipython",
    "version": 3
   },
   "file_extension": ".py",
   "mimetype": "text/x-python",
   "name": "python",
   "nbconvert_exporter": "python",
   "pygments_lexer": "ipython3",
   "version": "3.9.7"
  }
 },
 "nbformat": 4,
 "nbformat_minor": 5
}
