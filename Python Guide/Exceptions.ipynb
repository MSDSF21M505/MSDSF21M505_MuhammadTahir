{
 "cells": [
  {
   "cell_type": "markdown",
   "id": "250805ae-cf10-4b0a-98ca-305ceb9efb77",
   "metadata": {},
   "source": [
    "####  Syntax Error\n",
    "Syntax error or parse error raised when the program terminates before execution. Syntax error occur due to empty block, indentation error or leaving out a symbol.\n",
    ">- **No statement execute when the syntax error occur**"
   ]
  },
  {
   "cell_type": "code",
   "execution_count": 1,
   "id": "a294d667-ff21-4777-9343-fbcc09119e00",
   "metadata": {},
   "outputs": [
    {
     "ename": "NameError",
     "evalue": "name 'a' is not defined",
     "output_type": "error",
     "traceback": [
      "\u001b[1;31m---------------------------------------------------------------------------\u001b[0m",
      "\u001b[1;31mNameError\u001b[0m                                 Traceback (most recent call last)",
      "\u001b[1;32mC:\\Users\\MUHAMM~1\\AppData\\Local\\Temp/ipykernel_10932/3931802818.py\u001b[0m in \u001b[0;36m<module>\u001b[1;34m\u001b[0m\n\u001b[1;32m----> 1\u001b[1;33m \u001b[0ma\u001b[0m\u001b[1;33m-\u001b[0m\u001b[0mb\u001b[0m\u001b[1;33m\u001b[0m\u001b[1;33m\u001b[0m\u001b[0m\n\u001b[0m",
      "\u001b[1;31mNameError\u001b[0m: name 'a' is not defined"
     ]
    }
   ],
   "source": [
    "a-b"
   ]
  },
  {
   "cell_type": "code",
   "execution_count": 2,
   "id": "ef146028-d109-4cda-982d-e233ab578666",
   "metadata": {},
   "outputs": [
    {
     "ename": "SyntaxError",
     "evalue": "unexpected EOF while parsing (Temp/ipykernel_10932/4061749129.py, line 1)",
     "output_type": "error",
     "traceback": [
      "\u001b[1;36m  File \u001b[1;32m\"C:\\Users\\MUHAMM~1\\AppData\\Local\\Temp/ipykernel_10932/4061749129.py\"\u001b[1;36m, line \u001b[1;32m1\u001b[0m\n\u001b[1;33m    print(a\u001b[0m\n\u001b[1;37m           ^\u001b[0m\n\u001b[1;31mSyntaxError\u001b[0m\u001b[1;31m:\u001b[0m unexpected EOF while parsing\n"
     ]
    }
   ],
   "source": [
    "print(a"
   ]
  },
  {
   "cell_type": "markdown",
   "id": "0b635f38-3ef1-40f7-a40d-7c06a82d7a5d",
   "metadata": {},
   "source": [
    "#### Exception:\n",
    "Exception is the error that occur during the execution of sytatically correct program e.g division by zero that disrupts the normall execution of the program. Apython return a exception object."
   ]
  },
  {
   "cell_type": "code",
   "execution_count": 3,
   "id": "a0599ab4-33b6-4b9a-9eca-ace0ab67663a",
   "metadata": {},
   "outputs": [
    {
     "ename": "ZeroDivisionError",
     "evalue": "division by zero",
     "output_type": "error",
     "traceback": [
      "\u001b[1;31m---------------------------------------------------------------------------\u001b[0m",
      "\u001b[1;31mZeroDivisionError\u001b[0m                         Traceback (most recent call last)",
      "\u001b[1;32mC:\\Users\\MUHAMM~1\\AppData\\Local\\Temp/ipykernel_10932/1655013227.py\u001b[0m in \u001b[0;36m<module>\u001b[1;34m\u001b[0m\n\u001b[0;32m      1\u001b[0m \u001b[0ma\u001b[0m\u001b[1;33m=\u001b[0m\u001b[1;36m5\u001b[0m\u001b[1;33m;\u001b[0m\u001b[1;33m\u001b[0m\u001b[1;33m\u001b[0m\u001b[0m\n\u001b[1;32m----> 2\u001b[1;33m \u001b[0mb\u001b[0m\u001b[1;33m=\u001b[0m\u001b[0ma\u001b[0m\u001b[1;33m/\u001b[0m\u001b[1;36m0\u001b[0m\u001b[1;33m;\u001b[0m\u001b[1;33m\u001b[0m\u001b[1;33m\u001b[0m\u001b[0m\n\u001b[0m",
      "\u001b[1;31mZeroDivisionError\u001b[0m: division by zero"
     ]
    }
   ],
   "source": [
    "a=5;\n",
    "b=a/0;"
   ]
  },
  {
   "cell_type": "markdown",
   "id": "4d151961-5949-4e68-a450-a31dee597904",
   "metadata": {},
   "source": [
    "#### Exception Clause:\n",
    "Exception can be handle by using the try and except keyword.\n",
    "- The instructions that produce the exceptions is written inside the try block and to handle the exception the code is written inside the except block.\n",
    "- except block execute only if the try block produce exception.\n"
   ]
  },
  {
   "cell_type": "code",
   "execution_count": 4,
   "id": "54f7f8b3-348b-4c38-9537-3790f69586d0",
   "metadata": {},
   "outputs": [
    {
     "name": "stdout",
     "output_type": "stream",
     "text": [
      "Division with zero produce error\n"
     ]
    }
   ],
   "source": [
    "try:\n",
    "    5/0;\n",
    "except:\n",
    "    print(\"Division with zero produce error\")"
   ]
  },
  {
   "cell_type": "markdown",
   "id": "b503f2a7-58e9-48f2-b87e-68158081ce50",
   "metadata": {},
   "source": [
    "#### Types of Exception:\n",
    "There are different types of Exception:\n",
    ">- **ZeroDivisionError** occur when you perform the division by zero.\n",
    ">- **ValueError** occue when the function or operation arguments recieve value that has correct type but wrong value.\n",
    ">- **NameError** occur when the compiler encounter a sumbol that not exist.\n",
    ">- **TypeError** occur when perform operation on unsupported types.\n",
    ">- **IndexError** occur when accesing the elements that is not in the rangr.\n",
    ">- **IOError** occur due to the failure of the IO operation. Find file that does not exist.\n",
    ">- **EOFError** occur when python built in function like input hit a end of file condition without reading a data.\n",
    ">- **AssertError** occur when the assert statement fail. Assert statement is the message written for debugging when the simple assert logic become fail."
   ]
  },
  {
   "cell_type": "markdown",
   "id": "f5677ced-c340-46e9-a1e5-4e8bedba6963",
   "metadata": {},
   "source": [
    "Exception error cannot return the proper information about the error.\n",
    "When an exception occur the Exception class object return to the axcept class as a argumnet. `except Exception as e`\n",
    "- The exception class object contain more information about the exception why it occurs."
   ]
  },
  {
   "cell_type": "code",
   "execution_count": 6,
   "id": "9b373b7c-a4d7-4154-9ae1-ffed277e070a",
   "metadata": {},
   "outputs": [
    {
     "name": "stdout",
     "output_type": "stream",
     "text": [
      "Message in the Exception class object is  division by zero\n"
     ]
    }
   ],
   "source": [
    "try:\n",
    "    5/0;\n",
    "except Exception as e:\n",
    "    print(\"Message in the Exception class object is \",e)"
   ]
  },
  {
   "cell_type": "markdown",
   "id": "adcea155-a067-4d38-8a9d-d0b7618773b2",
   "metadata": {},
   "source": [
    "#### Multiple Except Clause:\n",
    "As the instruction in the try block produce more exceptions.\n",
    "So the programmer write more except block to handle the different exceptions produce by the try block."
   ]
  },
  {
   "cell_type": "code",
   "execution_count": 18,
   "id": "81c1d7b5-a6a3-4576-bc77-068eac48a92b",
   "metadata": {},
   "outputs": [
    {
     "name": "stdout",
     "output_type": "stream",
     "text": [
      "ZeroDivisionError Occurred and Handled\n",
      "This will always be executed\n"
     ]
    }
   ],
   "source": [
    "try:\n",
    "    5/0;\n",
    "\n",
    "except ZeroDivisionError:\n",
    "    print(\"ZeroDivisionError Occurred and Handled\")\n",
    "except NameError:\n",
    "    print(\"NameError Occurred and Handled\")\n",
    "except TypeError:\n",
    "    print(\"TypeError Occurred and Handled\")\n",
    "except IndexError:\n",
    "    print(\"IndexError Occurred and Handled\")\n",
    "else:           \n",
    "    print(\"This will execute if try clause does not raise an exception\")\n",
    "finally:\n",
    "    print(\"This will always be executed\")"
   ]
  },
  {
   "cell_type": "markdown",
   "id": "b21dfc8e-ea74-45c0-a46b-954883a81bcc",
   "metadata": {},
   "source": [
    "#### Else Clause:\n",
    "The else clause is used when you want to execute a piece of ode that execute only if the exception not occur.\n",
    "- The else clause is written below the except block."
   ]
  },
  {
   "cell_type": "code",
   "execution_count": 7,
   "id": "b03c1b61-ae7b-4c9b-9f93-669397a5bbe0",
   "metadata": {},
   "outputs": [
    {
     "name": "stdout",
     "output_type": "stream",
     "text": [
      "Division with zero produce error\n"
     ]
    }
   ],
   "source": [
    "try:\n",
    "    5/0;\n",
    "except:\n",
    "    print(\"Division with zero produce error\");\n",
    "else:\n",
    "    print(\"No exception is produce by the try block\")"
   ]
  },
  {
   "cell_type": "code",
   "execution_count": 8,
   "id": "53183e81-55b4-4f22-8a4c-6f42473ef1e5",
   "metadata": {},
   "outputs": [
    {
     "name": "stdout",
     "output_type": "stream",
     "text": [
      "No exception is produce by the try block\n"
     ]
    }
   ],
   "source": [
    "try:\n",
    "    5/5;\n",
    "except:\n",
    "    print(\"Division with zero produce error\");\n",
    "else:\n",
    "    print(\"No exception is produce by the try block\")"
   ]
  },
  {
   "cell_type": "markdown",
   "id": "3eb9c7b1-0948-49c7-8835-66738aead2dc",
   "metadata": {},
   "source": [
    "#### Finally Clause:\n",
    "The finally clause is used to execute the pice code whether the exception occur or not.\n",
    "- The finally clause is written below the except clause and after the else clause."
   ]
  },
  {
   "cell_type": "code",
   "execution_count": 9,
   "id": "f8e6e574-f96f-4a51-abcd-c2a84d18d00d",
   "metadata": {},
   "outputs": [
    {
     "name": "stdout",
     "output_type": "stream",
     "text": [
      "Division with zero produce error\n",
      "Run either if the exception occur or not\n"
     ]
    }
   ],
   "source": [
    "try:\n",
    "    5/0;\n",
    "except:\n",
    "    print(\"Division with zero produce error\");\n",
    "else:\n",
    "    print(\"No exception is produce by the try block\")\n",
    "finally:\n",
    "    print(\"Run either if the exception occur or not\")\n",
    "      "
   ]
  },
  {
   "cell_type": "markdown",
   "id": "6845432d-db9b-4022-a1d1-c1c930d05521",
   "metadata": {},
   "source": [
    "#### Raise exception:\n",
    " Raise keyword used to produce the exception.\n",
    " You can define what kind of exception to raise and what messag to display."
   ]
  },
  {
   "cell_type": "code",
   "execution_count": 10,
   "id": "1f1aba91-855c-460a-978f-e532db2d16fc",
   "metadata": {},
   "outputs": [
    {
     "ename": "Exception",
     "evalue": "Age is not less then zero",
     "output_type": "error",
     "traceback": [
      "\u001b[1;31m---------------------------------------------------------------------------\u001b[0m",
      "\u001b[1;31mException\u001b[0m                                 Traceback (most recent call last)",
      "\u001b[1;32mC:\\Users\\MUHAMM~1\\AppData\\Local\\Temp/ipykernel_10932/1688080612.py\u001b[0m in \u001b[0;36m<module>\u001b[1;34m\u001b[0m\n\u001b[0;32m      1\u001b[0m \u001b[0ma\u001b[0m\u001b[1;33m=\u001b[0m\u001b[1;33m-\u001b[0m\u001b[1;36m5\u001b[0m\u001b[1;33m;\u001b[0m\u001b[1;33m\u001b[0m\u001b[1;33m\u001b[0m\u001b[0m\n\u001b[0;32m      2\u001b[0m \u001b[1;32mif\u001b[0m \u001b[0ma\u001b[0m\u001b[1;33m<\u001b[0m\u001b[1;36m0\u001b[0m\u001b[1;33m:\u001b[0m\u001b[1;33m\u001b[0m\u001b[1;33m\u001b[0m\u001b[0m\n\u001b[1;32m----> 3\u001b[1;33m     \u001b[1;32mraise\u001b[0m \u001b[0mException\u001b[0m \u001b[1;33m(\u001b[0m\u001b[1;34m\"Age is not less then zero\"\u001b[0m\u001b[1;33m)\u001b[0m\u001b[1;33m\u001b[0m\u001b[1;33m\u001b[0m\u001b[0m\n\u001b[0m",
      "\u001b[1;31mException\u001b[0m: Age is not less then zero"
     ]
    }
   ],
   "source": [
    "a=-5;\n",
    "if a<0:\n",
    "    raise Exception (\"Age is not less then zero\")"
   ]
  },
  {
   "cell_type": "markdown",
   "id": "13b24a0c-05b7-41dd-926b-bfb84abf05c2",
   "metadata": {},
   "source": [
    "#### Assert Statement:\n",
    "Assert statement is used to stop the program to produce exception in the middle. So the assert statement is written at the begining of the program.\n",
    "- Assert statement recieve the two areguments separated by comma one is the condition and second is the message pass to it. \n",
    "- If the condition become false then it produce exception."
   ]
  },
  {
   "cell_type": "code",
   "execution_count": 17,
   "id": "a511f569-21ff-439e-a66f-d892ddfb0d83",
   "metadata": {},
   "outputs": [
    {
     "ename": "AssertionError",
     "evalue": "Age is not less then zero",
     "output_type": "error",
     "traceback": [
      "\u001b[1;31m---------------------------------------------------------------------------\u001b[0m",
      "\u001b[1;31mAssertionError\u001b[0m                            Traceback (most recent call last)",
      "\u001b[1;32mC:\\Users\\MUHAMM~1\\AppData\\Local\\Temp/ipykernel_10932/1850915270.py\u001b[0m in \u001b[0;36m<module>\u001b[1;34m\u001b[0m\n\u001b[0;32m      1\u001b[0m \u001b[0ma\u001b[0m\u001b[1;33m=\u001b[0m\u001b[1;33m-\u001b[0m\u001b[1;36m5\u001b[0m\u001b[1;33m;\u001b[0m\u001b[1;33m\u001b[0m\u001b[1;33m\u001b[0m\u001b[0m\n\u001b[1;32m----> 2\u001b[1;33m \u001b[1;32massert\u001b[0m \u001b[0ma\u001b[0m \u001b[1;33m>\u001b[0m \u001b[1;36m0\u001b[0m\u001b[1;33m,\u001b[0m\u001b[1;34m\"Age is not less then zero\"\u001b[0m\u001b[1;33m;\u001b[0m\u001b[1;33m\u001b[0m\u001b[1;33m\u001b[0m\u001b[0m\n\u001b[0m",
      "\u001b[1;31mAssertionError\u001b[0m: Age is not less then zero"
     ]
    }
   ],
   "source": [
    "a=-5;\n",
    "assert a > 0,\"Age is not less then zero\";"
   ]
  },
  {
   "cell_type": "markdown",
   "id": "fea4baf1-b0d6-4c80-94f7-e02ca715b8a5",
   "metadata": {},
   "source": [
    "#### Checked Exception:\n",
    "Exception that occur during the comile time i.e function not found, variable not declare. as python is not a compile language so checked exception is not handle.\n",
    "\n",
    "#### Unchecked Exception:\n",
    "Exception that occur at the run time i.e index out of bound. The programmer has to handle the exception otherwise the program stop execution during run time."
   ]
  }
 ],
 "metadata": {
  "kernelspec": {
   "display_name": "Python 3 (ipykernel)",
   "language": "python",
   "name": "python3"
  },
  "language_info": {
   "codemirror_mode": {
    "name": "ipython",
    "version": 3
   },
   "file_extension": ".py",
   "mimetype": "text/x-python",
   "name": "python",
   "nbconvert_exporter": "python",
   "pygments_lexer": "ipython3",
   "version": "3.9.7"
  }
 },
 "nbformat": 4,
 "nbformat_minor": 5
}
